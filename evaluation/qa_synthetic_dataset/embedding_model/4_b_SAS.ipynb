{
 "cells": [
  {
   "cell_type": "code",
   "execution_count": 1,
   "id": "2bcbc1f9-339a-485b-9746-3d45ecc257b5",
   "metadata": {},
   "outputs": [],
   "source": [
    "import os\n",
    "\n",
    "from datasets import load_dataset\n",
    "from ragas.metrics import answer_similarity\n",
    "from ragas import evaluate\n",
    "from langchain.embeddings import HuggingFaceEmbeddings"
   ]
  },
  {
   "cell_type": "code",
   "execution_count": 2,
   "id": "1bdd88d4-7926-4666-80f9-6a8736dbafbd",
   "metadata": {},
   "outputs": [],
   "source": [
    "INPUT_DATASET = \"dariolopez/justicio-BOE-A-1978-31229-constitucion-by-articles-qa-multilingual-e5-large-groq_llama3_70b_8192\""
   ]
  },
  {
   "cell_type": "code",
   "execution_count": 3,
   "id": "f4431f07-2a82-428d-82b4-0cf740cd4f16",
   "metadata": {},
   "outputs": [],
   "source": [
    "EMBEDDING_MODEL_NAMES = [\n",
    "    \"intfloat/multilingual-e5-large\",\n",
    "    \"hiiamsid/sentence_similarity_spanish_es\",\n",
    "    \"sentence-transformers/paraphrase-multilingual-mpnet-base-v2\",\n",
    "    \"dariolopez/roberta-base-bne-finetuned-msmarco-qa-es-mnrl-mn\"\n",
    "]"
   ]
  },
  {
   "cell_type": "code",
   "execution_count": 5,
   "id": "1975b586-349d-481e-aad9-5d7a04a00abf",
   "metadata": {},
   "outputs": [
    {
     "data": {
      "text/plain": [
       "Dataset({\n",
       "    features: ['number', 'context', 'question', 'answer', 'context_qa', 'response_groq_llama3_70b_8192'],\n",
       "    num_rows: 515\n",
       "})"
      ]
     },
     "execution_count": 5,
     "metadata": {},
     "output_type": "execute_result"
    }
   ],
   "source": [
    "dataset = load_dataset(INPUT_DATASET, split='train')\n",
    "dataset"
   ]
  },
  {
   "cell_type": "code",
   "execution_count": 6,
   "id": "29df1e5e-315b-45af-a2da-692480471c2c",
   "metadata": {},
   "outputs": [
    {
     "data": {
      "text/plain": [
       "Dataset({\n",
       "    features: ['number', 'context', 'question', 'ground_truth', 'context_qa', 'answer'],\n",
       "    num_rows: 515\n",
       "})"
      ]
     },
     "execution_count": 6,
     "metadata": {},
     "output_type": "execute_result"
    }
   ],
   "source": [
    "dataset = dataset.rename_column('answer', 'ground_truth')\n",
    "dataset = dataset.rename_column('response_groq_llama3_70b_8192', 'answer')\n",
    "dataset"
   ]
  },
  {
   "cell_type": "code",
   "execution_count": 7,
   "id": "3a7a86cc-f1f6-4a23-8c05-2ce779247081",
   "metadata": {},
   "outputs": [
    {
     "data": {
      "text/plain": [
       "Dataset({\n",
       "    features: ['number', 'context', 'question', 'ground_truth', 'context_qa', 'answer'],\n",
       "    num_rows: 514\n",
       "})"
      ]
     },
     "execution_count": 7,
     "metadata": {},
     "output_type": "execute_result"
    }
   ],
   "source": [
    "# Remove rows with any None value\n",
    "dataset = dataset.filter(lambda example: all(value is not None for value in example.values()))\n",
    "dataset"
   ]
  },
  {
   "cell_type": "code",
   "execution_count": 8,
   "id": "98d1712e-b80b-4f1a-8929-045ccf5922e4",
   "metadata": {},
   "outputs": [
    {
     "data": {
      "application/vnd.jupyter.widget-view+json": {
       "model_id": "a8ed5ad95ce948ff973e14f0cac80e4f",
       "version_major": 2,
       "version_minor": 0
      },
      "text/plain": [
       "Evaluating:   0%|          | 0/514 [00:00<?, ?it/s]"
      ]
     },
     "metadata": {},
     "output_type": "display_data"
    },
    {
     "name": "stdout",
     "output_type": "stream",
     "text": [
      "intfloat/multilingual-e5-large - 0.844112698853668\n"
     ]
    },
    {
     "data": {
      "application/vnd.jupyter.widget-view+json": {
       "model_id": "9e69145bf91b43caae92a9ecaf20b677",
       "version_major": 2,
       "version_minor": 0
      },
      "text/plain": [
       "Evaluating:   0%|          | 0/514 [00:00<?, ?it/s]"
      ]
     },
     "metadata": {},
     "output_type": "display_data"
    },
    {
     "name": "stdout",
     "output_type": "stream",
     "text": [
      "hiiamsid/sentence_similarity_spanish_es - 0.5382654501902947\n"
     ]
    },
    {
     "data": {
      "application/vnd.jupyter.widget-view+json": {
       "model_id": "178a26ee94574b239e4627787c2c113b",
       "version_major": 2,
       "version_minor": 0
      },
      "text/plain": [
       "Evaluating:   0%|          | 0/514 [00:00<?, ?it/s]"
      ]
     },
     "metadata": {},
     "output_type": "display_data"
    },
    {
     "name": "stdout",
     "output_type": "stream",
     "text": [
      "sentence-transformers/paraphrase-multilingual-mpnet-base-v2 - 0.6064446175448456\n"
     ]
    },
    {
     "data": {
      "application/vnd.jupyter.widget-view+json": {
       "model_id": "5ca5ab8021e849028218929da746e2d9",
       "version_major": 2,
       "version_minor": 0
      },
      "text/plain": [
       "Evaluating:   0%|          | 0/514 [00:00<?, ?it/s]"
      ]
     },
     "metadata": {},
     "output_type": "display_data"
    },
    {
     "name": "stdout",
     "output_type": "stream",
     "text": [
      "dariolopez/roberta-base-bne-finetuned-msmarco-qa-es-mnrl-mn - 0.5513332008608809\n"
     ]
    }
   ],
   "source": [
    "for embedding_model_name in EMBEDDING_MODEL_NAMES:\n",
    "    embeddings = HuggingFaceEmbeddings(\n",
    "        model_name=embedding_model_name,\n",
    "        model_kwargs={\"device\": \"cpu\"},\n",
    "    )\n",
    "    score = evaluate(dataset, metrics=[answer_similarity], embeddings=embeddings)\n",
    "    print(f\"{embedding_model_name} - {score['answer_similarity']}\")\n",
    "    dataset = dataset.add_column(f\"{embedding_model_name.split('/')[1]}-sas\", score.scores['answer_similarity'])"
   ]
  },
  {
   "cell_type": "code",
   "execution_count": 9,
   "id": "7132a96a-b692-45b3-8442-072028b4f375",
   "metadata": {},
   "outputs": [
    {
     "data": {
      "text/plain": [
       "Dataset({\n",
       "    features: ['number', 'context', 'question', 'ground_truth', 'context_qa', 'answer', 'multilingual-e5-large-sas', 'sentence_similarity_spanish_es-sas', 'paraphrase-multilingual-mpnet-base-v2-sas', 'roberta-base-bne-finetuned-msmarco-qa-es-mnrl-mn-sas'],\n",
       "    num_rows: 514\n",
       "})"
      ]
     },
     "execution_count": 9,
     "metadata": {},
     "output_type": "execute_result"
    }
   ],
   "source": [
    "dataset"
   ]
  },
  {
   "cell_type": "code",
   "execution_count": 10,
   "id": "8a169cee-b825-4d17-a702-bb3952d445a1",
   "metadata": {},
   "outputs": [],
   "source": [
    "# Definir una función para calcular la media de las columnas especificadas\n",
    "def compute_mean(row):\n",
    "    total = sum(row[f\"{col.split('/')[1]}-sas\"] for col in EMBEDDING_MODEL_NAMES)\n",
    "    row['mean_sas'] = total / len(EMBEDDING_MODEL_NAMES)\n",
    "    return row"
   ]
  },
  {
   "cell_type": "code",
   "execution_count": 11,
   "id": "e186d16d-19eb-4a64-b791-a02bf8e1573e",
   "metadata": {},
   "outputs": [
    {
     "data": {
      "text/plain": [
       "Dataset({\n",
       "    features: ['number', 'context', 'question', 'ground_truth', 'context_qa', 'answer', 'multilingual-e5-large-sas', 'sentence_similarity_spanish_es-sas', 'paraphrase-multilingual-mpnet-base-v2-sas', 'roberta-base-bne-finetuned-msmarco-qa-es-mnrl-mn-sas', 'mean_sas'],\n",
       "    num_rows: 514\n",
       "})"
      ]
     },
     "execution_count": 11,
     "metadata": {},
     "output_type": "execute_result"
    }
   ],
   "source": [
    "dataset = dataset.map(compute_mean)\n",
    "dataset"
   ]
  },
  {
   "cell_type": "code",
   "execution_count": null,
   "id": "66759b24-c1b5-4792-bb79-2638a6213ca1",
   "metadata": {},
   "outputs": [],
   "source": []
  },
  {
   "cell_type": "code",
   "execution_count": 12,
   "id": "6f4d5dd6-3399-4f4c-b524-1c3d95559c4a",
   "metadata": {},
   "outputs": [
    {
     "data": {
      "application/vnd.jupyter.widget-view+json": {
       "model_id": "fdfe541a643d4cfc931fc1e2e35f507b",
       "version_major": 2,
       "version_minor": 0
      },
      "text/plain": [
       "VBox(children=(HTML(value='<center> <img\\nsrc=https://huggingface.co/front/assets/huggingface_logo-noborder.sv…"
      ]
     },
     "metadata": {},
     "output_type": "display_data"
    }
   ],
   "source": [
    "import huggingface_hub\n",
    "\n",
    "huggingface_hub.login()"
   ]
  },
  {
   "cell_type": "code",
   "execution_count": 13,
   "id": "37ffd4b7-0b57-4c8f-a84c-88009ad73860",
   "metadata": {},
   "outputs": [
    {
     "data": {
      "application/vnd.jupyter.widget-view+json": {
       "model_id": "63b72e8b80c74498bcaf3bcb8617136a",
       "version_major": 2,
       "version_minor": 0
      },
      "text/plain": [
       "Uploading the dataset shards:   0%|          | 0/1 [00:00<?, ?it/s]"
      ]
     },
     "metadata": {},
     "output_type": "display_data"
    },
    {
     "data": {
      "application/vnd.jupyter.widget-view+json": {
       "model_id": "821c095dd6974dcbb9f697777fba6d26",
       "version_major": 2,
       "version_minor": 0
      },
      "text/plain": [
       "Creating parquet from Arrow format:   0%|          | 0/1 [00:00<?, ?ba/s]"
      ]
     },
     "metadata": {},
     "output_type": "display_data"
    },
    {
     "data": {
      "application/vnd.jupyter.widget-view+json": {
       "model_id": "22ecd22e2b3f4006912c0d82a81b7d32",
       "version_major": 2,
       "version_minor": 0
      },
      "text/plain": [
       "README.md:   0%|          | 0.00/843 [00:00<?, ?B/s]"
      ]
     },
     "metadata": {},
     "output_type": "display_data"
    },
    {
     "data": {
      "text/plain": [
       "CommitInfo(commit_url='https://huggingface.co/datasets/dariolopez/justicio-BOE-A-1978-31229-constitucion-by-articles-qa-multilingual-e5-large-groq_llama3_70b-sas/commit/8e920e1b0868cd60db8f0386f9c166cc0e31ebb6', commit_message='Upload dataset', commit_description='', oid='8e920e1b0868cd60db8f0386f9c166cc0e31ebb6', pr_url=None, pr_revision=None, pr_num=None)"
      ]
     },
     "execution_count": 13,
     "metadata": {},
     "output_type": "execute_result"
    }
   ],
   "source": [
    "dataset.push_to_hub(\"dariolopez/justicio-BOE-A-1978-31229-constitucion-by-articles-qa-multilingual-e5-large-groq_llama3_70b-sas\")"
   ]
  },
  {
   "cell_type": "code",
   "execution_count": null,
   "id": "374e12ec-71f5-4b32-896f-cc059017ebe4",
   "metadata": {},
   "outputs": [],
   "source": []
  },
  {
   "cell_type": "code",
   "execution_count": null,
   "id": "fccd4cdb-fbd5-496c-9c50-9dc8fb5b3f1f",
   "metadata": {},
   "outputs": [],
   "source": []
  },
  {
   "cell_type": "code",
   "execution_count": 14,
   "id": "ee9d6f06-09f3-4d57-b6d1-77bdefcdab2e",
   "metadata": {},
   "outputs": [
    {
     "data": {
      "text/plain": [
       "0.6350389918624224"
      ]
     },
     "execution_count": 14,
     "metadata": {},
     "output_type": "execute_result"
    }
   ],
   "source": [
    "import numpy as np\n",
    "\n",
    "np.mean(dataset['mean_sas'])"
   ]
  },
  {
   "cell_type": "code",
   "execution_count": null,
   "id": "04a589bf-e453-4a0f-b0e2-233c938941d4",
   "metadata": {},
   "outputs": [],
   "source": []
  }
 ],
 "metadata": {
  "kernelspec": {
   "display_name": "Python 3 (ipykernel)",
   "language": "python",
   "name": "python3"
  },
  "language_info": {
   "codemirror_mode": {
    "name": "ipython",
    "version": 3
   },
   "file_extension": ".py",
   "mimetype": "text/x-python",
   "name": "python",
   "nbconvert_exporter": "python",
   "pygments_lexer": "ipython3",
   "version": "3.10.14"
  }
 },
 "nbformat": 4,
 "nbformat_minor": 5
}
