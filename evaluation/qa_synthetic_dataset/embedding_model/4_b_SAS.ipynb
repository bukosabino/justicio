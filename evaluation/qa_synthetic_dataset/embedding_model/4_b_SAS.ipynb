{
 "cells": [
  {
   "cell_type": "code",
   "execution_count": 1,
   "id": "2bcbc1f9-339a-485b-9746-3d45ecc257b5",
   "metadata": {},
   "outputs": [],
   "source": [
    "import os\n",
    "\n",
    "from datasets import load_dataset\n",
    "from ragas.metrics import answer_similarity\n",
    "from ragas import evaluate\n",
    "from langchain.embeddings import HuggingFaceEmbeddings"
   ]
  },
  {
   "cell_type": "code",
   "execution_count": 2,
   "id": "1bdd88d4-7926-4666-80f9-6a8736dbafbd",
   "metadata": {},
   "outputs": [],
   "source": [
    "INPUT_DATASET = \"dariolopez/justicio-BOE-A-1978-31229-constitucion-by-articles-qa-multilingual-e5-large-groq_llama3_70b_8192\""
   ]
  },
  {
   "cell_type": "code",
   "execution_count": 3,
   "id": "f4431f07-2a82-428d-82b4-0cf740cd4f16",
   "metadata": {},
   "outputs": [],
   "source": [
    "EMBEDDING_MODEL_NAMES = [\n",
    "    \"dariolopez/roberta-base-bne-finetuned-msmarco-qa-es-mnrl-mn\",\n",
    "    \"intfloat/multilingual-e5-large\",\n",
    "    \"BAAI/bge-m3\",\n",
    "    \n",
    "    \"hiiamsid/sentence_similarity_spanish_es\",\n",
    "    \"sentence-transformers/paraphrase-multilingual-mpnet-base-v2\",\n",
    "]"
   ]
  },
  {
   "cell_type": "code",
   "execution_count": 4,
   "id": "1975b586-349d-481e-aad9-5d7a04a00abf",
   "metadata": {},
   "outputs": [
    {
     "data": {
      "text/plain": [
       "Dataset({\n",
       "    features: ['number', 'context', 'question', 'answer', 'context_qa', 'response_groq_llama3_70b_8192'],\n",
       "    num_rows: 515\n",
       "})"
      ]
     },
     "execution_count": 4,
     "metadata": {},
     "output_type": "execute_result"
    }
   ],
   "source": [
    "dataset = load_dataset(INPUT_DATASET, split='train')\n",
    "dataset"
   ]
  },
  {
   "cell_type": "code",
   "execution_count": 5,
   "id": "29df1e5e-315b-45af-a2da-692480471c2c",
   "metadata": {},
   "outputs": [
    {
     "data": {
      "text/plain": [
       "Dataset({\n",
       "    features: ['number', 'context', 'question', 'ground_truth', 'context_qa', 'answer'],\n",
       "    num_rows: 515\n",
       "})"
      ]
     },
     "execution_count": 5,
     "metadata": {},
     "output_type": "execute_result"
    }
   ],
   "source": [
    "dataset = dataset.rename_column('answer', 'ground_truth')\n",
    "dataset = dataset.rename_column('response_groq_llama3_70b_8192', 'answer')\n",
    "dataset"
   ]
  },
  {
   "cell_type": "code",
   "execution_count": 6,
   "id": "3a7a86cc-f1f6-4a23-8c05-2ce779247081",
   "metadata": {},
   "outputs": [
    {
     "data": {
      "text/plain": [
       "Dataset({\n",
       "    features: ['number', 'context', 'question', 'ground_truth', 'context_qa', 'answer'],\n",
       "    num_rows: 514\n",
       "})"
      ]
     },
     "execution_count": 6,
     "metadata": {},
     "output_type": "execute_result"
    }
   ],
   "source": [
    "# Remove rows with any None value\n",
    "dataset = dataset.filter(lambda example: all(value is not None for value in example.values()))\n",
    "dataset"
   ]
  },
  {
   "cell_type": "code",
   "execution_count": 8,
   "id": "98d1712e-b80b-4f1a-8929-045ccf5922e4",
   "metadata": {},
   "outputs": [
    {
     "data": {
      "application/vnd.jupyter.widget-view+json": {
       "model_id": "988b1dfec7b04f5eb0490c16dbbc226b",
       "version_major": 2,
       "version_minor": 0
      },
      "text/plain": [
       "Evaluating:   0%|          | 0/514 [00:00<?, ?it/s]"
      ]
     },
     "metadata": {},
     "output_type": "display_data"
    },
    {
     "name": "stdout",
     "output_type": "stream",
     "text": [
      "dariolopez/roberta-base-bne-finetuned-msmarco-qa-es-mnrl-mn - 0.5513332008608809\n"
     ]
    },
    {
     "data": {
      "application/vnd.jupyter.widget-view+json": {
       "model_id": "d8b1eba4f86c4875b8a6cf0e3d7fdd17",
       "version_major": 2,
       "version_minor": 0
      },
      "text/plain": [
       "Evaluating:   0%|          | 0/514 [00:00<?, ?it/s]"
      ]
     },
     "metadata": {},
     "output_type": "display_data"
    },
    {
     "name": "stdout",
     "output_type": "stream",
     "text": [
      "intfloat/multilingual-e5-large - 0.844112698853668\n"
     ]
    },
    {
     "data": {
      "application/vnd.jupyter.widget-view+json": {
       "model_id": "661981ed10b944f49800650c2e859bb0",
       "version_major": 2,
       "version_minor": 0
      },
      "text/plain": [
       "Evaluating:   0%|          | 0/514 [00:00<?, ?it/s]"
      ]
     },
     "metadata": {},
     "output_type": "display_data"
    },
    {
     "name": "stdout",
     "output_type": "stream",
     "text": [
      "BAAI/bge-m3 - 0.6109291061669163\n"
     ]
    },
    {
     "data": {
      "application/vnd.jupyter.widget-view+json": {
       "model_id": "055b8490a16340e498eb8c5510854707",
       "version_major": 2,
       "version_minor": 0
      },
      "text/plain": [
       "Evaluating:   0%|          | 0/514 [00:00<?, ?it/s]"
      ]
     },
     "metadata": {},
     "output_type": "display_data"
    },
    {
     "name": "stdout",
     "output_type": "stream",
     "text": [
      "hiiamsid/sentence_similarity_spanish_es - 0.538265448142039\n"
     ]
    },
    {
     "data": {
      "application/vnd.jupyter.widget-view+json": {
       "model_id": "48d838e1635f4d2baba02a624c147940",
       "version_major": 2,
       "version_minor": 0
      },
      "text/plain": [
       "Evaluating:   0%|          | 0/514 [00:00<?, ?it/s]"
      ]
     },
     "metadata": {},
     "output_type": "display_data"
    },
    {
     "name": "stdout",
     "output_type": "stream",
     "text": [
      "sentence-transformers/paraphrase-multilingual-mpnet-base-v2 - 0.6064446175448456\n",
      "CPU times: user 2h 9min 56s, sys: 2min, total: 2h 11min 56s\n",
      "Wall time: 18min 6s\n"
     ]
    }
   ],
   "source": [
    "%%time\n",
    "\n",
    "for embedding_model_name in EMBEDDING_MODEL_NAMES:\n",
    "    embeddings = HuggingFaceEmbeddings(\n",
    "        model_name=embedding_model_name,\n",
    "        model_kwargs={\"device\": \"cpu\"},\n",
    "    )\n",
    "    score = evaluate(dataset, metrics=[answer_similarity], embeddings=embeddings)\n",
    "    print(f\"{embedding_model_name} - {score['answer_similarity']}\")\n",
    "    dataset = dataset.add_column(f\"{embedding_model_name.split('/')[1]}-sas\", score.scores['answer_similarity'])"
   ]
  },
  {
   "cell_type": "code",
   "execution_count": 9,
   "id": "7132a96a-b692-45b3-8442-072028b4f375",
   "metadata": {},
   "outputs": [
    {
     "data": {
      "text/plain": [
       "Dataset({\n",
       "    features: ['number', 'context', 'question', 'ground_truth', 'context_qa', 'answer', 'roberta-base-bne-finetuned-msmarco-qa-es-mnrl-mn-sas', 'multilingual-e5-large-sas', 'bge-m3-sas', 'sentence_similarity_spanish_es-sas', 'paraphrase-multilingual-mpnet-base-v2-sas'],\n",
       "    num_rows: 514\n",
       "})"
      ]
     },
     "execution_count": 9,
     "metadata": {},
     "output_type": "execute_result"
    }
   ],
   "source": [
    "dataset"
   ]
  },
  {
   "cell_type": "code",
   "execution_count": 10,
   "id": "8a169cee-b825-4d17-a702-bb3952d445a1",
   "metadata": {},
   "outputs": [],
   "source": [
    "# Definir una función para calcular la media de las columnas especificadas\n",
    "def compute_mean(row):\n",
    "    total = sum(row[f\"{col.split('/')[1]}-sas\"] for col in EMBEDDING_MODEL_NAMES)\n",
    "    row['mean_sas'] = total / len(EMBEDDING_MODEL_NAMES)\n",
    "    return row"
   ]
  },
  {
   "cell_type": "code",
   "execution_count": 11,
   "id": "e186d16d-19eb-4a64-b791-a02bf8e1573e",
   "metadata": {},
   "outputs": [
    {
     "data": {
      "application/vnd.jupyter.widget-view+json": {
       "model_id": "c5f5c1b69ecc4a3ea99b8cc05ba56950",
       "version_major": 2,
       "version_minor": 0
      },
      "text/plain": [
       "Map:   0%|          | 0/514 [00:00<?, ? examples/s]"
      ]
     },
     "metadata": {},
     "output_type": "display_data"
    },
    {
     "data": {
      "text/plain": [
       "Dataset({\n",
       "    features: ['number', 'context', 'question', 'ground_truth', 'context_qa', 'answer', 'roberta-base-bne-finetuned-msmarco-qa-es-mnrl-mn-sas', 'multilingual-e5-large-sas', 'bge-m3-sas', 'sentence_similarity_spanish_es-sas', 'paraphrase-multilingual-mpnet-base-v2-sas', 'mean_sas'],\n",
       "    num_rows: 514\n",
       "})"
      ]
     },
     "execution_count": 11,
     "metadata": {},
     "output_type": "execute_result"
    }
   ],
   "source": [
    "dataset = dataset.map(compute_mean)\n",
    "dataset"
   ]
  },
  {
   "cell_type": "code",
   "execution_count": null,
   "id": "66759b24-c1b5-4792-bb79-2638a6213ca1",
   "metadata": {},
   "outputs": [],
   "source": []
  },
  {
   "cell_type": "code",
   "execution_count": 13,
   "id": "6f4d5dd6-3399-4f4c-b524-1c3d95559c4a",
   "metadata": {},
   "outputs": [
    {
     "data": {
      "application/vnd.jupyter.widget-view+json": {
       "model_id": "3164d9413bd24c0bb7ca142ee9bb7b10",
       "version_major": 2,
       "version_minor": 0
      },
      "text/plain": [
       "VBox(children=(HTML(value='<center> <img\\nsrc=https://huggingface.co/front/assets/huggingface_logo-noborder.sv…"
      ]
     },
     "metadata": {},
     "output_type": "display_data"
    }
   ],
   "source": [
    "import huggingface_hub\n",
    "\n",
    "huggingface_hub.login()"
   ]
  },
  {
   "cell_type": "code",
   "execution_count": 14,
   "id": "37ffd4b7-0b57-4c8f-a84c-88009ad73860",
   "metadata": {},
   "outputs": [
    {
     "data": {
      "application/vnd.jupyter.widget-view+json": {
       "model_id": "28628f80b0c34525a98d86efb1ef3a6c",
       "version_major": 2,
       "version_minor": 0
      },
      "text/plain": [
       "Uploading the dataset shards:   0%|          | 0/1 [00:00<?, ?it/s]"
      ]
     },
     "metadata": {},
     "output_type": "display_data"
    },
    {
     "data": {
      "application/vnd.jupyter.widget-view+json": {
       "model_id": "629a666c9c6640cc93ed387dc0f2c4ea",
       "version_major": 2,
       "version_minor": 0
      },
      "text/plain": [
       "Creating parquet from Arrow format:   0%|          | 0/1 [00:00<?, ?ba/s]"
      ]
     },
     "metadata": {},
     "output_type": "display_data"
    },
    {
     "data": {
      "application/vnd.jupyter.widget-view+json": {
       "model_id": "0f630e7a034e4878831d2ac67256ea17",
       "version_major": 2,
       "version_minor": 0
      },
      "text/plain": [
       "README.md:   0%|          | 0.00/2.83k [00:00<?, ?B/s]"
      ]
     },
     "metadata": {},
     "output_type": "display_data"
    },
    {
     "data": {
      "text/plain": [
       "CommitInfo(commit_url='https://huggingface.co/datasets/dariolopez/justicio-BOE-A-1978-31229-constitucion-by-articles-qa-multilingual-e5-large-groq_llama3_70b-sas/commit/ce2f27896c156f56534b3aa9c789adcbdbb588a2', commit_message='Upload dataset', commit_description='', oid='ce2f27896c156f56534b3aa9c789adcbdbb588a2', pr_url=None, pr_revision=None, pr_num=None)"
      ]
     },
     "execution_count": 14,
     "metadata": {},
     "output_type": "execute_result"
    }
   ],
   "source": [
    "dataset.push_to_hub(\"dariolopez/justicio-BOE-A-1978-31229-constitucion-by-articles-qa-multilingual-e5-large-groq_llama3_70b-sas\")"
   ]
  },
  {
   "cell_type": "code",
   "execution_count": null,
   "id": "374e12ec-71f5-4b32-896f-cc059017ebe4",
   "metadata": {},
   "outputs": [],
   "source": []
  },
  {
   "cell_type": "code",
   "execution_count": null,
   "id": "fccd4cdb-fbd5-496c-9c50-9dc8fb5b3f1f",
   "metadata": {},
   "outputs": [],
   "source": []
  },
  {
   "cell_type": "code",
   "execution_count": 12,
   "id": "ee9d6f06-09f3-4d57-b6d1-77bdefcdab2e",
   "metadata": {},
   "outputs": [
    {
     "data": {
      "text/plain": [
       "0.6302170143136699"
      ]
     },
     "execution_count": 12,
     "metadata": {},
     "output_type": "execute_result"
    }
   ],
   "source": [
    "import numpy as np\n",
    "\n",
    "np.mean(dataset['mean_sas'])"
   ]
  },
  {
   "cell_type": "code",
   "execution_count": null,
   "id": "04a589bf-e453-4a0f-b0e2-233c938941d4",
   "metadata": {},
   "outputs": [],
   "source": []
  }
 ],
 "metadata": {
  "kernelspec": {
   "display_name": "Python 3 (ipykernel)",
   "language": "python",
   "name": "python3"
  },
  "language_info": {
   "codemirror_mode": {
    "name": "ipython",
    "version": 3
   },
   "file_extension": ".py",
   "mimetype": "text/x-python",
   "name": "python",
   "nbconvert_exporter": "python",
   "pygments_lexer": "ipython3",
   "version": "3.10.14"
  }
 },
 "nbformat": 4,
 "nbformat_minor": 5
}
