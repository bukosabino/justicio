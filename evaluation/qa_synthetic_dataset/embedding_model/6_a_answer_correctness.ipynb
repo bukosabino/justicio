{
 "cells": [
  {
   "cell_type": "code",
   "execution_count": 1,
   "id": "ef2599b1-5635-4675-a72f-b9c4fa54c08f",
   "metadata": {},
   "outputs": [],
   "source": [
    "import os\n",
    "from datasets import load_dataset"
   ]
  },
  {
   "cell_type": "code",
   "execution_count": 2,
   "id": "a79b8926-ad66-4884-9e1c-b6e78abecef3",
   "metadata": {},
   "outputs": [],
   "source": [
    "EMBEDDING_MODEL_NAME = \"intfloat/multilingual-e5-large\""
   ]
  },
  {
   "cell_type": "code",
   "execution_count": 3,
   "id": "14a735c6-06cb-44fa-8186-afc49c7cdc18",
   "metadata": {},
   "outputs": [
    {
     "name": "stderr",
     "output_type": "stream",
     "text": [
      "Using the latest cached version of the dataset since dariolopez/justicio-BOE-A-1978-31229-constitucion-by-articles-qa-qa-groq_llama3_70b_8192 couldn't be found on the Hugging Face Hub\n",
      "Found the latest cached dataset configuration 'default' at /home/vant/.cache/huggingface/datasets/dariolopez___justicio-boe-a-1978-31229-constitucion-by-articles-qa-qa-groq_llama3_70b_8192/default/0.0.0/3a3a46039ebfc36a3554740381bea0820a84b5c2 (last modified on Mon Jun  3 16:28:25 2024).\n"
     ]
    }
   ],
   "source": [
    "dataset = load_dataset(\"dariolopez/justicio-BOE-A-1978-31229-constitucion-by-articles-qa-qa-groq_llama3_70b_8192\")"
   ]
  },
  {
   "cell_type": "code",
   "execution_count": 4,
   "id": "8f750ecc-35b6-429b-aaa2-d4e05856daed",
   "metadata": {},
   "outputs": [
    {
     "data": {
      "text/plain": [
       "DatasetDict({\n",
       "    train: Dataset({\n",
       "        features: ['number', 'context', 'question', 'ground_truth', 'context_qa', 'answer'],\n",
       "        num_rows: 515\n",
       "    })\n",
       "})"
      ]
     },
     "execution_count": 4,
     "metadata": {},
     "output_type": "execute_result"
    }
   ],
   "source": [
    "dataset = dataset.rename_column('answer', 'ground_truth')\n",
    "dataset = dataset.rename_column('response_groq_llama3_70b_8192', 'answer')\n",
    "dataset"
   ]
  },
  {
   "cell_type": "code",
   "execution_count": 5,
   "id": "13780376-8e2e-4820-ad79-fbc538bc91a2",
   "metadata": {},
   "outputs": [
    {
     "data": {
      "text/plain": [
       "DatasetDict({\n",
       "    train: Dataset({\n",
       "        features: ['number', 'context', 'question', 'ground_truth', 'context_qa', 'answer', 'contexts'],\n",
       "        num_rows: 515\n",
       "    })\n",
       "})"
      ]
     },
     "execution_count": 5,
     "metadata": {},
     "output_type": "execute_result"
    }
   ],
   "source": [
    "# Define la función de transformación\n",
    "def extract_contexts(ejemplo):\n",
    "    return {'contexts': [d['context'] for d in ejemplo['context_qa']]}\n",
    "\n",
    "# Aplica la transformación\n",
    "dataset = dataset.map(extract_contexts)\n",
    "dataset"
   ]
  },
  {
   "cell_type": "code",
   "execution_count": 6,
   "id": "4d64ba3d-fb34-45f4-9da3-b8d8c725aabe",
   "metadata": {},
   "outputs": [
    {
     "data": {
      "text/plain": [
       "DatasetDict({\n",
       "    train: Dataset({\n",
       "        features: ['number', 'context', 'question', 'ground_truth', 'answer', 'contexts'],\n",
       "        num_rows: 515\n",
       "    })\n",
       "})"
      ]
     },
     "execution_count": 6,
     "metadata": {},
     "output_type": "execute_result"
    }
   ],
   "source": [
    "# Elimina la columna original si es necesario\n",
    "dataset = dataset.remove_columns(['context_qa'])\n",
    "dataset"
   ]
  },
  {
   "cell_type": "code",
   "execution_count": 8,
   "id": "cf0ba5d7-d1ef-4d1c-9b30-73ad6f826fdc",
   "metadata": {},
   "outputs": [],
   "source": [
    "from langchain_groq import ChatGroq\n",
    "\n",
    "llm = ChatGroq(\n",
    "    temperature=0, \n",
    "    groq_api_key=os.environ.get('GROQ_API_KEY'), \n",
    "    # model_name=\"mixtral-8x7b-32768\"\n",
    "    model_name=\"llama3-70b-8192\",    \n",
    ")"
   ]
  },
  {
   "cell_type": "code",
   "execution_count": 9,
   "id": "208457cd-2045-49d0-bc0e-6b5e6c3e5caa",
   "metadata": {},
   "outputs": [],
   "source": [
    "from langchain_core.pydantic_v1 import BaseModel\n",
    "import typing as t\n",
    "\n",
    "class AnswerCorrectnessClassification(BaseModel):\n",
    "    TP: t.List[t.Dict[str, t.Any]]\n",
    "    FP: t.List[t.Dict[str, t.Any]]\n",
    "    FN: t.List[t.Dict[str, t.Any]]"
   ]
  },
  {
   "cell_type": "code",
   "execution_count": 10,
   "id": "8a411610-fa79-4142-85ed-162f6936ab1c",
   "metadata": {},
   "outputs": [],
   "source": [
    "examples=[\n",
    "    {\n",
    "        \"question\": \"\"\"¿Qué potencia el sol y cuál es su función principal?\"\"\",\n",
    "        \"answer\": [\n",
    "            \"El sol es impulsado por la fisión nuclear, similar a los reactores nucleares en la Tierra.\",\n",
    "            \"La función principal del sol es proporcionar luz al sistema solar.\",\n",
    "        ],\n",
    "        \"ground_truth\": [\n",
    "            \"El sol es impulsado por la fusión nuclear, donde los átomos de hidrógeno se fusionan para formar helio.\",\n",
    "            \"Este proceso de fusión en el núcleo del sol libera una cantidad tremenda de energía.\",\n",
    "            \"La energía del sol proporciona calor y luz, que son esenciales para la vida en la Tierra.\",\n",
    "            \"La luz del sol juega un papel crítico en el sistema climático de la Tierra.\",\n",
    "            \"La luz solar ayuda a impulsar el clima y las corrientes oceánicas.\",\n",
    "        ],\n",
    "        \"classification\": AnswerCorrectnessClassification.parse_obj(\n",
    "            {\n",
    "                \"TP\": [\n",
    "                    {\n",
    "                        \"statement\": \"La función principal del sol es proporcionar luz al sistema solar.\",\n",
    "                        \"reason\": \"Esta afirmación está algo respaldada por la verdad fundamental que menciona el sol proporcionando luz y sus roles, aunque se centra más ampliamente en la energía del sol.\",\n",
    "                    }\n",
    "                ],\n",
    "                \"FP\": [\n",
    "                    {\n",
    "                        \"statement\": \"El sol es impulsado por la fisión nuclear, similar a los reactores nucleares en la Tierra.\",\n",
    "                        \"reason\": \"Esta afirmación es incorrecta y contradice la verdad fundamental que indica que el sol es impulsado por la fusión nuclear.\",\n",
    "                    }\n",
    "                ],\n",
    "                \"FN\": [\n",
    "                    {\n",
    "                        \"statement\": \"El sol es impulsado por la fusión nuclear, donde los átomos de hidrógeno se fusionan para formar helio.\",\n",
    "                        \"reason\": \"Esta descripción precisa de la fuente de energía del sol no está incluida en la respuesta.\",\n",
    "                    },\n",
    "                    {\n",
    "                        \"statement\": \"Este proceso de fusión en el núcleo del sol libera una cantidad tremenda de energía.\",\n",
    "                        \"reason\": \"Este proceso y su importancia no se mencionan en la respuesta.\",\n",
    "                    },\n",
    "                    {\n",
    "                        \"statement\": \"La energía del sol proporciona calor y luz, que son esenciales para la vida en la Tierra.\",\n",
    "                        \"reason\": \"La respuesta solo menciona la luz, omitiendo los aspectos esenciales del calor y su necesidad para la vida, que la verdad fundamental cubre.\",\n",
    "                    },\n",
    "                    {\n",
    "                        \"statement\": \"La luz del sol juega un papel crítico en el sistema climático de la Tierra.\",\n",
    "                        \"reason\": \"Este impacto más amplio de la luz del sol en el sistema climático de la Tierra no se aborda en la respuesta.\",\n",
    "                    },\n",
    "                    {\n",
    "                        \"statement\": \"La luz solar ayuda a impulsar el clima y las corrientes oceánicas.\",\n",
    "                        \"reason\": \"El efecto de la luz solar en los patrones climáticos y las corrientes oceánicas se omite en la respuesta.\",\n",
    "                    },\n",
    "                ],\n",
    "            }\n",
    "        ).dict(),\n",
    "    },\n",
    "    {\n",
    "        \"question\": \"\"\"¿Cuál es el punto de ebullición del agua?\"\"\",\n",
    "        \"answer\": [\n",
    "            \"El punto de ebullición del agua es 100 grados Celsius al nivel del mar\"\n",
    "        ],\n",
    "        \"ground_truth\": [\n",
    "            \"El punto de ebullición del agua es 100 grados Celsius (212 grados Fahrenheit) al nivel del mar.\",\n",
    "            \"El punto de ebullición del agua puede cambiar con la altitud.\",\n",
    "        ],\n",
    "        \"classification\": AnswerCorrectnessClassification.parse_obj(\n",
    "            {\n",
    "                \"TP\": [\n",
    "                    {\n",
    "                        \"statement\": \"El punto de ebullición del agua es 100 grados Celsius al nivel del mar\",\n",
    "                        \"reason\": \"Esta afirmación está directamente respaldada por la verdad fundamental que especifica el punto de ebullición del agua como 100 grados Celsius al nivel del mar.\",\n",
    "                    }\n",
    "                ],\n",
    "                \"FP\": [],\n",
    "                \"FN\": [\n",
    "                    {\n",
    "                        \"statement\": \"El punto de ebullición del agua puede cambiar con la altitud.\",\n",
    "                        \"reason\": \"Esta información adicional sobre cómo el punto de ebullición del agua puede variar con la altitud no se menciona en la respuesta.\",\n",
    "                    }\n",
    "                ],\n",
    "            }\n",
    "        ).dict(),\n",
    "    },\n",
    "]"
   ]
  },
  {
   "cell_type": "code",
   "execution_count": 11,
   "id": "e7bff815-62a3-44aa-b83c-af5c924da28f",
   "metadata": {},
   "outputs": [],
   "source": [
    "from ragas.llms.output_parser import get_json_format_instructions\n",
    "\n",
    "_output_instructions = get_json_format_instructions(AnswerCorrectnessClassification)"
   ]
  },
  {
   "cell_type": "code",
   "execution_count": 19,
   "id": "5d04e704-8a12-4e06-be33-f5a893f222c4",
   "metadata": {},
   "outputs": [],
   "source": [
    "from ragas.llms.prompt import Prompt\n",
    "\n",
    "\n",
    "CORRECTNESS_INSTRUCTIONS = \"\"\"\\\n",
    "Dada una verdad fundamental y una respuesta, analice cada afirmación y clasifíquelas en una de las siguientes categorías:\n",
    "\n",
    "- TP (verdadero positivo): afirmaciones presentes en la respuesta que también están respaldadas directamente por una o más afirmaciones de la verdad fundamental,\n",
    "- FP (falso positivo): afirmaciones presentes en la respuesta pero no respaldadas directamente por ninguna afirmación de la verdad fundamental,\n",
    "- FN (falso negativo): afirmaciones presentes en la verdad básica pero no en la respuesta.\n",
    "\n",
    "Cada afirmación sólo puede pertenecer a una de las categorías. Razone cada clasificación.\n",
    "\"\"\"\n",
    "correctness_prompt = Prompt(\n",
    "    name=\"answer_correctness\",\n",
    "    instruction=CORRECTNESS_INSTRUCTIONS,\n",
    "    output_format_instruction=_output_instructions,\n",
    "    # examples=examples,\n",
    "    input_keys=[\"question\", \"answer\", \"ground_truth\"],\n",
    "    output_key=\"classification\",\n",
    "    output_type=\"json\",\n",
    ")"
   ]
  },
  {
   "cell_type": "code",
   "execution_count": 20,
   "id": "2ddaf305-3686-4619-a3e8-7af65f0ec2e8",
   "metadata": {},
   "outputs": [
    {
     "data": {
      "text/plain": [
       "AnswerCorrectness(embeddings=None, llm=None, name='answer_correctness', evaluation_mode=<EvaluationMode.qga: 6>, correctness_prompt=Prompt(name='answer_correctness', instruction='Dada una verdad fundamental y una respuesta, analice cada afirmación y clasifíquelas en una de las siguientes categorías:\\n\\n- TP (verdadero positivo): afirmaciones presentes en la respuesta que también están respaldadas directamente por una o más afirmaciones de la verdad fundamental,\\n- FP (falso positivo): afirmaciones presentes en la respuesta pero no respaldadas directamente por ninguna afirmación de la verdad fundamental,\\n- FN (falso negativo): afirmaciones presentes en la verdad básica pero no en la respuesta.\\n\\nCada afirmación sólo puede pertenecer a una de las categorías. Razone cada clasificación.\\n', output_format_instruction='The output should be a well-formatted JSON instance that conforms to the JSON schema below.\\n\\nAs an example, for the schema {\"properties\": {\"foo\": {\"title\": \"Foo\", \"description\": \"a list of strings\", \"type\": \"array\", \"items\": {\"type\": \"string\"}}}, \"required\": [\"foo\"]}\\nthe object {\"foo\": [\"bar\", \"baz\"]} is a well-formatted instance of the schema. The object {\"properties\": {\"foo\": [\"bar\", \"baz\"]}} is not well-formatted.\\n\\nHere is the output JSON schema:\\n```\\n{\"type\": \"object\", \"properties\": {\"TP\": {\"title\": \"Tp\", \"type\": \"array\", \"items\": {\"type\": \"object\"}}, \"FP\": {\"title\": \"Fp\", \"type\": \"array\", \"items\": {\"type\": \"object\"}}, \"FN\": {\"title\": \"Fn\", \"type\": \"array\", \"items\": {\"type\": \"object\"}}}, \"required\": [\"TP\", \"FP\", \"FN\"]}\\n```\\n\\nDo not return any preamble or explanations, return only a pure JSON string surrounded by triple backticks (```).', examples=[], input_keys=['question', 'answer', 'ground_truth'], output_key='classification', output_type='json', language='english'), weights=[0.75, 0.25], answer_similarity=None, max_retries=1)"
      ]
     },
     "execution_count": 20,
     "metadata": {},
     "output_type": "execute_result"
    }
   ],
   "source": [
    "from ragas.metrics import AnswerCorrectness\n",
    "\n",
    "answer_correctness = AnswerCorrectness(correctness_prompt=correctness_prompt)\n",
    "answer_correctness"
   ]
  },
  {
   "cell_type": "code",
   "execution_count": 21,
   "id": "6bb9e893-485b-4329-9981-e3f1e00b0e79",
   "metadata": {},
   "outputs": [],
   "source": [
    "from langchain.embeddings import HuggingFaceEmbeddings\n",
    "\n",
    "embeddings = HuggingFaceEmbeddings(\n",
    "    model_name=EMBEDDING_MODEL_NAME,\n",
    "    model_kwargs={\"device\": \"cpu\"},\n",
    ")"
   ]
  },
  {
   "cell_type": "code",
   "execution_count": 22,
   "id": "66c4384a-c575-4491-9986-641302e42dbb",
   "metadata": {},
   "outputs": [
    {
     "data": {
      "application/vnd.jupyter.widget-view+json": {
       "model_id": "552c5d379afe4543a6322864a77bbd7c",
       "version_major": 2,
       "version_minor": 0
      },
      "text/plain": [
       "Evaluating:   0%|          | 0/1 [00:00<?, ?it/s]"
      ]
     },
     "metadata": {},
     "output_type": "display_data"
    },
    {
     "name": "stderr",
     "output_type": "stream",
     "text": [
      "Failed to parse output. Returning None.\n",
      "/home/vant/justicio/env3.10/lib/python3.10/site-packages/ragas/evaluation.py:276: RuntimeWarning: Mean of empty slice\n",
      "  value = np.nanmean(self.scores[cn])\n"
     ]
    },
    {
     "name": "stdout",
     "output_type": "stream",
     "text": [
      "0 - nan\n"
     ]
    },
    {
     "data": {
      "application/vnd.jupyter.widget-view+json": {
       "model_id": "69d7ce37b977466b80b72212e7129ada",
       "version_major": 2,
       "version_minor": 0
      },
      "text/plain": [
       "Evaluating:   0%|          | 0/1 [00:00<?, ?it/s]"
      ]
     },
     "metadata": {},
     "output_type": "display_data"
    },
    {
     "name": "stderr",
     "output_type": "stream",
     "text": [
      "Failed to parse output. Returning None.\n",
      "/home/vant/justicio/env3.10/lib/python3.10/site-packages/ragas/evaluation.py:276: RuntimeWarning: Mean of empty slice\n",
      "  value = np.nanmean(self.scores[cn])\n"
     ]
    },
    {
     "name": "stdout",
     "output_type": "stream",
     "text": [
      "1 - nan\n"
     ]
    },
    {
     "data": {
      "application/vnd.jupyter.widget-view+json": {
       "model_id": "041c6c9403654a38a31f2d8d041cd1e7",
       "version_major": 2,
       "version_minor": 0
      },
      "text/plain": [
       "Evaluating:   0%|          | 0/1 [00:00<?, ?it/s]"
      ]
     },
     "metadata": {},
     "output_type": "display_data"
    },
    {
     "name": "stderr",
     "output_type": "stream",
     "text": [
      "Failed to parse output. Returning None.\n",
      "/home/vant/justicio/env3.10/lib/python3.10/site-packages/ragas/evaluation.py:276: RuntimeWarning: Mean of empty slice\n",
      "  value = np.nanmean(self.scores[cn])\n"
     ]
    },
    {
     "name": "stdout",
     "output_type": "stream",
     "text": [
      "2 - nan\n"
     ]
    },
    {
     "data": {
      "application/vnd.jupyter.widget-view+json": {
       "model_id": "6030bd302d7a428a9200485c1eb7a7d8",
       "version_major": 2,
       "version_minor": 0
      },
      "text/plain": [
       "Evaluating:   0%|          | 0/1 [00:00<?, ?it/s]"
      ]
     },
     "metadata": {},
     "output_type": "display_data"
    },
    {
     "name": "stderr",
     "output_type": "stream",
     "text": [
      "Failed to parse output. Returning None.\n",
      "/home/vant/justicio/env3.10/lib/python3.10/site-packages/ragas/evaluation.py:276: RuntimeWarning: Mean of empty slice\n",
      "  value = np.nanmean(self.scores[cn])\n"
     ]
    },
    {
     "name": "stdout",
     "output_type": "stream",
     "text": [
      "3 - nan\n"
     ]
    },
    {
     "data": {
      "application/vnd.jupyter.widget-view+json": {
       "model_id": "a5c6f6709d0940bab72403a94a734d21",
       "version_major": 2,
       "version_minor": 0
      },
      "text/plain": [
       "Evaluating:   0%|          | 0/1 [00:00<?, ?it/s]"
      ]
     },
     "metadata": {},
     "output_type": "display_data"
    },
    {
     "name": "stderr",
     "output_type": "stream",
     "text": [
      "Failed to parse output. Returning None.\n",
      "/home/vant/justicio/env3.10/lib/python3.10/site-packages/ragas/evaluation.py:276: RuntimeWarning: Mean of empty slice\n",
      "  value = np.nanmean(self.scores[cn])\n"
     ]
    },
    {
     "name": "stdout",
     "output_type": "stream",
     "text": [
      "4 - nan\n"
     ]
    },
    {
     "data": {
      "application/vnd.jupyter.widget-view+json": {
       "model_id": "079bd6c45063483bb92beb882dd21aa7",
       "version_major": 2,
       "version_minor": 0
      },
      "text/plain": [
       "Evaluating:   0%|          | 0/1 [00:00<?, ?it/s]"
      ]
     },
     "metadata": {},
     "output_type": "display_data"
    },
    {
     "name": "stderr",
     "output_type": "stream",
     "text": [
      "Failed to parse output. Returning None.\n",
      "/home/vant/justicio/env3.10/lib/python3.10/site-packages/ragas/evaluation.py:276: RuntimeWarning: Mean of empty slice\n",
      "  value = np.nanmean(self.scores[cn])\n"
     ]
    },
    {
     "name": "stdout",
     "output_type": "stream",
     "text": [
      "5 - nan\n"
     ]
    },
    {
     "data": {
      "application/vnd.jupyter.widget-view+json": {
       "model_id": "0fa25d166c1144b5abe592d893051cc9",
       "version_major": 2,
       "version_minor": 0
      },
      "text/plain": [
       "Evaluating:   0%|          | 0/1 [00:00<?, ?it/s]"
      ]
     },
     "metadata": {},
     "output_type": "display_data"
    },
    {
     "name": "stderr",
     "output_type": "stream",
     "text": [
      "Failed to parse output. Returning None.\n",
      "/home/vant/justicio/env3.10/lib/python3.10/site-packages/ragas/evaluation.py:276: RuntimeWarning: Mean of empty slice\n",
      "  value = np.nanmean(self.scores[cn])\n"
     ]
    },
    {
     "name": "stdout",
     "output_type": "stream",
     "text": [
      "6 - nan\n"
     ]
    }
   ],
   "source": [
    "import time\n",
    "from ragas import evaluate\n",
    "from datasets import Dataset\n",
    "\n",
    "\n",
    "scores=[]\n",
    "for idx, row in enumerate(dataset['train']):\n",
    "    time.sleep(20)  # groq limits: https://console.groq.com/settings/limits\n",
    "    row = dataset['train'][idx]\n",
    "    # Crear un nuevo dataset a partir de la fila seleccionada\n",
    "    dataset_aux = Dataset.from_dict({key: [value] for key, value in row.items()})\n",
    "    score = evaluate(dataset_aux, metrics=[answer_correctness], llm=llm, embeddings=embeddings)    \n",
    "    scores.append(score['answer_correctness'])\n",
    "    print(f\"{idx} - {score['answer_correctness']}\")\n",
    "    if idx > 5:\n",
    "        break"
   ]
  },
  {
   "cell_type": "code",
   "execution_count": 23,
   "id": "b3ad0622-f611-4268-882b-c555681bae34",
   "metadata": {},
   "outputs": [
    {
     "data": {
      "text/plain": [
       "nan"
      ]
     },
     "execution_count": 23,
     "metadata": {},
     "output_type": "execute_result"
    }
   ],
   "source": [
    "import numpy as np\n",
    "\n",
    "np.mean(scores)"
   ]
  },
  {
   "cell_type": "code",
   "execution_count": 24,
   "id": "39b2a76c-5f94-4ecb-8884-ff37e38fbaef",
   "metadata": {},
   "outputs": [
    {
     "data": {
      "text/plain": [
       "[nan, nan, nan, nan, nan, nan, nan]"
      ]
     },
     "execution_count": 24,
     "metadata": {},
     "output_type": "execute_result"
    }
   ],
   "source": [
    "scores"
   ]
  },
  {
   "cell_type": "code",
   "execution_count": null,
   "id": "f1168728-12a3-475c-9d79-d35d6083b5bb",
   "metadata": {},
   "outputs": [],
   "source": []
  },
  {
   "cell_type": "code",
   "execution_count": 18,
   "id": "d597a90d-6726-4624-a50c-400b613674ed",
   "metadata": {},
   "outputs": [
    {
     "data": {
      "text/plain": [
       "{'number': 1,\n",
       " 'context': 'Artículo 1\\n1. España se constituye en un Estado social y democrático de Derecho, que propugna como valores superiores de su ordenamiento jurídico la libertad, la justicia, la igualdad y el pluralismo político.\\n\\n2. La soberanía nacional reside en el pueblo español, del que emanan los poderes del Estado.\\n\\n3. La forma política del Estado español es la Monarquía parlamentaria.',\n",
       " 'question': '¿Cuáles son los valores superiores del ordenamiento jurídico en España?',\n",
       " 'ground_truth': 'La libertad, la justicia, la igualdad y el pluralismo político.',\n",
       " 'answer': 'Según la Constitución Española de 1978, los valores superiores del ordenamiento jurídico en España son la justicia, la libertad, la igualdad y el pluralismo político. Estos valores se establecen en el Preámbulo de la Constitución y se desarrollan a lo largo del texto constitucional.\\n\\nEn particular, el artículo 1.1 de la Constitución establece que \"España es un Estado social y democrático de Derecho, que propugna como valores superiores de su ordenamiento jurídico la libertad, la justicia, la igualdad y el pluralismo político\".\\n\\nEstos valores superiores guían la interpretación y aplicación del derecho en España y son la base del ordenamiento jurídico español.',\n",
       " 'contexts': ['1. Se modifica el título de los Estatutos, que queda redactado como sigue:\\n«ESTATUTOS DE LA REAL ACADEMIA DE JURISPRUDENCIA Y LEGISLACIÓN DE ESPAÑA»\\n2. Se modifica el artículo 1, que queda redactado como sigue:\\n«Artículo 1. Naturaleza jurídica.\\nLa Real Academia de Jurisprudencia y Legislación de España, bajo el Alto Patronazgo de Su Majestad El Rey, es una corporación científica de Derecho público de ámbito nacional, dotada de plena capacidad jurídica y capacidad de obrar, integrada en el Instituto de España.»\\n3. Se modifica el artículo 2, que queda redactado como sigue:\\n«Artículo 2. Régimen jurídico.\\nLa Real Academia de Jurisprudencia y Legislación de España se rige por estos Estatutos y por un Reglamento interno aprobado por el Pleno de Académicos de Número.»\\n4. Se modifica el artículo 4, que queda redactado como sigue:\\n«Artículo 4. Defensa.',\n",
       "  'JUAN CARLOS I\\nREY DE ESPAÑA\\n\\n\\nA todos los que la presente vieren y entendieren.\\n\\n\\nSabed: Que las Cortes Generales han aprobado y Yo vengo en sancionar la siguiente Ley.\\n\\n\\nPREÁMBULO\\nI\\n\\n\\nEl ordenamiento jurídico español dispone de una normativa laboral cuya tradición y raigambre histórica han permitido su adaptación a lo largo del tiempo e, incluso, su anticipación respecto de los modernos marcos de relaciones laborales.',\n",
       "  'En este primer ejercicio los demas serán sacados a la suerte de los comprendidos en el Programa redactado por la Dirección General, y que deberá estar publicado antes de la convocatoria de las oposiciones. Este Programa comprenderá una exposición del Derecho positivo vigente en España en cada una de las materias que en él se comprenden, destacando aquéllas que el Notario debe profesionalmente conocer y aplicar. En la parte de Derecho civil se incluirán los principios fundamentales de Derecho Internacional privado. La legislación fiscal comprenderá los impuestos de Derechos reales, Timbre del Estado, Utilidades sobre la renta y Arbitrio municipal de plus valía y, en general, todos aquellos que puedan interesar al Notario como asesor de los particulares o afectarle como contribuyente.',\n",
       "  '7. Resulta, no obstante, que España es un Estado (arts. 1 y 2 CE) y, como tal, está dotado de un ordenamiento jurídico originario, que es uno (art. 147.1 CE in fine), cualesquiera que sean los ordenamientos autonómicos -siempre secundarios o derivados de él- que, como subsistemas, o en la concepción que se prefiera, existan en su seno. Ese ordenamiento jurídico es, por definición, un sistema ordenado; la configuración en su seno de Estatutos de Autonomía con una clara indefinición de su función constitucional o de sus contenidos legítimos, dotados además de la especial rigidez que afirma la Sentencia de la mayoría, producirá en forma inevitable, antinomias o colisiones normativas, que están prohibidas constitucionalmente en todo ordenamiento jurídico.',\n",
       "  '«Artículo 55. Relaciones con otras Academias.\\nLa Real Academia de Jurisprudencia y Legislación de España promoverá la fundación de Academias Correspondientes en los Estados iberoamericanos. Igualmente, promoverá con otras Academias la comunicación de obras y noticias del movimiento bibliográfico y de las reformas legislativas, así como la discusión de cuestiones relacionadas con el Derecho.»\\n25. Se añade una disposición adicional única a los Estatutos, con la siguiente redacción:\\n«Disposición adicional única. Interpretación y aplicación.\\nLos presentes Estatutos de la Real Academia de Jurisprudencia y Legislación de España se interpretarán y aplicarán de acuerdo con lo establecido en la Ley Orgánica 3/2007, de 22 de marzo, para la igualdad efectiva de mujeres y hombres.»\\nDisposición adicional única. Referencias normativas.\\nTodas las referencias del ordenamiento jurídico a la Real Academia de Jurisprudencia y Legislación se entenderán realizadas a la Real Academia de Jurisprudencia y Legislación de España.\\nDisposición final única. Entrada en vigor.\\nEl presente real decreto entrará en vigor el día siguiente al de su publicación en el «Boletín Oficial del Estado».',\n",
       "  '«Artículo 49. Apertura de curso académico.\\nLa Real Academia de Jurisprudencia y Legislación de España celebrará, todos los años, una sesión pública y solemne para la apertura del curso académico. En ella, el Presidente o el Académico de Número que el Pleno designe leerá un discurso de contenido jurídico y el Secretario General dará lectura a una memoria en la que haga un conciso relato de los trabajos científicos y actividades de la Academia durante el curso anterior.»\\n22. Se modifica el artículo 51, que queda redactado como sigue:\\n«Artículo 51. Publicaciones.\\nLa Real Academia de Jurisprudencia y Legislación de España editará su propia revista y los trabajos que estime convenientes.»\\n23. Se modifica el artículo 54, que queda redactado como sigue:\\n«Artículo 54. Medalla de Honor.\\nSe crea la Medalla de Honor de la Real Academia de Jurisprudencia y Legislación de España. Se concederá a las personas físicas o jurídicas que hubieran destacado por su colaboración y ayuda a las actividades de la corporación.»\\n24. Se modifica el artículo 55, que queda redactado como sigue:\\n«Artículo 55. Relaciones con otras Academias.',\n",
       "  'JUAN CARLOS I\\nREY DE ESPAÑA\\nA todos los que la presente vieren y entendieren.\\nSabed: Que las Cortes Generales han aprobado y Yo vengo en sancionar la siguiente Ley.\\nEXPOSICIÓN DE MOTIVOS\\nI\\nLa regulación del régimen de acceso a la profesión de abogado en España es una exigencia derivada de los ar-tículos 17.3 y 24 de la Constitución: estos profesionales son colaboradores fundamentales en la impartición de justicia, y la calidad del servicio que prestan redunda directamente en la tutela judicial efectiva que nuestra Constitución garantiza a la ciudadanía.',\n",
       "  '4. Se modifica el artículo 4, que queda redactado como sigue:\\n«Artículo 4. Defensa.\\nLa defensa de la corporación ante cualesquiera órganos y personas será asumida por los abogados que libremente designe. En casos especiales, la Real Academia de Jurisprudencia y Legislación de España podrá solicitar la colaboración de la Abogacía General del Estado-Dirección del Servicio Jurídico del Estado, mediante la suscripción de un convenio de colaboración en los términos previstos en la Ley 52/1997, de 27 de noviembre, de Asistencia Jurídica al Estado e Instituciones Públicas, y en el Reglamento del Servicio Jurídico del Estado, aprobado por el Real Decreto 997/2003, de 25 de julio.»\\n5. Se modifica el artículo 5, que queda redactado como sigue:\\n«Artículo 5. Fines.\\nLa Real Academia de Jurisprudencia y Legislación de España tiene como fines la investigación y el cultivo del Derecho y ciencias afines y la contribución al perfeccionamiento de la legislación.»\\n6. Se modifica el artículo 7, que queda redactado como sigue:\\n«Artículo 7. Sede.\\nLa Real Academia de Jurisprudencia y Legislación de España tiene su sede en el palacio sito en la calle Marqués de Cubas, número 13, de la Villa de Madrid.»',\n",
       "  'El conocimiento del Derecho propio de Cataluña es una condición inexcusable en quien, como titular de un órgano de la jurisdicción, tiene como función la aplicación del Derecho integrado en el conjunto del Ordenamiento español, en el que se comprenden tanto el Derecho del Estado como las disposiciones de Derecho internacional debidamente incorporadas en aquel conjunto y, obviamente, los Derechos internos de origen y alcance infraestatal, sean los emanados de las Comunidades Autónomas, sean los Derechos civiles forales o especiales reconocidos y amparados por la Constitución. En propiedad, por tanto, la exigencia contenida en el art. 102.2 EAC es perfectamente redundante, pues es obvio que los Jueces y Magistrados españoles deben conocer el Derecho español en todas sus dimensiones y variables, siendo evidente que en ese punto el precepto estatutario no exige nada que no esté ya obligado a exigir, por principio, el legislador orgánico del Poder Judicial, único competente, según tenemos repetido, para la disciplina de los procedimientos de acceso a la Carrera Judicial y de promoción y traslado de quienes en ella se integran.',\n",
       "  'En su virtud, a propuesta del Ministro de Educación, Cultura y Deporte, y previa deliberación del Consejo de Ministros en su reunión del día 20 de octubre de 2017,\\nDISPONGO:\\nArtículo único. Modificación del Real Decreto 1058/2005, de 8 de septiembre, por el que se aprueban los Estatutos de la Real Academia de Jurisprudencia y Legislación.\\nEl Real Decreto 1058/2005, de 8 de septiembre, por el que se aprueban los Estatutos de la Real Academia de Jurisprudencia y Legislación, queda modificado como sigue:\\nUno. Se modifica el título del citado Real Decreto, que pasa a ser el siguiente:\\n«Real Decreto 1058/2005, de 8 de septiembre, por el que se aprueban los Estatutos de la Real Academia de Jurisprudencia y Legislación de España.»\\nDos. Se modifica el artículo único, que queda redactado del siguiente modo:\\n«Artículo único. Aprobación de los Estatutos de la Real Academia de Jurisprudencia y Legislación de España.\\nSe aprueban los Estatutos de la Real Academia de Jurisprudencia y Legislación de España, que se insertan a continuación.»\\nTres. Se modifican los Estatutos de la Real Academia de Jurisprudencia y legislación del siguiente modo:']}"
      ]
     },
     "execution_count": 18,
     "metadata": {},
     "output_type": "execute_result"
    }
   ],
   "source": [
    "dataset['train'][0]"
   ]
  },
  {
   "cell_type": "code",
   "execution_count": null,
   "id": "547e020b-9a46-4205-a520-04c503618837",
   "metadata": {},
   "outputs": [],
   "source": []
  }
 ],
 "metadata": {
  "kernelspec": {
   "display_name": "Python 3 (ipykernel)",
   "language": "python",
   "name": "python3"
  },
  "language_info": {
   "codemirror_mode": {
    "name": "ipython",
    "version": 3
   },
   "file_extension": ".py",
   "mimetype": "text/x-python",
   "name": "python",
   "nbconvert_exporter": "python",
   "pygments_lexer": "ipython3",
   "version": "3.10.14"
  }
 },
 "nbformat": 4,
 "nbformat_minor": 5
}
