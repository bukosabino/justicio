{
 "cells": [
  {
   "cell_type": "markdown",
   "id": "84c3fb20-32be-4263-a664-ea29983c00ed",
   "metadata": {},
   "source": [
    "# Building a dataset to fine-tuning an embedding model\n",
    "\n",
    "Creating a dataset to customize the embedding model (BAAI/bge-m3) for a specific domain (Legal) and language (Spanish)."
   ]
  },
  {
   "cell_type": "markdown",
   "id": "2ace5a8e-5481-497d-94a3-e59753efc159",
   "metadata": {},
   "source": [
    "Based on:\n",
    "\n",
    "- https://www.philschmid.de/sagemaker-train-deploy-embedding-models\n",
    "- https://github.com/virattt/financial-datasets/\n",
    "- https://github.com/virattt/financial-datasets/blob/main/financial_datasets/prompts.py"
   ]
  },
  {
   "cell_type": "code",
   "execution_count": 1,
   "id": "a0c45fab-ffff-48c8-8167-17aac2103121",
   "metadata": {},
   "outputs": [],
   "source": [
    "import os\n",
    "from groq import Groq\n",
    "import json\n",
    "import time\n",
    "\n",
    "from datasets import Dataset"
   ]
  },
  {
   "cell_type": "code",
   "execution_count": 2,
   "id": "fa7a27c9-f024-42eb-8bb5-f40c686b62c3",
   "metadata": {},
   "outputs": [
    {
     "name": "stderr",
     "output_type": "stream",
     "text": [
      "[2024-07-11 14:32:05,451] [16647] [INFO] [root] Initialized logging\n",
      "[2024-07-11 14:32:05,453] [16647] [INFO] [root] Initializing logging\n",
      "[2024-07-11 14:32:05,453] [16647] [INFO] [root] Initialized logging\n"
     ]
    }
   ],
   "source": [
    "import sys\n",
    "sys.path.append(os.path.abspath('../../'))\n",
    "\n",
    "from src.etls.boe.scrapper import BOEScrapper"
   ]
  },
  {
   "cell_type": "markdown",
   "id": "faed70ba-322d-425a-93a9-da44a2017fa3",
   "metadata": {},
   "source": [
    "# Config"
   ]
  },
  {
   "cell_type": "code",
   "execution_count": 3,
   "id": "200e6bb5-6d1c-4b60-8def-df508f322e46",
   "metadata": {},
   "outputs": [],
   "source": [
    "QUESTIONS_PER_DOCUMENT = 100"
   ]
  },
  {
   "cell_type": "code",
   "execution_count": 4,
   "id": "236baeab-e691-4d57-a568-89a4cf38a3b6",
   "metadata": {},
   "outputs": [],
   "source": [
    "OUTPUT_NAME_DATASET = \"dariolopez/justicio-rag-embedding-qa\""
   ]
  },
  {
   "cell_type": "code",
   "execution_count": 5,
   "id": "2e5666d9-bca3-4a7e-93ce-1411c9d1a234",
   "metadata": {},
   "outputs": [],
   "source": [
    "URLS = list(set([\n",
    "    # \n",
    "    \"https://www.boe.es/diario_boe/xml.php?id=BOE-A-2023-12203\",\n",
    "    \"https://www.boe.es/diario_boe/xml.php?id=BOE-A-2015-10565\",\n",
    "    \"https://www.boe.es/diario_boe/xml.php?id=BOE-A-2015-10566\",\n",
    "    \"https://www.boe.es/diario_boe/xml.php?id=BOE-A-2015-11719\",\n",
    "    \"https://www.boe.es/diario_boe/xml.php?id=BOE-A-1985-5392\",\n",
    "    \"https://www.boe.es/diario_boe/xml.php?id=BOE-A-2015-11719\",\n",
    "    \"https://www.boe.es/diario_boe/xml.php?id=BOE-A-2013-12887\",\n",
    "    \"https://www.boe.es/diario_boe/xml.php?id=BOE-A-2018-16673\",\n",
    "    \"https://www.boe.es/diario_boe/xml.php?id=BOE-A-2006-21990\",\n",
    "    \"https://www.boe.es/diario_boe/xml.php?id=BOE-A-2017-657\",\n",
    "    \"https://www.boe.es/diario_boe/xml.php?id=BOE-A-2007-6115\",\n",
    "    \"https://www.boe.es/diario_boe/xml.php?id=BOE-A-2004-21760\",\n",
    "    \"https://www.boe.es/diario_boe/xml.php?id=BOE-A-2021-9347\",\n",
    "    \"https://www.boe.es/diario_boe/xml.php?id=BOE-A-2021-21007\",\n",
    "    \"https://www.boe.es/diario_boe/xml.php?id=BOJA-b-2017-90529\",\n",
    "    \"https://www.boe.es/diario_boe/xml.php?id=BOE-A-2013-12632\",\n",
    "    \"https://www.boe.es/diario_boe/xml.php?id=BOE-A-2000-544\",\n",
    "    \"https://www.boe.es/diario_boe/xml.php?id=BOE-A-2015-11072\",\n",
    "    \"https://www.boe.es/diario_boe/xml.php?id=BOE-A-1978-31229\",\n",
    "    # \n",
    "    \"https://www.boe.es/diario_boe/xml.php?id=BOE-A-1995-24292\",\n",
    "    \"https://www.boe.es/diario_boe/xml.php?id=BOE-A-2008-2493\",\n",
    "    \"https://www.boe.es/diario_boe/xml.php?id=BOE-A-2008-2492\",\n",
    "    \"https://www.boe.es/diario_boe/xml.php?id=BOE-A-2014-7534\",\n",
    "    \"https://www.boe.es/diario_boe/xml.php?id=BOE-A-2021-9347\",\n",
    "    \"https://www.boe.es/diario_boe/xml.php?id=BOE-A-1999-19448\",\n",
    "    \"https://www.boe.es/diario_boe/xml.php?id=BOE-A-2013-12632\",\n",
    "    \"https://www.boe.es/diario_boe/xml.php?id=BOE-A-2021-13605\",\n",
    "    \"https://www.boe.es/diario_boe/xml.php?id=BOE-A-2023-12203\",\n",
    "    \"https://www.boe.es/diario_boe/xml.php?id=BOE-A-2023-5366\",\n",
    "    \"https://www.boe.es/diario_boe/xml.php?id=BOE-A-2022-11589\",\n",
    "    \"https://www.boe.es/diario_boe/xml.php?id=BOE-A-2015-11724\",\n",
    "    \"https://www.boe.es/diario_boe/xml.php?id=BOE-A-2011-15623\",\n",
    "    \"https://www.boe.es/diario_boe/xml.php?id=BOE-A-1986-10499\",\n",
    "    \"https://www.boe.es/diario_boe/xml.php?id=BOE-A-2020-17264\",\n",
    "    \"https://www.boe.es/diario_boe/xml.php?id=BOE-A-2023-16066\",\n",
    "    \"https://www.boe.es/diario_boe/xml.php?id=BOE-A-2007-5825\",\n",
    "    \"https://www.boe.es/diario_boe/xml.php?id=BOE-A-2022-14630\",\n",
    "    \"https://www.boe.es/diario_boe/xml.php?id=BOJA-b-2024-90030\",\n",
    "    \"https://www.boe.es/diario_boe/xml.php?id=BOE-A-2001-12716\",\n",
    "    \"https://www.boe.es/diario_boe/xml.php?id=BOE-A-2009-5491\",\n",
    "    \"https://www.boe.es/diario_boe/xml.php?id=BOE-A-2003-771\",\n",
    "    \"https://www.boe.es/diario_boe/xml.php?id=BOE-A-2017-12902\",\n",
    "    \"https://www.boe.es/diario_boe/xml.php?id=BOE-A-2003-20254\",\n",
    "    \"https://www.boe.es/diario_boe/xml.php?id=BOE-A-2004-4214\"\n",
    "]))"
   ]
  },
  {
   "cell_type": "code",
   "execution_count": 6,
   "id": "d73e22e3-804a-41a8-87b3-cf6267199d04",
   "metadata": {},
   "outputs": [],
   "source": [
    "URLS.remove(\"https://www.boe.es/diario_boe/xml.php?id=BOE-A-2023-12203\")\n",
    "URLS.insert(0, \"https://www.boe.es/diario_boe/xml.php?id=BOE-A-2023-12203\")"
   ]
  },
  {
   "cell_type": "code",
   "execution_count": 7,
   "id": "009ee206-de1a-4b6a-b955-ecd695db7c2d",
   "metadata": {},
   "outputs": [
    {
     "data": {
      "text/plain": [
       "'https://www.boe.es/diario_boe/xml.php?id=BOE-A-2023-12203'"
      ]
     },
     "execution_count": 7,
     "metadata": {},
     "output_type": "execute_result"
    }
   ],
   "source": [
    "URLS[0]"
   ]
  },
  {
   "cell_type": "code",
   "execution_count": 8,
   "id": "e29bcf6d-56c4-40f6-9389-cda0c0f8132c",
   "metadata": {},
   "outputs": [
    {
     "data": {
      "text/plain": [
       "40"
      ]
     },
     "execution_count": 8,
     "metadata": {},
     "output_type": "execute_result"
    }
   ],
   "source": [
    "len(URLS)"
   ]
  },
  {
   "cell_type": "code",
   "execution_count": 9,
   "id": "7d5902a9-c773-4fb7-941c-b98af52648e7",
   "metadata": {},
   "outputs": [],
   "source": [
    "SYSTEM_PROMPT = \"\"\"\n",
    "Como un experto en derecho y leyes españolas, tu tarea es crear preguntas y respuestas sobre el Boletín Oficial del Estado (BOE) de España.\n",
    "\n",
    "Tu tarea consiste en crear pares de preguntas y respuestas independientes, sin referencia a ningún documento concreto. \n",
    "\n",
    "Estas preguntas y respuestas se utilizarán de forma independiente en futuras aplicaciones como la evaluación y el ajuste de LLM, en las que no se dispondrá de ningún documento de referencia.\n",
    "\n",
    "Sigue las siguientes reglas:\n",
    "\n",
    "1. Derivación directa: Las respuestas deben derivarse directamente del contenido proporcionado.\n",
    "2. Preguntas autónomas: Asegúrate de que las preguntas se pueden responder completamente a partir de la información proporcionada y no implican la existencia de un documento más amplio.\n",
    "3. Claridad y precisión: Las preguntas deben ser claras, precisas y no ambiguas.\n",
    "4. Referencias prohibidas: Evita explícitamente frases como \"según el documento\", “según el capítulo”, \"en el texto\", \"como se menciona en el artículo\", o cualquier implicación de textos externos. No construyas preguntas que requieran conocer la estructura del documento o la ubicación de la información en el mismo.\n",
    "5. Inclusión del contexto: Incluya la información específica del contenido que apoya la respuesta. El contexto debe permitir que la respuesta sea independiente de cualquier texto externo.\n",
    "6. Suficiencia de la información: Si el contenido carece de información suficiente para formar una pareja completa de pregunta-respuesta, no fuerces una.\n",
    "7. Respuestas originales: Crea las respuestas con tus propias palabras; no se permite la copia directa del contenido.\n",
    "8. Asegúrate de responder siempre en español.\n",
    "9. El contexto debería tener una longitud aproximada de 1000 caracteres. \n",
    "\n",
    "Salida:\n",
    "\n",
    "La salida tendrá el siguiente formato JSON:\n",
    "\n",
    "```\n",
    "[\n",
    "    {\n",
    "        \"question\": \"texto para la pregunta\",\n",
    "        “context”: \"texto para el contexto\",\n",
    "        \"answer\": \"texto para la respuesta\"\n",
    "    },\n",
    "    {\n",
    "        \"question\": \"texto para la pregunta\",\n",
    "        “context”: \"texto para el contexto\",\n",
    "        \"answer\": \"texto para la respuesta\"\n",
    "    }\n",
    "]\n",
    "```\n",
    "\n",
    "En la salida NO incluyas ningún texto extra, CONTESTA exclusivamente en formato JSON.\n",
    "\n",
    "Ejemplo de salida bien generada:\n",
    "\n",
    "```\n",
    "[\n",
    "    {\n",
    "        \"question\": \"¿Cuál es el papel de la Unión Europea en la política de vivienda?\",\n",
    "        \"context\": \"El artículo 19 del Pilar Europeo de derechos sociales, incorpora la vivienda entre los principios y los derechos esenciales para el funcionamiento de los sistemas de bienestar europeo y, por último, la Carta de los Derechos Fundamentales de la Unión Europea aprobada por el Parlamento, el Consejo y la Comisión Europea el 7 de diciembre de 2000 establece en su artículo 34.3 que «con el fin de combatir la exclusión social y la pobreza, la Unión reconoce y respeta el derecho a una ayuda social y a una ayuda de vivienda para garantizar una existencia digna a todos aquellos que no dispongan de recursos suficientes».\",\n",
    "        \"answer\": \"La Unión Europea ha avanzado en el reconocimiento del derecho a la vivienda de toda persona, y ha establecido principios y derechos esenciales para el funcionamiento de los sistemas de bienestar europeo.\"\n",
    "    },\n",
    "    {\n",
    "        \"question\": \"¿Qué sucede si el acreedor hipotecario es un gran tenedor de vivienda?\",\n",
    "        \"context\": \"En el caso de que el acreedor hipotecario sea un gran tenedor de vivienda, el inmueble objeto de demanda sea la vivienda habitual del deudor hipotecario y se tenga constancia, conforme a los apartados anteriores, que éste se encuentra en situación de vulnerabilidad económica, no se admitirán las demandas de ejecución hipotecaria en las que no se acredite que la parte actora se ha sometido al procedimiento de conciliación o intermediación que a tal efecto establezcan las Administraciones Públicas competentes, en base al análisis de las circunstancias de ambas partes y de las posibles ayudas y subvenciones existentes conforme a la legislación y normativa autonómica en materia de vivienda.\",\n",
    "        \"answer\": \"No se admitirán las demandas de ejecución hipotecaria si no se acredita que la parte actora se ha sometido al procedimiento de conciliación o intermediación.\"\n",
    "    },\n",
    "    {\n",
    "        \"question\": \"¿Cuál es el requisito para acreditar la concurrencia o no de vulnerabilidad económica de la parte ejecutada?\",\n",
    "        \"context\": \"Para acreditar la concurrencia o no de vulnerabilidad económica de la parte ejecutada se deberá aportar documento acreditativo, de vigencia no superior a tres meses, emitido, previo consentimiento de éste, por los servicios de las Administraciones autonómicas y locales competentes en materia de vivienda, asistencia social, evaluación e información de situaciones de necesidad social y atención inmediata a personas en situación o riesgo de exclusión social que hayan sido específicamente designados conforme a la legislación y normativa autonómica en materia de vivienda.\",\n",
    "        \"answer\": \"Un documento acreditativo emitido por los servicios competentes, con una vigencia no superior a tres meses.\"\n",
    "    }\n",
    "]\n",
    "```\n",
    "\n",
    "Ejemplo de salida mal generada:\n",
    "```\n",
    "Aquí te dejo 9 tripletas de pregunta/respuesta/contexto sobre el bloque de texto proporcionado:\n",
    "[\n",
    "    {\n",
    "        \"Pregunta\": \"...\",\n",
    "        \"Respuesta\": \"\",\n",
    "        \"Contexto\": \"...\"\n",
    "    },\n",
    "    {\n",
    "        'question': '¿Qué tipo de viviendas se promueven en zonas de mercado residencial tensionado?',\n",
    "        'context': 'Artículo 17. Vivienda asequible incentivada.',\n",
    "        'answer': 'Viviendas asequibles incentivadas.'\n",
    "    },\n",
    "    {\n",
    "        \"question\": \"¿Cuál es el derecho constitucional que se reconoce en el artículo 47 de la Constitución Española?\",\n",
    "        \"context\": \"La Constitución española (CE) reconoce, en su artículo 47, el derecho al disfrute de una vivienda digna y adecuada e impone seguidamente a los poderes públicos el deber de promover las condiciones necesarias que garanticen la igualdad en el ejercicio de los derechos y el cumplimiento de los deberes constitucionales.\",\n",
    "        \"answer\": \"El derecho al disfrute de una vivienda digna y adecuada.\"\n",
    "    },\n",
    "]\n",
    "```\n",
    "\n",
    "NUNCA menciones las palabras \"documento\", \"texto\", \"presentación\", \"archivo\", \"tabla\", “artículo”, \"ley\", “capítulo”, “preámbulo”, “título preliminar”, “disposición” o “disposiciones generales” en sus preguntas o respuestas.\n",
    "\n",
    "Asegúrate SIEMPRE de que todas las preguntas y respuestas sean precisas, autónomas y pertinentes, sin basarse en ningún documento o texto original ni insinuar su existencia, evitando estrictamente cualquier invención o especulación.\n",
    "\n",
    "Asegúrate SIEMPRE de que la respuesta esté contenida en el contexto.\n",
    "\"\"\""
   ]
  },
  {
   "cell_type": "code",
   "execution_count": 11,
   "id": "6ed32c94-1745-4168-9ed3-b29f4b2e6092",
   "metadata": {},
   "outputs": [],
   "source": [
    "client = Groq(\n",
    "    api_key=os.environ.get('GROQ_API_KEY'),\n",
    ")"
   ]
  },
  {
   "cell_type": "code",
   "execution_count": 12,
   "id": "71e3b9b3-9339-411d-a679-81d4901fab18",
   "metadata": {},
   "outputs": [],
   "source": [
    "# groq limits: https://console.groq.com/settings/limits\n",
    "\n",
    "def split_text_into_parts(text, part_size):\n",
    "    parts = []\n",
    "    start = 0\n",
    "    while start < len(text):\n",
    "        end = start + part_size\n",
    "        parts.append(text[start:end])\n",
    "        start = end\n",
    "    return parts"
   ]
  },
  {
   "cell_type": "code",
   "execution_count": 13,
   "id": "a734dd01-057e-493f-ba44-860ceea517e6",
   "metadata": {},
   "outputs": [
    {
     "name": "stderr",
     "output_type": "stream",
     "text": [
      "[2024-07-11 14:32:05,614] [16647] [INFO] [download_document] Scrapping document: https://www.boe.es/diario_boe/xml.php?id=BOE-A-2003-771\n",
      "/home/vant/justicio/env3.10/lib/python3.10/site-packages/bs4/builder/__init__.py:545: XMLParsedAsHTMLWarning: It looks like you're parsing an XML document using an HTML parser. If this really is an HTML document (maybe it's XHTML?), you can ignore or filter this warning. If it's XML, you should know that using an XML parser will be more reliable. To parse this document as XML, make sure you have the lxml package installed, and pass the keyword argument `features=\"xml\"` into the BeautifulSoup constructor.\n",
      "  warnings.warn(\n",
      "[2024-07-11 14:32:05,906] [16647] [INFO] [download_eli_document] Scrapping consolidated text (eli) from document: https://www.boe.es/eli/es-an/l/2002/12/16/5\n",
      "[2024-07-11 14:32:06,478] [16647] [INFO] [download_eli_document] Scrapped consolidated text (eli) successfully from document: https://www.boe.es/eli/es-an/l/2002/12/16/5\n",
      "[2024-07-11 14:32:06,480] [16647] [INFO] [download_document] Scrapped document successfully https://www.boe.es/eli/es-an/l/2002/12/16/5\n"
     ]
    },
    {
     "name": "stdout",
     "output_type": "stream",
     "text": [
      "The document https://www.boe.es/diario_boe/xml.php?id=BOE-A-2003-771 was splitted on 2 texts\n",
      "Generating 16 questions\n",
      "Generating 16 questions\n"
     ]
    },
    {
     "name": "stderr",
     "output_type": "stream",
     "text": [
      "[2024-07-11 14:34:35,175] [16647] [INFO] [download_document] Scrapping document: https://www.boe.es/diario_boe/xml.php?id=BOE-A-2020-17264\n",
      "/home/vant/justicio/env3.10/lib/python3.10/site-packages/bs4/builder/__init__.py:545: XMLParsedAsHTMLWarning: It looks like you're parsing an XML document using an HTML parser. If this really is an HTML document (maybe it's XHTML?), you can ignore or filter this warning. If it's XML, you should know that using an XML parser will be more reliable. To parse this document as XML, make sure you have the lxml package installed, and pass the keyword argument `features=\"xml\"` into the BeautifulSoup constructor.\n",
      "  warnings.warn(\n",
      "[2024-07-11 14:34:35,780] [16647] [INFO] [download_eli_document] Scrapping consolidated text (eli) from document: https://www.boe.es/eli/es/lo/2020/12/29/3\n",
      "[2024-07-11 14:34:36,693] [16647] [INFO] [download_eli_document] Scrapped consolidated text (eli) successfully from document: https://www.boe.es/eli/es/lo/2020/12/29/3\n",
      "[2024-07-11 14:34:36,695] [16647] [INFO] [download_document] Scrapped document successfully https://www.boe.es/eli/es/lo/2020/12/29/3\n"
     ]
    },
    {
     "name": "stdout",
     "output_type": "stream",
     "text": [
      "The document https://www.boe.es/diario_boe/xml.php?id=BOE-A-2020-17264 was splitted on 20 texts\n",
      "Generating 5 questions\n",
      "Generating 5 questions\n",
      "Generating 5 questions\n",
      "Generating 5 questions\n",
      "Generating 5 questions\n",
      "Generating 5 questions\n",
      "Generating 5 questions\n",
      "Generating 5 questions\n",
      "Generating 5 questions\n",
      "Generating 5 questions\n",
      "Generating 5 questions\n",
      "Generating 5 questions\n",
      "Generating 5 questions\n",
      "Generating 5 questions\n",
      "Generating 5 questions\n",
      "Generating 5 questions\n",
      "Generating 5 questions\n",
      "Generating 5 questions\n",
      "Generating 5 questions\n",
      "Generating 5 questions\n"
     ]
    },
    {
     "name": "stderr",
     "output_type": "stream",
     "text": [
      "[2024-07-11 14:58:07,806] [16647] [INFO] [download_document] Scrapping document: https://www.boe.es/diario_boe/xml.php?id=BOE-A-2015-11724\n",
      "[2024-07-11 14:58:09,012] [16647] [INFO] [download_eli_document] Scrapping consolidated text (eli) from document: https://www.boe.es/eli/es/rdlg/2015/10/30/8\n",
      "[2024-07-11 14:58:10,387] [16647] [INFO] [download_eli_document] Scrapped consolidated text (eli) successfully from document: https://www.boe.es/eli/es/rdlg/2015/10/30/8\n",
      "[2024-07-11 14:58:10,389] [16647] [INFO] [download_document] Scrapped document successfully https://www.boe.es/eli/es/rdlg/2015/10/30/8\n"
     ]
    },
    {
     "name": "stdout",
     "output_type": "stream",
     "text": [
      "The document https://www.boe.es/diario_boe/xml.php?id=BOE-A-2015-11724 was splitted on 52 texts\n",
      "Generating 1 questions\n",
      "Generating 1 questions\n",
      "Generating 1 questions\n",
      "Generating 1 questions\n",
      "Generating 1 questions\n",
      "Generating 1 questions\n",
      "Generating 1 questions\n",
      "Generating 1 questions\n",
      "Generating 1 questions\n",
      "Generating 1 questions\n",
      "Generating 1 questions\n",
      "Generating 1 questions\n",
      "Generating 1 questions\n",
      "Generating 1 questions\n",
      "Generating 1 questions\n",
      "Generating 1 questions\n",
      "Generating 1 questions\n",
      "Generating 1 questions\n",
      "Generating 1 questions\n",
      "Generating 1 questions\n",
      "Generating 1 questions\n",
      "Generating 1 questions\n",
      "Generating 1 questions\n",
      "Generating 1 questions\n",
      "Generating 1 questions\n",
      "Generating 1 questions\n",
      "Generating 1 questions\n",
      "Generating 1 questions\n",
      "Generating 1 questions\n",
      "Generating 1 questions\n",
      "Generating 1 questions\n",
      "Generating 1 questions\n",
      "Generating 1 questions\n",
      "Generating 1 questions\n",
      "Generating 1 questions\n",
      "Se ha producido una excepción: Extra data: line 1 column 708 (char 707)\n",
      "Wrong generated on url https://www.boe.es/diario_boe/xml.php?id=BOE-A-2015-11724\n",
      "[\n",
      "    {\n",
      "        \"question\": \"¿Cuál es el requisito para ser beneficiario del subsidio por desempleo?\",\n",
      "        \"context\": \"Serán beneficiarios del subsidio los desempleados que, figurando inscritos como demandantes de empleo durante el plazo de un mes, sin haber rechazado oferta de empleo adecuada ni haberse negado a participar, salvo causa justificada, en acciones de promoción, formación o reconversión profesionales, carezcan de rentas en los términos establecidos en el artículo siguiente y se encuentren en alguna de las siguientes situaciones:\",\n",
      "        \"answer\": \"Estar inscrito como demandante de empleo durante un mes, carecer de rentas y encontrarse en alguna de las situaciones establecidas.\"\n",
      "    }\n",
      "]\n",
      "Note: I've generated only one triplet for the given text. If you want me to generate more, please let me know!\n",
      "Generating 1 questions\n",
      "Generating 1 questions\n",
      "Generating 1 questions\n",
      "Generating 1 questions\n",
      "Se ha producido una excepción: Extra data: line 1 column 756 (char 755)\n",
      "Wrong generated on url https://www.boe.es/diario_boe/xml.php?id=BOE-A-2015-11724\n",
      "[\n",
      "    {\n",
      "        \"question\": \"¿Quiénes están incluidos en el régimen especial de los trabajadores por cuenta propia o autónomos?\",\n",
      "        \"context\": \"a) Los trabajadores incluidos en el Sistema Especial para Trabajadores por Cuenta Propia Agrarios. b) Quienes ejerzan las funciones de dirección y gerencia que conlleva el desempeño del cargo de consejero o administrador, o presten otros servicios para una sociedad de capital, a título lucrativo y de forma habitual, personal y directa, siempre que posean el control efectivo, directo o indirecto, de aquella.\",\n",
      "        \"answer\": \"Trabajadores incluidos en el Sistema Especial para Trabajadores por Cuenta Propia Agrarios y quienes ejerzan funciones de dirección y gerencia en una sociedad de capital.\"\n",
      "    }\n",
      "]\n",
      "Note: I've generated only one triplet for the given text. If you want me to generate more, please let me know!\n",
      "Generating 1 questions\n",
      "Generating 1 questions\n",
      "Generating 1 questions\n",
      "Generating 1 questions\n",
      "Generating 1 questions\n",
      "Generating 1 questions\n",
      "Generating 1 questions\n",
      "Generating 1 questions\n",
      "Generating 1 questions\n",
      "Generating 1 questions\n",
      "Generating 1 questions\n",
      "Generating 1 questions\n",
      "Generating 1 questions\n"
     ]
    },
    {
     "name": "stderr",
     "output_type": "stream",
     "text": [
      "[2024-07-11 15:58:59,838] [16647] [INFO] [download_document] Scrapping document: https://www.boe.es/diario_boe/xml.php?id=BOE-A-2015-11072\n",
      "[2024-07-11 15:59:00,302] [16647] [INFO] [download_eli_document] Scrapping consolidated text (eli) from document: https://www.boe.es/eli/es/l/2015/10/14/45\n",
      "[2024-07-11 15:59:01,133] [16647] [INFO] [download_eli_document] Scrapped consolidated text (eli) successfully from document: https://www.boe.es/eli/es/l/2015/10/14/45\n",
      "[2024-07-11 15:59:01,134] [16647] [INFO] [download_document] Scrapped document successfully https://www.boe.es/eli/es/l/2015/10/14/45\n"
     ]
    },
    {
     "name": "stdout",
     "output_type": "stream",
     "text": [
      "The document https://www.boe.es/diario_boe/xml.php?id=BOE-A-2015-11072 was splitted on 5 texts\n",
      "Generating 16 questions\n",
      "Generating 16 questions\n",
      "Generating 16 questions\n",
      "Generating 16 questions\n",
      "Generating 16 questions\n"
     ]
    },
    {
     "name": "stderr",
     "output_type": "stream",
     "text": [
      "[2024-07-11 16:05:12,963] [16647] [INFO] [download_document] Scrapping document: https://www.boe.es/diario_boe/xml.php?id=BOE-A-2008-2492\n",
      "[2024-07-11 16:05:13,289] [16647] [INFO] [download_eli_document] Scrapping consolidated text (eli) from document: https://www.boe.es/eli/es-an/l/2007/11/26/12\n",
      "[2024-07-11 16:05:14,085] [16647] [INFO] [download_eli_document] Scrapped consolidated text (eli) successfully from document: https://www.boe.es/eli/es-an/l/2007/11/26/12\n",
      "[2024-07-11 16:05:14,087] [16647] [INFO] [download_document] Scrapped document successfully https://www.boe.es/eli/es-an/l/2007/11/26/12\n"
     ]
    },
    {
     "name": "stdout",
     "output_type": "stream",
     "text": [
      "The document https://www.boe.es/diario_boe/xml.php?id=BOE-A-2008-2492 was splitted on 5 texts\n",
      "Generating 16 questions\n",
      "Generating 16 questions\n",
      "Generating 16 questions\n",
      "Generating 16 questions\n",
      "Generating 16 questions\n"
     ]
    },
    {
     "name": "stderr",
     "output_type": "stream",
     "text": [
      "[2024-07-11 16:11:27,543] [16647] [INFO] [download_document] Scrapping document: https://www.boe.es/diario_boe/xml.php?id=BOE-A-1985-5392\n",
      "[2024-07-11 16:11:28,178] [16647] [INFO] [download_eli_document] Scrapping consolidated text (eli) from document: https://www.boe.es/eli/es/l/1985/04/02/7\n",
      "[2024-07-11 16:11:29,598] [16647] [INFO] [download_eli_document] Scrapped consolidated text (eli) successfully from document: https://www.boe.es/eli/es/l/1985/04/02/7\n",
      "[2024-07-11 16:11:29,599] [16647] [INFO] [download_document] Scrapped document successfully https://www.boe.es/eli/es/l/1985/04/02/7\n"
     ]
    },
    {
     "name": "stdout",
     "output_type": "stream",
     "text": [
      "The document https://www.boe.es/diario_boe/xml.php?id=BOE-A-1985-5392 was splitted on 11 texts\n",
      "Generating 9 questions\n",
      "Generating 9 questions\n",
      "Generating 9 questions\n",
      "Generating 9 questions\n",
      "Generating 9 questions\n",
      "Generating 9 questions\n",
      "Generating 9 questions\n",
      "Generating 9 questions\n",
      "Generating 9 questions\n",
      "Generating 9 questions\n",
      "Generating 9 questions\n"
     ]
    },
    {
     "name": "stderr",
     "output_type": "stream",
     "text": [
      "[2024-07-11 16:24:40,809] [16647] [INFO] [download_document] Scrapping document: https://www.boe.es/diario_boe/xml.php?id=BOE-A-2021-9347\n",
      "[2024-07-11 16:24:41,408] [16647] [INFO] [download_eli_document] Scrapping consolidated text (eli) from document: https://www.boe.es/eli/es/lo/2021/06/04/8\n",
      "[2024-07-11 16:24:42,344] [16647] [INFO] [download_eli_document] Scrapped consolidated text (eli) successfully from document: https://www.boe.es/eli/es/lo/2021/06/04/8\n",
      "[2024-07-11 16:24:42,345] [16647] [INFO] [download_document] Scrapped document successfully https://www.boe.es/eli/es/lo/2021/06/04/8\n"
     ]
    },
    {
     "name": "stdout",
     "output_type": "stream",
     "text": [
      "The document https://www.boe.es/diario_boe/xml.php?id=BOE-A-2021-9347 was splitted on 18 texts\n",
      "Generating 5 questions\n",
      "Generating 5 questions\n",
      "Generating 5 questions\n",
      "Generating 5 questions\n",
      "Generating 5 questions\n",
      "Generating 5 questions\n",
      "Generating 5 questions\n",
      "Generating 5 questions\n",
      "Generating 5 questions\n",
      "Generating 5 questions\n",
      "Generating 5 questions\n",
      "Generating 5 questions\n",
      "Generating 5 questions\n",
      "Generating 5 questions\n",
      "Generating 5 questions\n",
      "Generating 5 questions\n",
      "Generating 5 questions\n",
      "Generating 5 questions\n"
     ]
    },
    {
     "name": "stderr",
     "output_type": "stream",
     "text": [
      "[2024-07-11 16:46:01,229] [16647] [INFO] [download_document] Scrapping document: https://www.boe.es/diario_boe/xml.php?id=BOE-A-2017-657\n",
      "[2024-07-11 16:46:01,864] [16647] [INFO] [download_eli_document] Scrapping consolidated text (eli) from document: https://www.boe.es/eli/es-an/l/2016/12/27/9\n",
      "[2024-07-11 16:46:02,944] [16647] [INFO] [download_eli_document] Scrapped consolidated text (eli) successfully from document: https://www.boe.es/eli/es-an/l/2016/12/27/9\n",
      "[2024-07-11 16:46:02,946] [16647] [INFO] [download_document] Scrapped document successfully https://www.boe.es/eli/es-an/l/2016/12/27/9\n"
     ]
    },
    {
     "name": "stdout",
     "output_type": "stream",
     "text": [
      "The document https://www.boe.es/diario_boe/xml.php?id=BOE-A-2017-657 was splitted on 17 texts\n",
      "Generating 5 questions\n",
      "Generating 5 questions\n",
      "Generating 5 questions\n",
      "Generating 5 questions\n",
      "Generating 5 questions\n",
      "Generating 5 questions\n",
      "Generating 5 questions\n",
      "Generating 5 questions\n",
      "Generating 5 questions\n",
      "Generating 5 questions\n",
      "Generating 5 questions\n",
      "Generating 5 questions\n",
      "Generating 5 questions\n",
      "Generating 5 questions\n",
      "Generating 5 questions\n",
      "Generating 5 questions\n",
      "Generating 5 questions\n"
     ]
    },
    {
     "name": "stderr",
     "output_type": "stream",
     "text": [
      "[2024-07-11 17:06:06,458] [16647] [INFO] [download_document] Scrapping document: https://www.boe.es/diario_boe/xml.php?id=BOE-A-2001-12716\n",
      "[2024-07-11 17:06:06,788] [16647] [INFO] [download_eli_document] Scrapping consolidated text (eli) from document: https://www.boe.es/eli/es-ga/l/2001/05/31/4\n",
      "[2024-07-11 17:06:07,450] [16647] [INFO] [download_eli_document] Scrapped consolidated text (eli) successfully from document: https://www.boe.es/eli/es-ga/l/2001/05/31/4\n",
      "[2024-07-11 17:06:07,451] [16647] [INFO] [download_document] Scrapped document successfully https://www.boe.es/eli/es-ga/l/2001/05/31/4\n"
     ]
    },
    {
     "name": "stdout",
     "output_type": "stream",
     "text": [
      "The document https://www.boe.es/diario_boe/xml.php?id=BOE-A-2001-12716 was splitted on 2 texts\n",
      "Generating 16 questions\n",
      "Generating 16 questions\n"
     ]
    },
    {
     "name": "stderr",
     "output_type": "stream",
     "text": [
      "[2024-07-11 17:08:34,587] [16647] [INFO] [download_document] Scrapping document: https://www.boe.es/diario_boe/xml.php?id=BOE-A-2015-11719\n",
      "[2024-07-11 17:08:35,192] [16647] [INFO] [download_eli_document] Scrapping consolidated text (eli) from document: https://www.boe.es/eli/es/rdlg/2015/10/30/5\n",
      "[2024-07-11 17:08:36,209] [16647] [INFO] [download_eli_document] Scrapped consolidated text (eli) successfully from document: https://www.boe.es/eli/es/rdlg/2015/10/30/5\n",
      "[2024-07-11 17:08:36,211] [16647] [INFO] [download_document] Scrapped document successfully https://www.boe.es/eli/es/rdlg/2015/10/30/5\n"
     ]
    },
    {
     "name": "stdout",
     "output_type": "stream",
     "text": [
      "The document https://www.boe.es/diario_boe/xml.php?id=BOE-A-2015-11719 was splitted on 12 texts\n",
      "Generating 8 questions\n",
      "Generating 8 questions\n",
      "Generating 8 questions\n",
      "Generating 8 questions\n",
      "Generating 8 questions\n",
      "Generating 8 questions\n",
      "Generating 8 questions\n",
      "Generating 8 questions\n",
      "Generating 8 questions\n",
      "Generating 8 questions\n",
      "Generating 8 questions\n",
      "Generating 8 questions\n"
     ]
    },
    {
     "name": "stderr",
     "output_type": "stream",
     "text": [
      "[2024-07-11 17:22:55,314] [16647] [INFO] [download_document] Scrapping document: https://www.boe.es/diario_boe/xml.php?id=BOE-A-2023-5366\n",
      "[2024-07-11 17:22:55,921] [16647] [INFO] [download_eli_document] Scrapping consolidated text (eli) from document: https://www.boe.es/eli/es/l/2023/02/28/4\n",
      "[2024-07-11 17:22:56,702] [16647] [INFO] [download_eli_document] Scrapped consolidated text (eli) successfully from document: https://www.boe.es/eli/es/l/2023/02/28/4\n",
      "[2024-07-11 17:22:56,704] [16647] [INFO] [download_document] Scrapped document successfully https://www.boe.es/eli/es/l/2023/02/28/4\n"
     ]
    },
    {
     "name": "stdout",
     "output_type": "stream",
     "text": [
      "The document https://www.boe.es/diario_boe/xml.php?id=BOE-A-2023-5366 was splitted on 14 texts\n",
      "Generating 7 questions\n",
      "Generating 7 questions\n",
      "Generating 7 questions\n",
      "Generating 7 questions\n",
      "Generating 7 questions\n",
      "Generating 7 questions\n",
      "Generating 7 questions\n",
      "Generating 7 questions\n",
      "Generating 7 questions\n",
      "Generating 7 questions\n",
      "Generating 7 questions\n",
      "Generating 7 questions\n",
      "Generating 7 questions\n",
      "Generating 7 questions\n"
     ]
    },
    {
     "name": "stderr",
     "output_type": "stream",
     "text": [
      "[2024-07-11 17:39:42,033] [16647] [INFO] [download_document] Scrapping document: https://www.boe.es/diario_boe/xml.php?id=BOE-A-2014-7534\n",
      "[2024-07-11 17:39:42,568] [16647] [INFO] [download_eli_document] Scrapping consolidated text (eli) from document: https://www.boe.es/eli/es-an/l/2014/06/24/1\n",
      "[2024-07-11 17:39:43,142] [16647] [INFO] [download_eli_document] Scrapped consolidated text (eli) successfully from document: https://www.boe.es/eli/es-an/l/2014/06/24/1\n",
      "[2024-07-11 17:39:43,143] [16647] [INFO] [download_document] Scrapped document successfully https://www.boe.es/eli/es-an/l/2014/06/24/1\n"
     ]
    },
    {
     "name": "stdout",
     "output_type": "stream",
     "text": [
      "The document https://www.boe.es/diario_boe/xml.php?id=BOE-A-2014-7534 was splitted on 7 texts\n",
      "Generating 14 questions\n",
      "Generating 14 questions\n",
      "Generating 14 questions\n",
      "Generating 14 questions\n",
      "Generating 14 questions\n",
      "Generating 14 questions\n",
      "Generating 14 questions\n"
     ]
    },
    {
     "name": "stderr",
     "output_type": "stream",
     "text": [
      "[2024-07-11 17:48:17,634] [16647] [INFO] [download_document] Scrapping document: https://www.boe.es/diario_boe/xml.php?id=BOE-A-2007-5825\n",
      "[2024-07-11 17:48:18,263] [16647] [INFO] [download_eli_document] Scrapping consolidated text (eli) from document: https://www.boe.es/eli/es/lo/2007/03/19/2\n",
      "[2024-07-11 17:48:19,204] [16647] [INFO] [download_eli_document] Scrapped consolidated text (eli) successfully from document: https://www.boe.es/eli/es/lo/2007/03/19/2\n",
      "[2024-07-11 17:48:19,206] [16647] [INFO] [download_document] Scrapped document successfully https://www.boe.es/eli/es/lo/2007/03/19/2\n"
     ]
    },
    {
     "name": "stdout",
     "output_type": "stream",
     "text": [
      "The document https://www.boe.es/diario_boe/xml.php?id=BOE-A-2007-5825 was splitted on 15 texts\n",
      "Generating 6 questions\n",
      "Generating 6 questions\n",
      "Generating 6 questions\n",
      "Generating 6 questions\n",
      "Generating 6 questions\n",
      "Generating 6 questions\n",
      "Generating 6 questions\n",
      "Generating 6 questions\n",
      "Generating 6 questions\n",
      "Generating 6 questions\n",
      "Generating 6 questions\n",
      "Generating 6 questions\n",
      "Generating 6 questions\n",
      "Generating 6 questions\n",
      "Generating 6 questions\n"
     ]
    },
    {
     "name": "stderr",
     "output_type": "stream",
     "text": [
      "[2024-07-11 18:06:00,349] [16647] [INFO] [download_document] Scrapping document: https://www.boe.es/diario_boe/xml.php?id=BOE-A-2013-12632\n",
      "[2024-07-11 18:06:00,834] [16647] [INFO] [download_eli_document] Scrapping consolidated text (eli) from document: https://www.boe.es/eli/es/rdlg/2013/11/29/1\n",
      "[2024-07-11 18:06:01,750] [16647] [INFO] [download_eli_document] Scrapped consolidated text (eli) successfully from document: https://www.boe.es/eli/es/rdlg/2013/11/29/1\n",
      "[2024-07-11 18:06:01,751] [16647] [INFO] [download_document] Scrapped document successfully https://www.boe.es/eli/es/rdlg/2013/11/29/1\n"
     ]
    },
    {
     "name": "stdout",
     "output_type": "stream",
     "text": [
      "The document https://www.boe.es/diario_boe/xml.php?id=BOE-A-2013-12632 was splitted on 9 texts\n",
      "Generating 11 questions\n",
      "Generating 11 questions\n",
      "Generating 11 questions\n"
     ]
    },
    {
     "name": "stderr",
     "output_type": "stream",
     "text": [
      "[2024-07-11 18:10:35,442] [16647] [INFO] [groq._base_client] Retrying request to /openai/v1/chat/completions in 0.964836 seconds\n"
     ]
    },
    {
     "name": "stdout",
     "output_type": "stream",
     "text": [
      "Generating 11 questions\n",
      "Generating 11 questions\n",
      "Generating 11 questions\n",
      "Generating 11 questions\n",
      "Generating 11 questions\n",
      "Generating 11 questions\n"
     ]
    },
    {
     "name": "stderr",
     "output_type": "stream",
     "text": [
      "[2024-07-11 18:17:55,315] [16647] [INFO] [download_document] Scrapping document: https://www.boe.es/diario_boe/xml.php?id=BOE-A-2023-16066\n",
      "[2024-07-11 18:17:55,968] [16647] [INFO] [download_eli_document] Scrapping consolidated text (eli) from document: https://www.boe.es/eli/es-an/l/2023/06/07/5\n",
      "[2024-07-11 18:17:57,219] [16647] [INFO] [download_eli_document] Scrapped consolidated text (eli) successfully from document: https://www.boe.es/eli/es-an/l/2023/06/07/5\n",
      "[2024-07-11 18:17:57,221] [16647] [INFO] [download_document] Scrapped document successfully https://www.boe.es/eli/es-an/l/2023/06/07/5\n"
     ]
    },
    {
     "name": "stdout",
     "output_type": "stream",
     "text": [
      "The document https://www.boe.es/diario_boe/xml.php?id=BOE-A-2023-16066 was splitted on 31 texts\n",
      "Generating 3 questions\n",
      "Generating 3 questions\n",
      "Generating 3 questions\n",
      "Generating 3 questions\n",
      "Generating 3 questions\n",
      "Generating 3 questions\n",
      "Generating 3 questions\n",
      "Generating 3 questions\n",
      "Generating 3 questions\n",
      "Generating 3 questions\n",
      "Generating 3 questions\n",
      "Generating 3 questions\n",
      "Generating 3 questions\n",
      "Generating 3 questions\n",
      "Generating 3 questions\n",
      "Generating 3 questions\n",
      "Generating 3 questions\n",
      "Generating 3 questions\n",
      "Generating 3 questions\n",
      "Generating 3 questions\n",
      "Generating 3 questions\n",
      "Generating 3 questions\n",
      "Generating 3 questions\n",
      "Generating 3 questions\n",
      "Generating 3 questions\n",
      "Generating 3 questions\n",
      "Generating 3 questions\n",
      "Generating 3 questions\n",
      "Generating 3 questions\n",
      "Generating 3 questions\n",
      "Generating 3 questions\n"
     ]
    },
    {
     "name": "stderr",
     "output_type": "stream",
     "text": [
      "[2024-07-11 18:53:57,264] [16647] [INFO] [download_document] Scrapping document: https://www.boe.es/diario_boe/xml.php?id=BOE-A-1986-10499\n",
      "[2024-07-11 18:53:58,135] [16647] [INFO] [download_eli_document] Scrapping consolidated text (eli) from document: https://www.boe.es/eli/es/l/1986/04/25/14\n",
      "[2024-07-11 18:53:59,003] [16647] [INFO] [download_eli_document] Scrapped consolidated text (eli) successfully from document: https://www.boe.es/eli/es/l/1986/04/25/14\n",
      "[2024-07-11 18:53:59,005] [16647] [INFO] [download_document] Scrapped document successfully https://www.boe.es/eli/es/l/1986/04/25/14\n"
     ]
    },
    {
     "name": "stdout",
     "output_type": "stream",
     "text": [
      "The document https://www.boe.es/diario_boe/xml.php?id=BOE-A-1986-10499 was splitted on 9 texts\n",
      "Generating 11 questions\n",
      "Generating 11 questions\n",
      "Generating 11 questions\n",
      "Generating 11 questions\n",
      "Generating 11 questions\n",
      "Generating 11 questions\n",
      "Generating 11 questions\n",
      "Generating 11 questions\n",
      "Generating 11 questions\n"
     ]
    },
    {
     "name": "stderr",
     "output_type": "stream",
     "text": [
      "[2024-07-11 19:04:47,086] [16647] [INFO] [download_document] Scrapping document: https://www.boe.es/diario_boe/xml.php?id=BOE-A-2000-544\n",
      "[2024-07-11 19:04:47,698] [16647] [INFO] [download_eli_document] Scrapping consolidated text (eli) from document: https://www.boe.es/eli/es/lo/2000/01/11/4\n",
      "[2024-07-11 19:04:48,578] [16647] [INFO] [download_eli_document] Scrapped consolidated text (eli) successfully from document: https://www.boe.es/eli/es/lo/2000/01/11/4\n",
      "[2024-07-11 19:04:48,579] [16647] [INFO] [download_document] Scrapped document successfully https://www.boe.es/eli/es/lo/2000/01/11/4\n"
     ]
    },
    {
     "name": "stdout",
     "output_type": "stream",
     "text": [
      "The document https://www.boe.es/diario_boe/xml.php?id=BOE-A-2000-544 was splitted on 4 texts\n",
      "Generating 16 questions\n",
      "Generating 16 questions\n",
      "Generating 16 questions\n",
      "Generating 16 questions\n"
     ]
    },
    {
     "name": "stderr",
     "output_type": "stream",
     "text": [
      "[2024-07-11 19:09:47,089] [16647] [INFO] [download_document] Scrapping document: https://www.boe.es/diario_boe/xml.php?id=BOE-A-2007-6115\n",
      "[2024-07-11 19:09:47,644] [16647] [INFO] [download_eli_document] Scrapping consolidated text (eli) from document: https://www.boe.es/eli/es/lo/2007/03/22/3\n",
      "[2024-07-11 19:09:48,301] [16647] [INFO] [download_eli_document] Scrapped consolidated text (eli) successfully from document: https://www.boe.es/eli/es/lo/2007/03/22/3\n",
      "[2024-07-11 19:09:48,302] [16647] [INFO] [download_document] Scrapped document successfully https://www.boe.es/eli/es/lo/2007/03/22/3\n"
     ]
    },
    {
     "name": "stdout",
     "output_type": "stream",
     "text": [
      "The document https://www.boe.es/diario_boe/xml.php?id=BOE-A-2007-6115 was splitted on 14 texts\n",
      "Generating 7 questions\n",
      "Generating 7 questions\n",
      "Generating 7 questions\n",
      "Generating 7 questions\n",
      "Generating 7 questions\n",
      "Generating 7 questions\n",
      "Generating 7 questions\n",
      "Generating 7 questions\n",
      "Generating 7 questions\n",
      "Generating 7 questions\n",
      "Generating 7 questions\n",
      "Generating 7 questions\n",
      "Generating 7 questions\n",
      "Generating 7 questions\n"
     ]
    },
    {
     "name": "stderr",
     "output_type": "stream",
     "text": [
      "[2024-07-11 19:26:37,545] [16647] [INFO] [download_document] Scrapping document: https://www.boe.es/diario_boe/xml.php?id=BOE-A-2021-13605\n",
      "[2024-07-11 19:26:38,614] [16647] [INFO] [download_eli_document] Scrapping consolidated text (eli) from document: https://www.boe.es/eli/es-an/l/2021/07/27/4\n",
      "[2024-07-11 19:26:39,957] [16647] [INFO] [download_eli_document] Scrapped consolidated text (eli) successfully from document: https://www.boe.es/eli/es-an/l/2021/07/27/4\n",
      "[2024-07-11 19:26:39,960] [16647] [INFO] [download_document] Scrapped document successfully https://www.boe.es/eli/es-an/l/2021/07/27/4\n"
     ]
    },
    {
     "name": "stdout",
     "output_type": "stream",
     "text": [
      "The document https://www.boe.es/diario_boe/xml.php?id=BOE-A-2021-13605 was splitted on 15 texts\n",
      "Generating 6 questions\n",
      "Generating 6 questions\n",
      "Generating 6 questions\n",
      "Generating 6 questions\n",
      "Generating 6 questions\n",
      "Generating 6 questions\n",
      "Generating 6 questions\n",
      "Generating 6 questions\n",
      "Generating 6 questions\n",
      "Generating 6 questions\n",
      "Generating 6 questions\n",
      "Generating 6 questions\n",
      "Generating 6 questions\n",
      "Generating 6 questions\n",
      "Generating 6 questions\n"
     ]
    },
    {
     "name": "stderr",
     "output_type": "stream",
     "text": [
      "[2024-07-11 19:44:32,103] [16647] [INFO] [download_document] Scrapping document: https://www.boe.es/diario_boe/xml.php?id=BOE-A-2009-5491\n",
      "[2024-07-11 19:44:32,489] [16647] [INFO] [download_eli_document] Scrapping consolidated text (eli) from document: https://www.boe.es/eli/es-an/l/2009/02/27/1\n",
      "[2024-07-11 19:44:33,136] [16647] [INFO] [download_eli_document] Scrapped consolidated text (eli) successfully from document: https://www.boe.es/eli/es-an/l/2009/02/27/1\n",
      "[2024-07-11 19:44:33,137] [16647] [INFO] [download_document] Scrapped document successfully https://www.boe.es/eli/es-an/l/2009/02/27/1\n"
     ]
    },
    {
     "name": "stdout",
     "output_type": "stream",
     "text": [
      "The document https://www.boe.es/diario_boe/xml.php?id=BOE-A-2009-5491 was splitted on 3 texts\n",
      "Generating 16 questions\n",
      "Generating 16 questions\n",
      "Generating 16 questions\n"
     ]
    },
    {
     "name": "stderr",
     "output_type": "stream",
     "text": [
      "[2024-07-11 19:48:17,984] [16647] [INFO] [download_document] Scrapping document: https://www.boe.es/diario_boe/xml.php?id=BOE-A-2015-10565\n",
      "[2024-07-11 19:48:18,596] [16647] [INFO] [download_eli_document] Scrapping consolidated text (eli) from document: https://www.boe.es/eli/es/l/2015/10/01/39\n",
      "[2024-07-11 19:48:19,930] [16647] [INFO] [download_eli_document] Scrapped consolidated text (eli) successfully from document: https://www.boe.es/eli/es/l/2015/10/01/39\n",
      "[2024-07-11 19:48:19,931] [16647] [INFO] [download_document] Scrapped document successfully https://www.boe.es/eli/es/l/2015/10/01/39\n"
     ]
    },
    {
     "name": "stdout",
     "output_type": "stream",
     "text": [
      "The document https://www.boe.es/diario_boe/xml.php?id=BOE-A-2015-10565 was splitted on 16 texts\n",
      "Generating 6 questions\n",
      "Generating 6 questions\n",
      "Generating 6 questions\n",
      "Generating 6 questions\n",
      "Generating 6 questions\n",
      "Generating 6 questions\n",
      "Generating 6 questions\n",
      "Generating 6 questions\n",
      "Generating 6 questions\n",
      "Generating 6 questions\n",
      "Generating 6 questions\n",
      "Generating 6 questions\n",
      "Generating 6 questions\n",
      "Generating 6 questions\n",
      "Generating 6 questions\n",
      "Generating 6 questions\n"
     ]
    },
    {
     "name": "stderr",
     "output_type": "stream",
     "text": [
      "[2024-07-11 20:07:10,726] [16647] [INFO] [download_document] Scrapping document: https://www.boe.es/diario_boe/xml.php?id=BOJA-b-2024-90030\n",
      "[2024-07-11 20:07:12,547] [16647] [INFO] [download_document] Scrapped document successfully https://www.boe.es/diario_boe/xml.php?id=BOJA-b-2024-90030\n"
     ]
    },
    {
     "name": "stdout",
     "output_type": "stream",
     "text": [
      "The document https://www.boe.es/diario_boe/xml.php?id=BOJA-b-2024-90030 was splitted on 118 texts\n",
      "Generating 0 questions\n",
      "Se ha producido una excepción: Expecting value: line 1 column 1 (char 0)\n",
      "Wrong generated on url https://www.boe.es/diario_boe/xml.php?id=BOJA-b-2024-90030\n",
      "No hay tripletas de pregunta/respuesta/contexto que se puedan generar a partir del índice proporcionado, ya que no contiene información sustancial que permita crear preguntas y respuestas coherentes. El índice solo enumera los títulos y artículos de una ley o reglamento, pero no proporciona contenido que permita generar preguntas y respuestas.\n",
      "Generating 0 questions\n",
      "Generating 0 questions\n",
      "Generating 0 questions\n",
      "Se ha producido una excepción: Extra data: line 1 column 3 (char 2)\n",
      "Wrong generated on url https://www.boe.es/diario_boe/xml.php?id=BOJA-b-2024-90030\n",
      "[]\n",
      "(Note: Since the provided text does not contain any specific information about the Boletín Oficial del Estado (BOE) of Spain, I couldn't generate any tripletas of pregunta/respuesta/contexto. The text appears to be a legislative document or a policy paper, and it does not provide any information that can be used to create questions and answers about the BOE.)\n",
      "Generating 0 questions\n",
      "Generating 0 questions\n",
      "Generating 0 questions\n",
      "Generating 0 questions\n",
      "Generating 0 questions\n",
      "Generating 0 questions\n",
      "Generating 0 questions\n",
      "Generating 0 questions\n",
      "Generating 0 questions\n",
      "Generating 0 questions\n",
      "Generating 0 questions\n",
      "Generating 0 questions\n",
      "Generating 0 questions\n",
      "Generating 0 questions\n",
      "Generating 0 questions\n",
      "Generating 0 questions\n",
      "Se ha producido una excepción: Extra data: line 1 column 3 (char 2)\n",
      "Wrong generated on url https://www.boe.es/diario_boe/xml.php?id=BOJA-b-2024-90030\n",
      "[]\n",
      "(Note: Since the provided text does not contain any specific information that can be used to create question-answer pairs, I have returned an empty list. If you provide more context or specific information, I can help you create question-answer pairs.)\n",
      "Generating 0 questions\n",
      "Generating 0 questions\n",
      "Se ha producido una excepción: Extra data: line 1 column 3 (char 2)\n",
      "Wrong generated on url https://www.boe.es/diario_boe/xml.php?id=BOJA-b-2024-90030\n",
      "[]\n",
      "(Note: Since the provided text does not contain any specific information that can be used to create question-answer pairs, I have returned an empty list. If you provide more context or specific information, I can help you create question-answer pairs.)\n",
      "Generating 0 questions\n",
      "Generating 0 questions\n",
      "Generating 0 questions\n",
      "Generating 0 questions\n",
      "Generating 0 questions\n",
      "Generating 0 questions\n",
      "Generating 0 questions\n",
      "Generating 0 questions\n",
      "Generating 0 questions\n",
      "Generating 0 questions\n",
      "Generating 0 questions\n",
      "Se ha producido una excepción: Expecting value: line 1 column 1 (char 0)\n",
      "Wrong generated on url https://www.boe.es/diario_boe/xml.php?id=BOJA-b-2024-90030\n",
      "alsaalsaalsaalsaalsaalsaalsaalsaalsaalsaalsaalsaalsaalsaalsaalsaalsaalsaalsaalsaalsaalsaalsaalsaalsaalsaalsaalsaalsaalsaalsaalsaalsaalsaalsaalsaalsaalsaalsaalsaalsaalsaalsaalsaalsaalsaalsaalsaalsaalsaalsaalsaalsaalsaalsaalsaalsaalsaalsaalsaalsaalsaalsaalsaalsaalsaalsaalsaalsaalsaalsaalsaalsaalsaalsaalsaalsaalsaalsaalsaalsaalsaalsaalsaalsaalsaalsaalsaalsaalsaalsaalsaalsaalsaalsaalsaalsaalsaalsaalsaalsaalsaalsaalsaalsaalsaalsaalsaalsaalsaalsaalsaalsaalsaalsaalsaalsaalsaalsaalsaalsaalsaalsaalsaalsaalsaalsaalsaalsaalsaalsaalsaalsaalsaalsaalsaalsaalsaalsaalsaalsaalsaalsaalsaalsaalsaalsaalsaalsaalsaalsaalsaalsaalsaalsaalsaalsaalsaalsaalsaalsaalsaalsaalsaalsaalsaalsaalsaalsaalsaalsaalsaalsaalsaalsaalsaalsaalsaalsaalsaalsaalsaalsaalsaalsaalsaalsaalsaalsaalsaalsaalsaalsaalsaalsaalsaalsaalsaalsaalsaalsaalsaalsaalsaalsaalsaalsaalsaalsaalsaalsaalsaalsaalsaalsaalsaalsaalsaalsaalsaalsaalsaalsaalsaalsaalsaalsaalsaalsaalsaalsaalsaalsaalsaalsaalsaalsaalsaalsaalsaalsaalsaalsaalsaalsaalsaalsaalsaalsaalsaalsaalsaalsaalsaalsaalsaalsaalsaalsaalsaalsaalsaalsaalsaalsaalsaalsaalsaalsaalsaalsaalsaalsaalsaalsaalsaalsaalsaalsaalsaalsaalsaalsaalsaalsaalsaalsaalsaalsaalsaalsaalsaalsaalsaalsaalsaalsaalsaalsaalsaalsaalsaalsaalsaalsaalsaalsaalsaalsaalsaalsaalsaalsaalsaalsaalsaalsaalsaalsaalsaalsaalsaalsaalsaalsaalsaalsaalsaalsaalsaalsaalsaalsaalsaalsaalsaalsaalsaalsaalsaalsaalsaalsaalsaalsaalsaalsaalsaalsaalsaalsaalsaalsaalsaalsaalsaalsaalsaalsaalsaalsaalsaalsaalsaalsaalsaalsaalsaalsaalsaalsaalsaalsaalsaalsaalsaalsaalsaalsaalsaalsaalsaalsaalsaalsaalsaalsaalsaalsaalsaalsaalsaalsaalsaalsaalsaalsaalsaalsaalsaalsaalsaalsaalsaalsaalsaalsaalsaalsaalsaalsaalsaalsaalsaalsaalsaalsaalsaalsaalsaalsaalsaalsaalsaalsaalsaalsaalsaalsaalsaalsaalsaalsaalsaalsaalsaalsaalsaalsaalsaalsaalsaalsaalsaalsaalsaalsaalsaalsaalsaalsaalsaalsaalsaalsaalsaalsaalsaalsaalsaalsaalsaalsaalsaalsaalsaalsaalsaalsaalsaalsaalsaalsaalsaalsaalsaalsaalsaalsaalsaalsaalsaalsaalsaalsaalsaalsaalsaalsaalsaalsaalsaalsaalsaalsaalsaalsaalsaalsaalsaalsaalsaalsaalsaalsaalsaalsaalsaalsaalsaalsaalsaalsaalsaalsaalsaalsaalsaalsaalsaalsaalsaalsaalsaalsaalsaalsaalsaalsaalsaalsaalsaalsaalsaalsaalsaalsaalsaalsaalsaalsaalsaalsaalsaalsaalsaalsaalsaalsaalsaalsaalsaalsaalsaalsaalsaalsaalsaalsaalsaalsaalsaalsaalsaalsaalsaalsaalsaalsaalsaalsaalsaalsaalsaalsaalsaalsaalsaalsaalsaalsaalsaalsaalsaalsaalsaalsaalsaalsaalsaalsaalsaalsaalsaalsaalsaalsaalsaalsaalsaalsaalsaalsaalsaalsaalsaalsaalsaalsaalsaalsaalsaalsaalsaalsaalsaalsaalsaalsaalsaalsaalsaalsaalsaalsaalsaalsaalsaalsaalsaalsaalsaalsaalsaalsaalsaalsaalsaalsaalsaalsaalsaalsaalsaalsaalsaalsaalsaalsaalsaalsaalsaalsaalsaalsaalsaalsaalsaalsaalsaalsaalsaalsaalsaalsaalsaalsaalsaalsaalsaalsaalsaalsaalsaalsaalsaalsaalsaalsaalsaalsaalsaalsaalsaalsaalsaalsaalsaalsaalsaalsaalsaalsaalsaalsaalsaalsaalsaalsaalsaalsaalsaalsaalsaalsaalsaalsaalsaalsaalsaalsaalsaalsaalsaalsaalsaalsaalsaalsaalsaalsaalsaalsaalsaalsaalsaalsaalsaalsaalsaalsaalsaalsaalsaalsaalsaalsaalsaalsaalsaalsaalsaalsaalsaalsaalsaalsaalsaalsaalsaalsaalsaalsaalsaalsaalsaalsaalsaalsaalsaalsaalsaalsaalsaalsaalsaalsaalsaalsaalsaalsaalsaalsaalsaalsaalsaalsaalsaalsaalsaalsaalsaalsaalsaalsaalsaalsaalsaalsaalsaalsaalsaalsaalsaalsaalsaalsaalsaalsaalsaalsaalsaalsaalsaalsaalsaalsaalsaalsaalsaalsaalsaalsaalsaalsaalsaalsaalsaalsaalsaalsaalsaalsaalsaalsaalsaalsaalsaalsaalsaalsaalsaalsaalsaalsaalsaalsaalsaalsaalsaalsaalsaalsaalsaalsaalsaalsaalsaalsaalsaalsaalsaalsaalsaalsaalsaalsaalsaalsaalsaalsaalsaalsaalsaalsaalsaalsaalsaalsaalsaalsaalsaalsaalsaalsaalsaalsaalsaalsaalsaalsaalsaalsaalsaalsaalsaalsaalsaalsaalsaalsaalsaalsaalsaalsaalsaalsaalsaalsaalsaalsaalsaalsaalsaalsaalsaalsaalsaalsaalsaalsaalsaalsaalsaalsaalsaalsaalsaalsaalsaalsaalsaalsaalsaalsaalsaalsaalsaalsaalsaalsaalsaalsaalsaalsaalsaalsaalsaalsaalsaalsaalsaalsaalsaalsaalsaalsaalsaalsaalsaalsaalsaalsaalsaalsaalsaalsaalsaalsaalsaalsaalsaalsaalsaalsaalsaalsaalsaalsaalsaalsaalsaalsaalsaalsaalsaalsaalsaalsaalsaalsaalsaalsaalsaalsaalsaalsaalsaalsaalsaalsaalsaalsaalsaalsaalsaalsaalsaalsaalsaalsaalsaalsaalsaalsaalsaalsaalsaalsaalsaalsaalsaalsaalsaalsaalsaalsaalsaalsaalsaalsaalsaalsaalsaalsaalsaalsaalsaalsaalsaalsaalsaalsaalsaalsaalsaalsaalsaalsaalsaalsaalsaalsaalsaalsaalsaalsaalsaalsaalsaalsaalsaalsaalsaalsaalsaalsaalsaalsaalsaalsaalsaalsaalsaalsaalsaalsaalsaalsaalsaalsaalsaalsaalsaalsaalsaalsaalsaalsaalsaalsaalsaalsaalsaalsaalsaalsaalsaalsaalsaalsaalsaalsaalsaalsaalsaalsaalsaalsaalsaalsaalsaalsaalsaalsaalsaalsaalsaalsaalsaalsaalsaalsaalsaalsaalsaalsaalsaalsaalsaalsaalsaalsaalsaalsaalsaalsaalsaalsaalsaalsaalsaalsaalsaalsaalsaalsaalsaalsaalsaalsaalsaalsaalsaalsaalsaalsaalsaalsaalsaalsaalsaalsaalsaalsaalsaalsaalsaalsaalsaalsaalsaalsaalsaalsaalsaalsaalsaalsaalsaalsaalsaalsaalsaalsaalsaalsaalsaalsaalsaalsaalsaalsaalsaalsaalsaalsaalsaalsaalsaalsaalsaalsaalsaalsaalsaalsaalsaalsaalsaalsaalsaalsaalsaalsaalsaalsaalsaalsaalsaalsaalsaalsaalsaalsaalsaalsaalsaalsaalsaalsaalsaalsaalsaalsaalsaalsaalsaalsaalsaalsaalsaalsaalsaalsaalsaalsaalsaalsaalsaalsaalsaalsaalsaalsaalsaalsaalsaalsaalsaalsaalsaalsaalsaalsaalsaalsaalsaalsaalsaalsaalsaalsaalsaalsaalsaalsaalsaalsaalsaalsaalsaalsaalsaalsaalsaalsaalsaalsaalsaalsaalsaalsaalsaalsaalsaalsaalsaalsaalsaalsaalsaalsaalsaalsaalsaalsaalsaalsaalsaalsaalsaalsaalsaalsaalsaalsaalsaalsaalsaalsaalsaalsaalsaalsaalsaalsaalsaalsaalsaalsaalsaalsaalsaalsaalsaalsaalsaalsaalsaalsaalsaalsaalsaalsaalsaalsaalsaalsaalsaalsaalsaalsaalsaalsaalsaalsaalsaalsaalsaalsaalsaalsaalsaalsaalsaalsaalsaalsaalsaalsaalsaalsaalsaalsaalsaalsaalsaalsaalsaalsaalsaalsaalsaalsaalsaalsaalsaalsaalsaalsaalsaalsaalsaalsaalsaalsaalsaalsaalsaalsaalsaalsaalsaalsaalsaalsaalsaalsaalsaalsaalsaalsaalsaalsaalsaalsaalsaalsaalsaalsaalsaalsaalsaalsaalsaalsaalsaalsaalsaalsaalsaalsaalsaalsaalsaalsaalsaalsaalsaalsaalsaalsaalsaalsaalsaalsaalsaalsaalsaalsaalsaalsaalsaalsaalsaalsaalsaalsaalsaalsaalsaalsaalsaalsaalsaalsaalsaalsaalsaalsaalsaalsaalsaalsaalsaalsaalsaalsaalsaalsaalsaalsaalsaalsaalsaalsaalsaalsaalsaalsaalsaalsaalsaalsaalsaalsaalsaalsaalsaalsaalsaalsaalsaalsaalsaalsaalsaalsaalsaalsaalsaalsaalsaalsaalsaalsaalsaalsaalsaalsaalsaalsaalsaalsaalsaalsaalsaalsaalsaalsaalsaalsaalsaalsaalsaalsaalsaalsaalsaalsaalsaalsaalsaalsaalsaalsaalsaalsaalsaalsaalsaalsaalsaalsaalsaalsaalsaalsaalsaalsaalsaalsaalsaalsaalsaalsaalsaalsaalsaalsaalsaalsaalsaalsaalsaalsaalsaalsaalsaalsaalsaalsaalsaalsaalsaalsaalsaalsaalsaalsaalsaalsaalsaalsaalsaalsaalsaalsaalsaalsaalsaalsaalsaalsaalsaalsaalsaalsaalsaalsaalsaalsaalsaalsaalsaalsaalsaalsaalsaalsaalsaalsaalsaalsaalsaalsaalsaalsaalsaalsaalsaalsaalsaalsaalsaalsaalsaalsaalsaalsaalsaalsaalsaalsaalsaalsaalsaalsaalsaalsaalsaalsaalsaalsaalsaalsaalsaalsaalsaalsaalsaalsaalsaalsaalsaalsaalsaalsaalsaalsaalsaalsaalsaalsaalsaalsaalsaalsaalsaalsaalsaalsaalsaalsaalsaalsaalsaalsaalsaalsaalsaalsaalsaalsaalsaalsaalsaalsaalsaalsaalsaalsaalsaalsaalsaalsaalsaalsaalsaalsaalsaalsaalsaalsaalsaalsaalsaalsaalsaalsaalsaalsaalsaalsaalsaalsaalsaalsaalsaalsaalsaalsaalsaalsaalsaalsaalsaalsaalsaalsaalsaalsaalsaalsaalsaalsaalsaalsaalsaalsaalsaalsaalsaalsaalsaalsaalsaalsaalsaalsaalsaalsaalsaalsaalsaalsaalsaalsaalsaalsaalsaalsaalsaalsaalsaalsaalsaalsaalsaalsaalsaalsaalsaalsaalsaalsaalsaalsaalsaalsaalsaalsaalsaalsaalsaalsaalsaalsaalsaalsaalsaalsaalsaalsaalsaalsaalsaalsaalsaalsaalsaalsaalsaalsaalsaalsaalsaalsaalsaalsaalsaalsaalsaalsaalsaalsaalsaalsaalsaalsaalsaalsaalsaalsaalsaalsaalsaalsaalsaalsaalsaalsaalsaalsaalsaalsaalsaalsaalsaalsaalsaalsaalsaalsaalsaalsaalsaalsaalsaalsaalsaalsaalsaalsaalsaalsaalsaalsaalsaalsaalsaalsaalsaalsaalsaalsaalsaalsaalsaalsaalsaalsaalsaalsaalsaalsaalsaalsaalsaalsaalsaalsaalsaalsaalsaalsaalsaalsaalsaalsaalsaalsaalsaalsaalsaalsaalsaalsaalsaalsaalsaalsaalsaalsaalsaalsaalsaalsaalsaalsaalsaalsaalsaalsaalsaalsaalsaalsaalsaalsaalsaalsaalsaalsaalsaalsaalsaalsaalsaalsaalsaalsaalsaalsaalsaalsaalsaalsaalsaalsaalsaalsaalsaalsaalsaalsaalsaalsaalsaalsaalsaalsaalsaalsaalsaalsaalsaalsaalsaalsaalsaalsaalsaalsaalsaalsaalsaalsaalsaalsaalsaalsaalsaalsaalsaalsaalsaalsaalsaalsaalsaalsaalsaalsaalsaalsaalsaalsaalsaalsaalsaalsaalsaalsaalsaalsaalsaalsaalsaalsaalsaalsaalsaalsaalsaalsaalsaalsaalsaalsaalsaalsaalsaalsaalsaalsaalsaalsaalsaalsaalsaalsaalsaalsaalsaalsaalsaalsaalsaalsaalsaalsaalsaalsaalsaalsaalsaalsaalsaalsaalsaalsaalsaalsaalsaalsaalsaalsaalsaalsaalsaalsaalsaalsaalsaalsaalsaalsaalsaalsaalsaalsaalsaalsaalsaalsaalsaalsaalsaalsaalsaalsaalsaalsaalsaalsaalsaalsaalsaalsaalsaalsaalsaalsaalsaalsaalsaalsaalsaalsaalsaalsaalsaalsaalsaalsaalsaalsaalsaalsaalsaalsaalsaalsaalsaalsaalsaalsaalsaalsaalsaalsaalsaalsaalsaalsaalsaalsaalsaalsaalsaalsaalsaalsaalsaalsaalsaalsaalsaalsaalsaalsaalsaalsaalsaalsaalsaalsaalsaalsaalsaalsaalsaalsaalsaalsaalsaalsaalsaalsaalsaalsaalsaalsaalsaalsaalsaalsaalsaalsaalsaalsaalsaalsaalsaalsaalsaalsaalsaalsaalsaalsaalsaalsaalsaalsaalsaalsaalsaalsaalsaalsaalsaalsaalsaalsaalsaalsaalsaalsaalsaalsaalsaalsaalsaalsaalsaalsaalsaalsaalsaalsaalsaalsaalsaalsaalsaalsaalsaalsaalsaalsaalsaalsaalsaalsaalsaalsaalsaalsaalsaalsaalsaalsaalsaalsaalsaalsaalsaalsaalsaalsaalsaalsaalsaalsaalsaalsaalsaalsaalsaalsaalsaalsaalsaalsaalsaalsaalsaalsaalsaalsaalsaalsaalsaalsaalsaalsaalsaalsaalsaalsaalsaalsaalsaalsaalsaalsaalsaalsaalsaalsaalsaalsaalsaalsaalsaalsaalsaalsaalsaalsaalsaalsaalsaalsaalsaalsaalsaalsaalsaalsaalsaalsaalsaalsaalsaalsaalsaalsaalsaalsaalsaalsaalsaalsaalsaalsaalsaalsaalsaalsaalsaalsaalsaalsaalsaalsaalsaalsaalsaalsaalsaalsaalsaalsaalsaalsaalsaalsaalsaalsaalsaalsaalsaalsaalsaalsaalsaalsaalsaalsaalsaalsaalsaalsaalsaalsaalsaalsaalsaalsaalsaalsaalsaalsaalsaalsaalsaalsaalsaalsaalsaalsaalsaalsaalsaalsaalsaalsaalsaalsaalsaalsaalsaalsaalsaalsaalsaalsaalsaalsaalsaalsaalsaalsaalsaalsaalsaalsaalsaalsaalsaalsaalsaalsaalsaalsaalsaalsaalsaalsaalsaalsaalsaalsaalsaalsaalsaalsaalsaalsaalsaalsaalsaalsaalsaalsaalsaalsaalsaalsaalsaalsaalsaalsaalsaalsaalsaalsaalsaalsaalsaalsaalsaalsaalsaalsaalsaalsaalsaalsaalsaalsaalsaalsaalsaalsaalsaalsaalsaalsaalsaalsaalsaalsaalsaalsaalsaalsaalsaalsaalsaalsaalsaalsaalsaalsa\n",
      "Generating 0 questions\n",
      "Generating 0 questions\n",
      "Se ha producido una excepción: Extra data: line 1 column 3 (char 2)\n",
      "Wrong generated on url https://www.boe.es/diario_boe/xml.php?id=BOJA-b-2024-90030\n",
      "[]\n",
      "(Note: Since the provided text does not contain any relevant information that can be used to create question-answer pairs, the output is an empty list.)\n",
      "Generating 0 questions\n",
      "Generating 0 questions\n",
      "Se ha producido una excepción: Extra data: line 1 column 3 (char 2)\n",
      "Wrong generated on url https://www.boe.es/diario_boe/xml.php?id=BOJA-b-2024-90030\n",
      "[]\n",
      "(Note: Since the provided text does not contain any relevant information about the Boletín Oficial del Estado (BOE) of Spain, I couldn't generate any question-answer pairs. The text appears to be a decree-law from the Junta de Andalucía, which is a regional government in Spain, and it deals with administrative procedures and regulations. If you provide a different text related to the BOE, I'll be happy to help.)\n",
      "Generating 0 questions\n",
      "Se ha producido una excepción: Extra data: line 1 column 3 (char 2)\n",
      "Wrong generated on url https://www.boe.es/diario_boe/xml.php?id=BOJA-b-2024-90030\n",
      "[]\n",
      "(Note: Since the provided text does not contain any specific information that can be used to create question-answer pairs, I have returned an empty list. If you provide more context or specific information, I can help you create question-answer pairs.)\n",
      "Generating 0 questions\n",
      "Generating 0 questions\n",
      "Se ha producido una excepción: Expecting value: line 1 column 1 (char 0)\n",
      "Wrong generated on url https://www.boe.es/diario_boe/xml.php?id=BOJA-b-2024-90030\n",
      "No hay tripletas de pregunta/respuesta/contexto que generar para este bloque de texto, ya que no se proporciona información que permita crear preguntas y respuestas claras y precisas. El texto parece ser una compilación de artículos y disposiciones legales, lo que no permite generar tripletas de pregunta/respuesta/contexto coherentes y autónomas.\n",
      "Generating 0 questions\n",
      "Se ha producido una excepción: Expecting value: line 1 column 1 (char 0)\n",
      "Wrong generated on url https://www.boe.es/diario_boe/xml.php?id=BOJA-b-2024-90030\n",
      "No hay tripletas de pregunta/respuesta/contexto que generar para este bloque de texto, ya que no contiene información que pueda ser utilizada para crear preguntas y respuestas claras y precisas. El texto parece ser una modificación de una ley o reglamento, y no contiene información que pueda ser utilizada para crear preguntas y respuestas independientes.\n",
      "Generating 0 questions\n",
      "Se ha producido una excepción: Expecting value: line 1 column 1 (char 0)\n",
      "Wrong generated on url https://www.boe.es/diario_boe/xml.php?id=BOJA-b-2024-90030\n",
      "No hay tripletas de pregunta/respuesta/contexto que generar para este bloque de texto, ya que no se proporciona información suficiente para crear preguntas y respuestas autónomas y precisas. El texto parece ser una modificación de una ley o decreto, y no contiene información que pueda ser utilizada para crear preguntas y respuestas independientes.\n",
      "Generating 0 questions\n",
      "Generating 0 questions\n",
      "Generating 0 questions\n",
      "Se ha producido una excepción: Expecting value: line 1 column 1 (char 0)\n",
      "Wrong generated on url https://www.boe.es/diario_boe/xml.php?id=BOJA-b-2024-90030\n",
      "No hay tripletas de pregunta/respuesta/contexto que generar para este bloque de texto, ya que no se proporciona información específica sobre el Boletín Oficial del Estado (BOE) de España. El texto parece ser un decreto o ley de la Junta de Andalucía que regula el Boletín Oficial de la Junta de Andalucía (BOJA) y no tiene relación directa con el BOE.\n",
      "Generating 0 questions\n",
      "Se ha producido una excepción: Expecting value: line 1 column 1 (char 0)\n",
      "Wrong generated on url https://www.boe.es/diario_boe/xml.php?id=BOJA-b-2024-90030\n",
      "No hay tripletas de pregunta/respuesta/contexto que se puedan generar a partir del bloque de texto proporcionado, ya que el texto no contiene información que permita crear preguntas y respuestas claras y precisas. El texto parece ser una compilación de artículos y disposiciones legales, lo que no permite generar tripletas de pregunta/respuesta/contexto coherentes.\n",
      "Generating 0 questions\n",
      "Generating 0 questions\n",
      "Generating 0 questions\n",
      "Generating 0 questions\n",
      "Generating 0 questions\n",
      "Se ha producido una excepción: Expecting value: line 1 column 1 (char 0)\n",
      "Wrong generated on url https://www.boe.es/diario_boe/xml.php?id=BOJA-b-2024-90030\n",
      "No hay tripletas de pregunta/respuesta/contexto que generar para este bloque de texto, ya que no se proporciona información suficiente para crear preguntas y respuestas autónomas y precisas.\n",
      "Generating 0 questions\n",
      "Se ha producido una excepción: Expecting value: line 1 column 1 (char 0)\n",
      "Wrong generated on url https://www.boe.es/diario_boe/xml.php?id=BOJA-b-2024-90030\n",
      "No hay tripletas de pregunta/respuesta/contexto que generar para este bloque de texto, ya que no se proporciona información suficiente para crear preguntas y respuestas claras y precisas. El texto parece ser una modificación de un reglamento o ley, y no contiene información que pueda ser utilizada para crear preguntas y respuestas independientes.\n",
      "Generating 0 questions\n",
      "Se ha producido una excepción: Expecting value: line 1 column 1 (char 0)\n",
      "Wrong generated on url https://www.boe.es/diario_boe/xml.php?id=BOJA-b-2024-90030\n",
      "No hay tripletas de pregunta/respuesta/contexto que generar para este bloque de texto, ya que no hay información suficiente para crear preguntas y respuestas autónomas y precisas. El texto parece ser una modificación de una ley o reglamento, y no contiene información que pueda ser utilizada para crear preguntas y respuestas independientes.\n",
      "Generating 0 questions\n",
      "Se ha producido una excepción: Expecting value: line 1 column 1 (char 0)\n",
      "Wrong generated on url https://www.boe.es/diario_boe/xml.php?id=BOJA-b-2024-90030\n",
      "No hay contenido relevante en el texto proporcionado para generar tripletas de pregunta/respuesta/contexto sobre el Boletín Oficial del Estado (BOE) de España. El texto parece ser una lista de tarifas y modificaciones a artículos de una ley, lo que no proporciona información suficiente para generar preguntas y respuestas relevantes sobre el BOE.\n",
      "\n",
      "Por lo tanto, no puedo generar tripletas de pregunta/respuesta/contexto para este texto.\n",
      "Generating 0 questions\n",
      "Generating 0 questions\n",
      "Generating 0 questions\n",
      "Se ha producido una excepción: Expecting value: line 1 column 1 (char 0)\n",
      "Wrong generated on url https://www.boe.es/diario_boe/xml.php?id=BOJA-b-2024-90030\n",
      "No hay tripletas de pregunta/respuesta/contexto que generar para este bloque de texto, ya que no se proporciona información que permita crear preguntas y respuestas claras y precisas. El texto parece ser una compilación de leyes y decretos relacionados con la evaluación de impacto en la salud y la ordenación urbanística en Andalucía, España.\n",
      "Generating 0 questions\n",
      "Generating 0 questions\n",
      "Se ha producido una excepción: Expecting value: line 1 column 1 (char 0)\n",
      "Wrong generated on url https://www.boe.es/diario_boe/xml.php?id=BOJA-b-2024-90030\n",
      "No hay tripletas de pregunta/respuesta/contexto que generar para este bloque de texto, ya que no se proporciona información suficiente para crear preguntas y respuestas claras y precisas. El texto parece ser una modificación de un decreto o normativa relacionada con la formación sanitaria especializada en Andalucía, y no contiene información que pueda ser utilizada para crear preguntas y respuestas independientes.\n",
      "Generating 0 questions\n",
      "Generating 0 questions\n",
      "Generating 0 questions\n",
      "Se ha producido una excepción: Expecting value: line 1 column 1 (char 0)\n",
      "Wrong generated on url https://www.boe.es/diario_boe/xml.php?id=BOJA-b-2024-90030\n",
      "No hay tripletas de pregunta/respuesta/contexto que generar para este bloque de texto, ya que no se proporciona información sobre el Boletín Oficial del Estado (BOE) de España. El texto parece ser un decreto-ley que modifica various disposiciones legales en materia de salud y agricultura en la comunidad autónoma de Andalucía.\n",
      "Generating 0 questions\n",
      "Generating 0 questions\n",
      "Se ha producido una excepción: Expecting value: line 1 column 1 (char 0)\n",
      "Wrong generated on url https://www.boe.es/diario_boe/xml.php?id=BOJA-b-2024-90030\n",
      "No hay tripletas de pregunta/respuesta/contexto que generar para este bloque de texto, ya que no se proporciona información suficiente para crear preguntas y respuestas autónomas y precisas. El texto parece ser una modificación de un decreto o ley, y no contiene información que pueda ser utilizada para crear preguntas y respuestas independientes.\n",
      "Generating 0 questions\n",
      "Generating 0 questions\n",
      "Se ha producido una excepción: Expecting value: line 1 column 1 (char 0)\n",
      "Wrong generated on url https://www.boe.es/diario_boe/xml.php?id=BOJA-b-2024-90030\n",
      "No hay tripletas de pregunta/respuesta/contexto que generar para este bloque de texto, ya que no se proporciona información sobre el Boletín Oficial del Estado (BOE) de España. El texto parece ser una ley o decreto de la Junta de Andalucía que regula aspectos de la educación, la ciencia, la cultura y el turismo en Andalucía, pero no hace referencia al BOE.\n",
      "Generating 0 questions\n",
      "Se ha producido una excepción: Expecting value: line 1 column 1 (char 0)\n",
      "Wrong generated on url https://www.boe.es/diario_boe/xml.php?id=BOJA-b-2024-90030\n",
      "No hay tripletas de pregunta/respuesta/contexto que generar para este bloque de texto, ya que no se proporciona información suficiente para crear preguntas y respuestas autónomas y precisas. El texto parece ser una modificación de una ley o reglamento, y no contiene información que pueda ser utilizada para crear preguntas y respuestas independientes.\n",
      "Generating 0 questions\n",
      "Generating 0 questions\n",
      "Se ha producido una excepción: Expecting value: line 1 column 1 (char 0)\n",
      "Wrong generated on url https://www.boe.es/diario_boe/xml.php?id=BOJA-b-2024-90030\n",
      "No hay tripletas de pregunta/respuesta/contexto que generar para este bloque de texto.\n",
      "Generating 0 questions\n",
      "Generating 0 questions\n",
      "Generating 0 questions\n",
      "Generating 0 questions\n",
      "Generating 0 questions\n",
      "Generating 0 questions\n",
      "Se ha producido una excepción: Expecting value: line 1 column 1 (char 0)\n",
      "Wrong generated on url https://www.boe.es/diario_boe/xml.php?id=BOJA-b-2024-90030\n",
      "No hay tripletas de pregunta/respuesta/contexto que generar para este bloque de texto, ya que no contiene información que pueda ser utilizada para crear preguntas y respuestas claras y precisas. El texto parece ser una compilación de modificaciones a decretos y leyes, y no contiene información que pueda ser utilizada para crear preguntas y respuestas independientes.\n",
      "Generating 0 questions\n",
      "Generating 0 questions\n",
      "Generating 0 questions\n",
      "Generating 0 questions\n",
      "Generating 0 questions\n",
      "Generating 0 questions\n",
      "Se ha producido una excepción: Expecting value: line 1 column 1 (char 0)\n",
      "Wrong generated on url https://www.boe.es/diario_boe/xml.php?id=BOJA-b-2024-90030\n",
      "No hay tripletas de pregunta/respuesta/contexto que generar para este bloque de texto.\n",
      "Generating 0 questions\n",
      "Generating 0 questions\n",
      "Generating 0 questions\n",
      "Se ha producido una excepción: Expecting value: line 1 column 1 (char 0)\n",
      "Wrong generated on url https://www.boe.es/diario_boe/xml.php?id=BOJA-b-2024-90030\n",
      "ibriibriibriibriibriibriibriibriibriibriibriibriibriibriibriibriibriibriibriibriibriibriibriibriibriibriibriibriibriibriibriibriibriibriibriibriibriibriibriibriibriibriibriibriibriibriibriibriibriibriibriibriibriibriibriibriibriibriibriibriibriibriibriibriibriibriibriibriibriibriibriibriibriibriibriibriibriibriibriibriibriibriibriibriibriibriibriibriibriibriibriibriibriibriibriibriibriibriibriibriibriibriibriibriibriibriibriibriibriibriibriibriibriibriibriibriibriibriibriibriibriibriibriibriibriibriibriibriibriibriibriibriibriibriibriibriibriibriibriibriibriibriibriibriibriibriibriibriibriibriibriibriibriibriibriibriibriibriibriibriibriibriibriibriibriibriibriibriibriibriibriibriibriibriibriibriibriibriibriibriibriibriibriibriibriibriibriibriibriibriibriibriibriibriibriibriibriibriibriibriibriibriibriibriibriibriibriibriibriibriibriibriibriibriibriibriibriibriibriibriibriibriibriibriibriibriibriibriibriibriibriibriibriibriibriibriibriibriibriibriibriibriibriibriibriibriibriibriibriibriibriibriibriibriibriibriibriibriibriibriibriibriibriibriibriibriibriibriibriibriibriibriibriibriibriibriibriibriibriibriibriibriibriibriibriibriibriibriibriibriibriibriibriibriibriibriibriibriibriibriibriibriibriibriibriibriibriibriibriibriibriibriibriibriibriibriibriibriibriibriibriibriibriibriibriibriibriibriibriibriibriibriibriibriibriibriibriibriibriibriibriibriibriibriibriibriibriibriibriibriibriibriibriibriibriibriibriibriibriibriibriibriibriibriibriibriibriibriibriibriibriibriibriibriibriibriibriibriibriibriibriibriibriibriibriibriibriibriibriibriibriibriibriibriibriibriibriibriibriibriibriibriibriibriibriibriibriibriibriibriibriibriibriibriibriibriibriibriibriibriibriibriibriibriibriibriibriibriibriibriibriibriibriibriibriibriibriibriibriibriibriibriibriibriibriibriibriibriibriibriibriibriibriibriibriibriibriibriibriibriibriibriibriibriibriibriibriibriibriibriibriibriibriibriibriibriibriibriibriibriibriibriibriibriibriibriibriibriibriibriibriibriibriibriibriibriibriibriibriibriibriibriibriibriibriibriibriibriibriibriibriibriibriibriibriibriibriibriibriibriibriibriibriibriibriibriibriibriibriibriibriibriibriibriibriibriibriibriibriibriibriibriibriibriibriibriibriibriibriibriibriibriibriibriibriibriibriibriibriibriibriibriibriibriibriibriibriibriibriibriibriibriibriibriibriibriibriibriibriibriibriibriibriibriibriibriibriibriibriibriibriibriibriibriibriibriibriibriibriibriibriibriibriibriibriibriibriibriibriibriibriibriibriibriibriibriibriibriibriibriibriibriibriibriibriibriibriibriibriibriibriibriibriibriibriibriibriibriibriibriibriibriibriibriibriibriibriibriibriibriibriibriibriibriibriibriibriibriibriibriibriibriibriibriibriibriibriibriibriibriibriibriibriibriibriibriibriibriibriibriibriibriibriibriibriibriibriibriibriibriibriibriibriibriibriibriibriibriibriibriibriibriibriibriibriibriibriibriibriibriibriibriibriibriibriibriibriibriibriibriibriibriibriibriibriibriibriibriibriibriibriibriibriibriibriibriibriibriibriibriibriibriibriibriibriibriibriibriibriibriibriibriibriibriibriibriibriibriibriibriibriibriibriibriibriibriibriibriibriibriibriibriibriibriibriibriibriibriibriibriibriibriibriibriibriibriibriibriibriibriibriibriibriibriibriibriibriibriibriibriibriibriibriibriibriibriibriibriibriibriibriibriibriibriibriibriibriibriibriibriibriibriibriibriibriibriibriibriibriibriibriibriibriibriibriibriibriibriibriibriibriibriibriibriibriibriibriibriibriibriibriibriibriibriibriibriibriibriibriibriibriibriibriibriibriibriibriibriibriibriibriibriibriibriibriibriibriibriibriibriibriibriibriibriibriibriibriibriibriibriibriibriibriibriibriibriibriibriibriibriibriibriibriibriibriibriibriibriibriibriibriibriibriibriibriibriibriibriibriibriibriibriibriibriibriibriibriibriibriibriibriibriibriibriibriibriibriibriibriibriibriibriibriibriibriibriibriibriibriibriibriibriibriibriibriibriibriibriibriibriibriibriibriibriibriibriibriibriibriibriibriibriibriibriibriibriibriibriibriibriibriibriibriibriibriibriibriibriibriibriibriibriibriibriibriibriibriibriibriibriibriibriibriibriibriibriibriibriibriibriibriibriibriibriibriibriibriibriibriibriibriibriibriibriibriibriibriibriibriibriibriibriibriibriibriibriibriibriibriibriibriibriibriibriibriibriibriibriibriibriibriibriibriibriibriibriibriibriibriibriibriibriibriibriibriibriibriibriibriibriibriibriibriibriibriibriibriibriibriibriibriibriibriibriibriibriibriibriibriibriibriibriibriibriibriibriibriibriibriibriibriibriibriibriibriibriibriibriibriibriibriibriibriibriibriibriibriibriibriibriibriibriibriibriibriibriibriibriibriibriibriibriibriibriibriibriibriibriibriibriibriibriibriibriibriibriibriibriibriibriibriibriibriibriibriibriibriibriibriibriibriibriibriibriibriibriibriibriibriibriibriibriibriibriibriibriibriibriibriibriibriibriibriibriibriibriibriibriibriibriibriibriibriibriibriibriibriibriibriibriibriibriibriibriibriibriibriibriibriibriibriibriibriibriibriibriibriibriibriibriibriibriibriibriibriibriibriibriibriibriibriibriibriibriibriibriibriibriibriibriibriibriibriibriibriibriibriibriibriibriibriibriibriibriibriibriibriibriibriibriibriibriibriibriibriibriibriibriibriibriibriibriibriibriibriibriibriibriibriibriibriibriibriibriibriibriibriibriibriibriibriibriibriibriibriibriibriibriibriibriibriibriibriibriibriibriibriibriibriibriibriibriibriibriibriibriibriibriibriibriibriibriibriibriibriibriibriibriibriibriibriibriibriibriibriibriibriibriibriibriibriibriibriibriibriibriibriibriibriibriibriibriibriibriibriibriibriibriibriibriibriibriibriibriibriibriibriibriibriibriibriibriibriibriibriibriibriibriibriibriibriibriibriibriibriibriibriibriibriibriibriibriibriibriibriibriibriibriibriibriibriibriibriibriibriibriibriibriibriibriibriibriibriibriibriibriibriibriibriibriibriibriibriibriibriibriibriibriibriibriibriibriibriibriibriibriibriibriibriibriibriibriibriibriibriibriibriibriibriibriibriibriibriibriibriibriibriibriibriibriibriibriibriibriibriibriibriibriibriibriibriibriibriibriibriibriibriibriibriibriibriibriibriibriibriibriibriibriibriibriibriibriibriibriibriibriibriibriibriibriibriibriibriibriibriibriibriibriibriibriibriibriibriibriibriibriibriibriibriibriibriibriibriibriibriibriibriibriibriibriibriibriibriibriibriibriibriibriibriibriibriibriibriibriibriibriibriibriibriibriibriibriibriibriibriibriibriibriibriibriibriibriibriibriibriibriibriibriibriibriibriibriibriibriibriibriibriibriibriibriibriibriibriibriibriibriibriibriibriibriibriibriibriibriibriibriibriibriibriibriibriibriibriibriibriibriibriibriibriibriibriibriibriibriibriibriibriibriibriibriibriibriibriibriibriibriibriibriibriibriibriibriibriibriibriibriibriibriibriibriibriibriibriibriibriibriibriibriibriibriibriibriibriibriibriibriibriibriibriibriibriibriibriibriibriibriibriibriibriibriibriibriibriibriibriibriibriibriibriibriibriibriibriibriibriibriibriibriibriibriibriibriibriibriibriibriibriibriibriibriibriibriibriibriibriibriibriibriibriibriibriibriibriibriibriibriibriibriibriibriibriibriibriibriibriibriibriibriibriibriibriibriibriibriibriibriibriibriibriibriibriibriibriibriibriibriibriibriibriibriibriibriibriibriibriibriibriibriibriibriibriibriibriibriibriibriibriibriibriibriibriibriibriibriibriibriibriibriibriibriibriibriibriibriibriibriibriibriibriibriibriibriibriibriibriibriibriibriibriibriibriibriibriibriibriibriibriibriibriibriibriibriibriibriibriibriibriibriibriibriibriibriibriibriibriibriibriibriibriibriibriibriibriibriibriibriibriibriibriibriibriibriibriibriibriibriibriibriibriibriibriibriibriibriibriibriibriibriibriibriibriibriibriibriibriibriibriibriibriibriibriibriibriibriibriibriibriibriibriibriibriibriibriibriibriibriibriibriibriibriibriibriibriibriibriibriibriibriibriibriibriibriibriibriibriibriibriibriibriibriibriibriibriibriibriibriibriibriibriibriibriibriibriibriibriibriibriibriibriibriibriibriibriibriibriibriibriibriibriibriibriibriibriibriibriibriibriibriibriibriibriibriibriibriibriibriibriibriibriibriibriibriibriibriibriibriibriibriibriibriibriibriibriibriibriibriibriibriibriibriibriibriibriibriibriibriibriibriibriibriibriibriibriibriibriibriibriibriibriibriibriibriibriibriibriibriibriibriibriibriibriibriibriibriibriibriibriibriibriibriibriibriibriibriibriibriibriibriibriibriibriibriibriibriibriibriibriibriibriibriibriibriibriibriibriibriibriibriibriibriibriibriibriibriibriibriibriibriibriibriibriibriibriibriibriibriibriibriibriibriibriibriibriibriibriibriibriibriibriibriibriibriibriibriibriibriibriibriibriibriibriibriibriibriibriibriibriibriibriibriibriibriibriibriibriibriibriibriibriibriibriibriibriibriibriibriibriibriibriibriibriibriibriibriibriibriibriibriibriibriibriibriibriibriibriibriibriibriibriibriibriibriibriibriibriibriibriibriibriibriibriibriibriibriibriibriibriibriibriibriibriibriibriibriibriibriibriibriibriibriibriibriibriibriibriibriibriibriibriibriibriibriibriibriibriibriibriibriibriibriibriibriibriibriibriibriibriibriibriibriibriibriibriibriibriibriibriibriibriibriibriibriibriibriibriibriibriibriibriibriibriibriibriibriibriibriibriibriibriibriibriibriibriibriibriibriibriibriibriibriibriibriibriibriibriibriibriibriibriibriibriibriibriibriibriibriibriibriibriibriibriibriibriibriibriibriibriibriibriibriibriibriibriibriibriibriibriibriibriibriibriibriibriibriibriibriibriibriibriibriibriibriibriibriibriibriibriibriibriibriibriibriibriibriibriibriibriibriibriibriibriibriibriibriibriibriibriibriibriibriibriibriibriibriibriibriibriibriibriibriibriibriibriibriibriibriibriibriibriibriibriibriibriibriibriibriibriibriibriibriibriibriibriibriibriibriibriibriibriibriibriibriibriibriibriibriibriibriibriibriibriibriibriibriibriibriibriibriibriibriibriibriibriibriibriibriibriibriibriibriibriibriibriibriibriibriibriibriibriibriibriibriibriibriibriibriibriibriibriibriibriibriibriibriibriibriibriibriibriibriibriibriibriibriibriibriibriibriibriibriibriibriibriibriibriibriibriibriibriibriibriibriibriibriibriibriibriibriibriibriibriibriibriibriibriibriibriibriibriibriibriibriibriibriibriibriibriibriibriibriibriibriibriibriibriibriibriibriibriibriibriibriibriibriibriibriibriibriibriibriibriibriibriibriibriibriibriibriibriibriibriibriibriibriibriibriibriibriibriibriibriibriibriibriibriibriibriibriibriibriibriibriibriibriibriibriibriibriibriibriibriibriibriibriibriibriibriibriibriibriibriibriibriibriibriibriibriibriibriibriibriibriibriibriibriibriibriibriibriibriibriibriibriibriibriibriibriibriibriibriibriibriibriibriibriibriibriibriibriibriibriibriibriibriibriibriibriibriibriibriibriibriibriibriibriibriibriibriibriibriibriibriibriibriibriibriibriibriibriibriibriibriibriibriibriibriibriibriibriibriibriibriibriibriibriibriibriibriibriibriibriibriibriibriibriibriibriibriibriibriibriibriibriibriibriibriibriibriibriibriibriibriibriibriibriibriibriibriibriibriibriibriibriibriibriibriibriibriibriibriibriibriibriibriibriibriibriibriibriibri\n",
      "Generating 0 questions\n",
      "Generating 0 questions\n",
      "Generating 0 questions\n",
      "Generating 0 questions\n",
      "Generating 0 questions\n",
      "Se ha producido una excepción: Extra data: line 1 column 3 (char 2)\n",
      "Wrong generated on url https://www.boe.es/diario_boe/xml.php?id=BOJA-b-2024-90030\n",
      "[]\n",
      "No se han generado tripletas de pregunta/respuesta/contexto para el bloque de texto proporcionado, ya que no se han encontrado información suficiente para crear preguntas y respuestas claras y precisas.\n",
      "Generating 0 questions\n",
      "Se ha producido una excepción: Expecting value: line 1 column 1 (char 0)\n",
      "Wrong generated on url https://www.boe.es/diario_boe/xml.php?id=BOJA-b-2024-90030\n",
      "No hay tripletas de pregunta/respuesta/contexto que generar para este bloque de texto, ya que no se proporciona información suficiente para crear preguntas y respuestas claras y precisas. El texto parece ser una normativa de desarrollo y no contiene información que pueda ser utilizada para crear preguntas y respuestas independientes.\n",
      "Generating 0 questions\n",
      "Generating 0 questions\n",
      "Se ha producido una excepción: Expecting value: line 1 column 1 (char 0)\n",
      "Wrong generated on url https://www.boe.es/diario_boe/xml.php?id=BOJA-b-2024-90030\n",
      "No hay tripletas de pregunta/respuesta/contexto que generar para este bloque de texto, ya que no se proporciona información suficiente para crear preguntas y respuestas claras y precisas. El texto parece ser una compilación de modificaciones a una ley o reglamento, y no contiene información que pueda ser utilizada para crear preguntas y respuestas independientes.\n",
      "Generating 0 questions\n",
      "Se ha producido una excepción: Expecting value: line 1 column 1 (char 0)\n",
      "Wrong generated on url https://www.boe.es/diario_boe/xml.php?id=BOJA-b-2024-90030\n",
      "No hay tripletas de pregunta/respuesta/contexto que generar para este bloque de texto.\n",
      "Generating 0 questions\n",
      "Se ha producido una excepción: Expecting value: line 1 column 1 (char 0)\n",
      "Wrong generated on url https://www.boe.es/diario_boe/xml.php?id=BOJA-b-2024-90030\n",
      "No hay tripletas de pregunta/respuesta/contexto que generar para este bloque de texto, ya que no se proporciona información que permita crear preguntas y respuestas claras y precisas. El texto parece ser una lista de categorías y subcategorías de instalaciones y actividades que requieren autorización ambiental, pero no proporciona información adicional que permita crear preguntas y respuestas significativas.\n",
      "Generating 0 questions\n",
      "Se ha producido una excepción: Expecting value: line 1 column 1 (char 0)\n",
      "Wrong generated on url https://www.boe.es/diario_boe/xml.php?id=BOJA-b-2024-90030\n",
      "No hay tripletas de pregunta/respuesta/contexto que se puedan generar a partir del bloque de texto proporcionado, ya que el texto no contiene información que permita crear preguntas y respuestas claras y precisas. El texto parece ser una lista de categorías y descripciones de actividades que requieren autorización ambiental, junto con modificaciones a decretos y leyes relacionadas con la gestión ambiental. No hay información suficiente para crear preguntas y respuestas independientes.\n",
      "Generating 0 questions\n",
      "Se ha producido una excepción: Expecting value: line 1 column 1 (char 0)\n",
      "Wrong generated on url https://www.boe.es/diario_boe/xml.php?id=BOJA-b-2024-90030\n",
      "No hay tripletas de pregunta/respuesta/contexto que generar para este bloque de texto, ya que no se proporciona información suficiente para crear preguntas y respuestas autónomas y precisas. El texto parece ser una modificación de un decreto o ley, y no contiene información que pueda ser utilizada para crear preguntas y respuestas independientes.\n",
      "Generating 0 questions\n",
      "Generating 0 questions\n",
      "Se ha producido una excepción: Expecting value: line 1 column 1 (char 0)\n",
      "Wrong generated on url https://www.boe.es/diario_boe/xml.php?id=BOJA-b-2024-90030\n",
      "No hay tripletas de pregunta/respuesta/contexto que se puedan generar a partir de este bloque de texto, ya que no contiene información suficiente para crear preguntas y respuestas claras y precisas. El texto parece ser una modificación de un decreto o ley, y no proporciona información concreta que pueda ser utilizada para generar preguntas y respuestas.\n",
      "Generating 0 questions\n",
      "Se ha producido una excepción: Expecting value: line 1 column 1 (char 0)\n",
      "Wrong generated on url https://www.boe.es/diario_boe/xml.php?id=BOJA-b-2024-90030\n",
      "No hay tripletas de pregunta/respuesta/contexto que generar para este bloque de texto.\n",
      "Generating 0 questions\n",
      "Generating 0 questions\n",
      "Generating 0 questions\n",
      "Generating 0 questions\n",
      "Se ha producido una excepción: Expecting value: line 1 column 1 (char 0)\n",
      "Wrong generated on url https://www.boe.es/diario_boe/xml.php?id=BOJA-b-2024-90030\n",
      "No se generan tripletas de pregunta/respuesta/contexto para este bloque de texto, ya que no se proporciona información sobre el Boletín Oficial del Estado (BOE) de España. El texto parece ser una modificación de una ley o reglamento relacionado con la caza y la pesca en Andalucía, y no contiene información relevante sobre el BOE.\n",
      "Generating 0 questions\n",
      "Generating 0 questions\n",
      "Se ha producido una excepción: Expecting value: line 1 column 1 (char 0)\n",
      "Wrong generated on url https://www.boe.es/diario_boe/xml.php?id=BOJA-b-2024-90030\n",
      "No hay tripletas de pregunta/respuesta/contexto que generar para este bloque de texto, ya que no se proporciona información que permita crear preguntas y respuestas claras y precisas. El texto parece ser una modificación de un decreto o reglamento, y no contiene información que pueda ser utilizada para crear preguntas y respuestas independientes.\n",
      "Generating 0 questions\n",
      "Se ha producido una excepción: Expecting value: line 1 column 1 (char 0)\n",
      "Wrong generated on url https://www.boe.es/diario_boe/xml.php?id=BOJA-b-2024-90030\n",
      "No hay tripletas de pregunta/respuesta/contexto que generar para este bloque de texto, ya que no se proporciona información suficiente para crear preguntas y respuestas autónomas y precisas. El texto parece ser una compilación de modificaciones a diferentes decretos y reglamentos, y no contiene información que pueda ser utilizada para crear preguntas y respuestas independientes.\n",
      "Generating 0 questions\n",
      "Se ha producido una excepción: Extra data: line 1 column 3 (char 2)\n",
      "Wrong generated on url https://www.boe.es/diario_boe/xml.php?id=BOJA-b-2024-90030\n",
      "[]\n",
      "(Note: Since the provided text does not contain any relevant information that can be used to create question-answer pairs, the output is an empty list.)\n",
      "Generating 0 questions\n",
      "Generating 0 questions\n",
      "Generating 0 questions\n",
      "Generating 0 questions\n",
      "Se ha producido una excepción: Expecting value: line 1 column 1 (char 0)\n",
      "Wrong generated on url https://www.boe.es/diario_boe/xml.php?id=BOJA-b-2024-90030\n",
      "No hay tripletas de pregunta/respuesta/contexto que generar para este bloque de texto, ya que no se proporciona información sobre el Boletín Oficial del Estado (BOE) de España. El texto parece ser un decreto-ley de la Junta de Andalucía que regula various aspectos de la administración autonómica, pero no tiene relación con el BOE.\n",
      "Generating 0 questions\n",
      "Se ha producido una excepción: Extra data: line 1 column 3 (char 2)\n",
      "Wrong generated on url https://www.boe.es/diario_boe/xml.php?id=BOJA-b-2024-90030\n",
      "[]\n",
      "No hay tripletas de pregunta/respuesta/contexto que se puedan generar a partir del bloque de texto proporcionado, ya que el texto se refiere a disposiciones adicionales y transitorias de un decreto-ley y no contiene información que permita generar preguntas y respuestas claras y precisas.\n",
      "Generating 0 questions\n",
      "Generating 0 questions\n",
      "Generating 0 questions\n",
      "Se ha producido una excepción: Expecting value: line 1 column 1 (char 0)\n",
      "Wrong generated on url https://www.boe.es/diario_boe/xml.php?id=BOJA-b-2024-90030\n",
      "No hay tripletas de pregunta/respuesta/contexto que generar para este bloque de texto, ya que no se proporciona información suficiente para crear preguntas y respuestas claras y precisas. El texto parece ser una compilación de disposiciones transitorias y derogatorias de un decreto-ley, lo que no proporciona información sustancial para crear preguntas y respuestas.\n",
      "Generating 0 questions\n",
      "Se ha producido una excepción: Expecting value: line 1 column 1 (char 0)\n",
      "Wrong generated on url https://www.boe.es/diario_boe/xml.php?id=BOJA-b-2024-90030\n",
      "No hay tripletas de pregunta/respuesta/contexto que generar para este bloque de texto, ya que no contiene información que pueda ser utilizada para crear preguntas y respuestas claras y precisas. El texto parece ser una lista de disposiciones y normas legales que se derogan o modifican, sin proporcionar información adicional que pueda ser utilizada para crear preguntas y respuestas.\n",
      "Generating 0 questions\n",
      "Se ha producido una excepción: Expecting value: line 1 column 1 (char 0)\n",
      "Wrong generated on url https://www.boe.es/diario_boe/xml.php?id=BOJA-b-2024-90030\n",
      "No hay tripletas de pregunta/respuesta/contexto que se puedan generar a partir del bloque de texto proporcionado, ya que el texto se refiere a disposiciones legales y normativas, y no contiene información que permita generar preguntas y respuestas claras y precisas.\n",
      "Generating 0 questions\n"
     ]
    },
    {
     "name": "stderr",
     "output_type": "stream",
     "text": [
      "[2024-07-11 22:24:10,100] [16647] [INFO] [download_document] Scrapping document: https://www.boe.es/diario_boe/xml.php?id=BOE-A-2022-11589\n"
     ]
    },
    {
     "name": "stdout",
     "output_type": "stream",
     "text": [
      "Se ha producido una excepción: Extra data: line 1 column 3 (char 2)\n",
      "Wrong generated on url https://www.boe.es/diario_boe/xml.php?id=BOJA-b-2024-90030\n",
      "[]\n",
      "(Note: Since there is no text provided, I couldn't generate any tripletas of pregunta/respuesta/contexto. The output is an empty JSON array.)\n"
     ]
    },
    {
     "name": "stderr",
     "output_type": "stream",
     "text": [
      "[2024-07-11 22:24:10,910] [16647] [INFO] [download_eli_document] Scrapping consolidated text (eli) from document: https://www.boe.es/eli/es/l/2022/07/12/15\n",
      "[2024-07-11 22:24:12,007] [16647] [INFO] [download_eli_document] Scrapped consolidated text (eli) successfully from document: https://www.boe.es/eli/es/l/2022/07/12/15\n",
      "[2024-07-11 22:24:12,008] [16647] [INFO] [download_document] Scrapped document successfully https://www.boe.es/eli/es/l/2022/07/12/15\n"
     ]
    },
    {
     "name": "stdout",
     "output_type": "stream",
     "text": [
      "The document https://www.boe.es/diario_boe/xml.php?id=BOE-A-2022-11589 was splitted on 10 texts\n",
      "Generating 10 questions\n",
      "Generating 10 questions\n",
      "Generating 10 questions\n",
      "Generating 10 questions\n",
      "Generating 10 questions\n",
      "Generating 10 questions\n",
      "Generating 10 questions\n",
      "Generating 10 questions\n",
      "Generating 10 questions\n",
      "Generating 10 questions\n"
     ]
    },
    {
     "name": "stderr",
     "output_type": "stream",
     "text": [
      "[2024-07-11 22:36:48,828] [16647] [INFO] [download_document] Scrapping document: https://www.boe.es/diario_boe/xml.php?id=BOE-A-2017-12902\n",
      "[2024-07-11 22:36:50,405] [16647] [INFO] [download_eli_document] Scrapping consolidated text (eli) from document: https://www.boe.es/eli/es/l/2017/11/08/9\n",
      "[2024-07-11 22:36:52,089] [16647] [INFO] [download_eli_document] Scrapped consolidated text (eli) successfully from document: https://www.boe.es/eli/es/l/2017/11/08/9\n",
      "[2024-07-11 22:36:52,092] [16647] [INFO] [download_document] Scrapped document successfully https://www.boe.es/eli/es/l/2017/11/08/9\n"
     ]
    },
    {
     "name": "stdout",
     "output_type": "stream",
     "text": [
      "The document https://www.boe.es/diario_boe/xml.php?id=BOE-A-2017-12902 was splitted on 70 texts\n",
      "Generating 1 questions\n",
      "Generating 1 questions\n",
      "Generating 1 questions\n",
      "Se ha producido una excepción: Extra data: line 1 column 606 (char 605)\n",
      "Wrong generated on url https://www.boe.es/diario_boe/xml.php?id=BOE-A-2017-12902\n",
      "[\n",
      "    {\n",
      "        \"question\": \"¿Cuál es el objetivo principal de la legislación de contratos públicos?\",\n",
      "        \"context\": \"La legislación de contratos públicos, de marcado carácter nacional, encuentra, no obstante, el fundamento de muchas de sus instituciones más allá de nuestras fronteras, en concreto, dentro de la actividad normativa de instituciones de carácter internacional, como es el caso de la OCDE, de UNCITRAL –en el ámbito de la ONU–, o, especialmente, de la Unión Europea.\",\n",
      "        \"answer\": \"Lograr una mayor transparencia en la contratación pública y una mejor relación calidad-precio.\"\n",
      "    }\n",
      "]\n",
      "Note: I generated only one triplet as per your request. If you need more, please let me know!\n",
      "Generating 1 questions\n",
      "Generating 1 questions\n",
      "Generating 1 questions\n",
      "Generating 1 questions\n",
      "Se ha producido una excepción: Extra data: line 1 column 973 (char 972)\n",
      "Wrong generated on url https://www.boe.es/diario_boe/xml.php?id=BOE-A-2017-12902\n",
      "[\n",
      "    {\n",
      "        \"question\": \"¿Cuáles son las entidades que se consideran parte del sector público?\",\n",
      "        \"context\": \"A los efectos de esta Ley, se considera que forman parte del sector público las siguientes entidades: a) La Administración General del Estado, las Administraciones de las Comunidades Autónomas, las Ciudades Autónomas de Ceuta y Melilla y las Entidades que integran la Administración Local. b) Las Entidades Gestoras y los Servicios Comunes de la Seguridad Social. c) Los Organismos Autónomos, las Universidades Públicas y las autoridades administrativas independientes.\",\n",
      "        \"answer\": \"La Administración General del Estado, las Administraciones de las Comunidades Autónomas, las Ciudades Autónomas de Ceuta y Melilla, las Entidades que integran la Administración Local, las Entidades Gestoras y los Servicios Comunes de la Seguridad Social, los Organismos Autónomos, las Universidades Públicas y las autoridades administrativas independientes.\"\n",
      "    }\n",
      "]\n",
      "Note: I generated only one triplet as per your request. If you need more, please let me know!\n",
      "Generating 1 questions\n",
      "Generating 1 questions\n",
      "Generating 1 questions\n",
      "Generating 1 questions\n",
      "Generating 1 questions\n",
      "Generating 1 questions\n",
      "Generating 1 questions\n"
     ]
    },
    {
     "name": "stderr",
     "output_type": "stream",
     "text": [
      "[2024-07-11 22:54:32,690] [16647] [INFO] [groq._base_client] Retrying request to /openai/v1/chat/completions in 0.785088 seconds\n"
     ]
    },
    {
     "name": "stdout",
     "output_type": "stream",
     "text": [
      "Generating 1 questions\n",
      "Generating 1 questions\n",
      "Generating 1 questions\n",
      "Generating 1 questions\n",
      "Generating 1 questions\n",
      "Generating 1 questions\n",
      "Generating 1 questions\n",
      "Generating 1 questions\n",
      "Generating 1 questions\n",
      "Generating 1 questions\n",
      "Generating 1 questions\n",
      "Generating 1 questions\n",
      "Generating 1 questions\n",
      "Generating 1 questions\n",
      "Generating 1 questions\n",
      "Generating 1 questions\n",
      "Generating 1 questions\n",
      "Se ha producido una excepción: Extra data: line 1 column 604 (char 603)\n",
      "Wrong generated on url https://www.boe.es/diario_boe/xml.php?id=BOE-A-2017-12902\n",
      "[\n",
      "    {\n",
      "        \"question\": \"¿Cuál es el método que se utilizará para determinar los costes de ciclo de vida?\",\n",
      "        \"context\": \"El método utilizado para la evaluación de los costes imputados a externalidades medioambientales cumplirá todas las condiciones siguientes: a) estar basado en criterios verificables objetivamente y no discriminatorios; en particular, si no se ha establecido para una aplicación repetida o continuada, no favorecerá o perjudicará indebidamente a empresas determinadas;\",\n",
      "        \"answer\": \"Un método basado en criterios verificables objetivamente y no discriminatorios.\"\n",
      "    }\n",
      "]\n",
      "Nota: He generado solo una pregunta ya que el texto proporcionado es muy extenso y no quiero sobrecargar la respuesta. Si deseas, puedo generar más preguntas y respuestas.\n",
      "Generating 1 questions\n",
      "Generating 1 questions\n",
      "Generating 1 questions\n",
      "Se ha producido una excepción: Extra data: line 1 column 729 (char 728)\n",
      "Wrong generated on url https://www.boe.es/diario_boe/xml.php?id=BOE-A-2017-12902\n",
      "[\n",
      "    {\n",
      "        \"question\": \"¿Cuál es el plazo general de presentación de proposiciones en los procedimientos restringidos relativos a contratos sujetos a regulación armonizada?\",\n",
      "        \"context\": \"Artículo 164. Proposiciones. 1. El plazo general de presentación de proposiciones en los procedimientos restringidos relativos a contratos sujetos a regulación armonizada será el suficiente para la adecuada elaboración de las proposiciones en función del alcance y complejidad del contrato. En cualquier caso no será inferior a treinta días, contados a partir de la fecha de envío de la invitación escrita.\",\n",
      "        \"answer\": \"No será inferior a treinta días, contados a partir de la fecha de envío de la invitación escrita.\"\n",
      "    }\n",
      "]\n",
      "Note: I've generated only one triplet for the given text. If you want me to generate more, please let me know!\n",
      "Generating 1 questions\n",
      "Generating 1 questions\n",
      "Generating 1 questions\n",
      "Generating 1 questions\n",
      "Generating 1 questions\n",
      "Generating 1 questions\n",
      "Generating 1 questions\n",
      "Generating 1 questions\n",
      "Generating 1 questions\n",
      "Generating 1 questions\n",
      "Generating 1 questions\n",
      "Generating 1 questions\n",
      "Generating 1 questions\n",
      "Generating 1 questions\n",
      "Generating 1 questions\n",
      "Generating 1 questions\n",
      "Generating 1 questions\n",
      "Generating 1 questions\n",
      "Generating 1 questions\n",
      "Generating 1 questions\n",
      "Generating 1 questions\n",
      "Se ha producido una excepción: Extra data: line 1 column 664 (char 663)\n",
      "Wrong generated on url https://www.boe.es/diario_boe/xml.php?id=BOE-A-2017-12902\n",
      "[\n",
      "    {\n",
      "        \"question\": \"¿Cuál es el órgano colegiado que se crea para velar por la correcta aplicación de la legislación de contratación pública?\",\n",
      "        \"context\": \"Se crea la Oficina Independiente de Regulación y Supervisión de la Contratación como órgano colegiado de los previstos en el artículo 19 de Ley 40/2015, de 1 de octubre, de Régimen Jurídico del Sector Público, con la finalidad de velar por la correcta aplicación de la legislación y, en particular, promover la concurrencia y combatir las ilegalidades, en relación con la contratación pública.\",\n",
      "        \"answer\": \"La Oficina Independiente de Regulación y Supervisión de la Contratación.\"\n",
      "    }\n",
      "]\n",
      "Note: I've generated only one triplet as per your request. If you need more, please let me know!\n",
      "Generating 1 questions\n",
      "Generating 1 questions\n",
      "Generating 1 questions\n",
      "Generating 1 questions\n",
      "Generating 1 questions\n",
      "Generating 1 questions\n",
      "Generating 1 questions\n",
      "Generating 1 questions\n",
      "Generating 1 questions\n",
      "Generating 1 questions\n",
      "Generating 1 questions\n",
      "Generating 1 questions\n",
      "Generating 1 questions\n",
      "Generating 1 questions\n",
      "Generating 1 questions\n"
     ]
    },
    {
     "name": "stderr",
     "output_type": "stream",
     "text": [
      "[2024-07-12 00:01:52,061] [16647] [INFO] [download_document] Scrapping document: https://www.boe.es/diario_boe/xml.php?id=BOE-A-2011-15623\n",
      "[2024-07-12 00:01:52,528] [16647] [INFO] [download_eli_document] Scrapping consolidated text (eli) from document: https://www.boe.es/eli/es/l/2011/10/04/33\n",
      "[2024-07-12 00:01:53,381] [16647] [INFO] [download_eli_document] Scrapped consolidated text (eli) successfully from document: https://www.boe.es/eli/es/l/2011/10/04/33\n",
      "[2024-07-12 00:01:53,382] [16647] [INFO] [download_document] Scrapped document successfully https://www.boe.es/eli/es/l/2011/10/04/33\n"
     ]
    },
    {
     "name": "stdout",
     "output_type": "stream",
     "text": [
      "The document https://www.boe.es/diario_boe/xml.php?id=BOE-A-2011-15623 was splitted on 8 texts\n",
      "Generating 12 questions\n",
      "Generating 12 questions\n",
      "Generating 12 questions\n",
      "Generating 12 questions\n",
      "Generating 12 questions\n",
      "Generating 12 questions\n",
      "Generating 12 questions\n",
      "Generating 12 questions\n"
     ]
    },
    {
     "name": "stderr",
     "output_type": "stream",
     "text": [
      "[2024-07-12 00:11:45,488] [16647] [INFO] [download_document] Scrapping document: https://www.boe.es/diario_boe/xml.php?id=BOJA-b-2017-90529\n",
      "[2024-07-12 00:11:46,554] [16647] [INFO] [download_document] Scrapped document successfully https://www.boe.es/diario_boe/xml.php?id=BOJA-b-2017-90529\n"
     ]
    },
    {
     "name": "stdout",
     "output_type": "stream",
     "text": [
      "The document https://www.boe.es/diario_boe/xml.php?id=BOJA-b-2017-90529 was splitted on 9 texts\n",
      "Generating 11 questions\n",
      "Generating 11 questions\n",
      "Generating 11 questions\n",
      "Generating 11 questions\n",
      "Generating 11 questions\n",
      "Generating 11 questions\n",
      "Generating 11 questions\n",
      "Generating 11 questions\n",
      "Generating 11 questions\n"
     ]
    },
    {
     "name": "stderr",
     "output_type": "stream",
     "text": [
      "[2024-07-12 00:22:49,546] [16647] [INFO] [download_document] Scrapping document: https://www.boe.es/diario_boe/xml.php?id=BOE-A-2006-21990\n",
      "[2024-07-12 00:22:50,002] [16647] [INFO] [download_eli_document] Scrapping consolidated text (eli) from document: https://www.boe.es/eli/es/l/2006/12/14/39\n",
      "[2024-07-12 00:22:50,724] [16647] [INFO] [download_eli_document] Scrapped consolidated text (eli) successfully from document: https://www.boe.es/eli/es/l/2006/12/14/39\n",
      "[2024-07-12 00:22:50,726] [16647] [INFO] [download_document] Scrapped document successfully https://www.boe.es/eli/es/l/2006/12/14/39\n"
     ]
    },
    {
     "name": "stdout",
     "output_type": "stream",
     "text": [
      "The document https://www.boe.es/diario_boe/xml.php?id=BOE-A-2006-21990 was splitted on 6 texts\n",
      "Generating 16 questions\n",
      "Generating 16 questions\n",
      "Generating 16 questions\n",
      "Generating 16 questions\n",
      "Generating 16 questions\n",
      "Generating 16 questions\n"
     ]
    },
    {
     "name": "stderr",
     "output_type": "stream",
     "text": [
      "[2024-07-12 00:30:26,270] [16647] [INFO] [download_document] Scrapping document: https://www.boe.es/diario_boe/xml.php?id=BOE-A-2003-20254\n",
      "[2024-07-12 00:30:27,210] [16647] [INFO] [download_eli_document] Scrapping consolidated text (eli) from document: https://www.boe.es/eli/es/l/2003/11/03/33\n",
      "[2024-07-12 00:30:28,176] [16647] [INFO] [download_eli_document] Scrapped consolidated text (eli) successfully from document: https://www.boe.es/eli/es/l/2003/11/03/33\n",
      "[2024-07-12 00:30:28,178] [16647] [INFO] [download_document] Scrapped document successfully https://www.boe.es/eli/es/l/2003/11/03/33\n"
     ]
    },
    {
     "name": "stdout",
     "output_type": "stream",
     "text": [
      "The document https://www.boe.es/diario_boe/xml.php?id=BOE-A-2003-20254 was splitted on 18 texts\n",
      "Generating 5 questions\n",
      "Generating 5 questions\n",
      "Generating 5 questions\n",
      "Generating 5 questions\n",
      "Generating 5 questions\n",
      "Generating 5 questions\n",
      "Generating 5 questions\n",
      "Generating 5 questions\n",
      "Generating 5 questions\n",
      "Generating 5 questions\n",
      "Generating 5 questions\n",
      "Generating 5 questions\n",
      "Generating 5 questions\n",
      "Generating 5 questions\n",
      "Generating 5 questions\n",
      "Generating 5 questions\n",
      "Generating 5 questions\n",
      "Generating 5 questions\n"
     ]
    },
    {
     "name": "stderr",
     "output_type": "stream",
     "text": [
      "[2024-07-12 00:52:09,864] [16647] [INFO] [download_document] Scrapping document: https://www.boe.es/diario_boe/xml.php?id=BOE-A-2015-10566\n",
      "[2024-07-12 00:52:10,588] [16647] [INFO] [download_eli_document] Scrapping consolidated text (eli) from document: https://www.boe.es/eli/es/l/2015/10/01/40\n",
      "[2024-07-12 00:52:11,748] [16647] [INFO] [download_eli_document] Scrapped consolidated text (eli) successfully from document: https://www.boe.es/eli/es/l/2015/10/01/40\n",
      "[2024-07-12 00:52:11,750] [16647] [INFO] [download_document] Scrapped document successfully https://www.boe.es/eli/es/l/2015/10/01/40\n"
     ]
    },
    {
     "name": "stdout",
     "output_type": "stream",
     "text": [
      "The document https://www.boe.es/diario_boe/xml.php?id=BOE-A-2015-10566 was splitted on 28 texts\n",
      "Generating 3 questions\n",
      "Generating 3 questions\n",
      "Generating 3 questions\n",
      "Generating 3 questions\n",
      "Generating 3 questions\n",
      "Generating 3 questions\n",
      "Generating 3 questions\n",
      "Generating 3 questions\n",
      "Generating 3 questions\n",
      "Generating 3 questions\n",
      "Generating 3 questions\n",
      "Generating 3 questions\n",
      "Generating 3 questions\n",
      "Generating 3 questions\n",
      "Generating 3 questions\n",
      "Generating 3 questions\n",
      "Generating 3 questions\n",
      "Generating 3 questions\n",
      "Generating 3 questions\n",
      "Generating 3 questions\n",
      "Generating 3 questions\n",
      "Generating 3 questions\n",
      "Generating 3 questions\n",
      "Generating 3 questions\n",
      "Generating 3 questions\n",
      "Generating 3 questions\n",
      "Generating 3 questions\n",
      "Generating 3 questions\n"
     ]
    },
    {
     "name": "stderr",
     "output_type": "stream",
     "text": [
      "[2024-07-12 01:26:06,319] [16647] [INFO] [download_document] Scrapping document: https://www.boe.es/diario_boe/xml.php?id=BOE-A-2018-16673\n",
      "[2024-07-12 01:26:07,258] [16647] [INFO] [download_eli_document] Scrapping consolidated text (eli) from document: https://www.boe.es/eli/es/lo/2018/12/05/3\n",
      "[2024-07-12 01:26:08,070] [16647] [INFO] [download_eli_document] Scrapped consolidated text (eli) successfully from document: https://www.boe.es/eli/es/lo/2018/12/05/3\n",
      "[2024-07-12 01:26:08,072] [16647] [INFO] [download_document] Scrapped document successfully https://www.boe.es/eli/es/lo/2018/12/05/3\n"
     ]
    },
    {
     "name": "stdout",
     "output_type": "stream",
     "text": [
      "The document https://www.boe.es/diario_boe/xml.php?id=BOE-A-2018-16673 was splitted on 16 texts\n",
      "Generating 6 questions\n",
      "Generating 6 questions\n",
      "Generating 6 questions\n",
      "Generating 6 questions\n",
      "Generating 6 questions\n",
      "Generating 6 questions\n",
      "Generating 6 questions\n",
      "Generating 6 questions\n",
      "Generating 6 questions\n",
      "Generating 6 questions\n",
      "Generating 6 questions\n",
      "Generating 6 questions\n"
     ]
    },
    {
     "name": "stderr",
     "output_type": "stream",
     "text": [
      "[2024-07-12 01:41:26,660] [16647] [INFO] [groq._base_client] Retrying request to /openai/v1/chat/completions in 0.976010 seconds\n"
     ]
    },
    {
     "name": "stdout",
     "output_type": "stream",
     "text": [
      "Generating 6 questions\n",
      "Generating 6 questions\n",
      "Generating 6 questions\n",
      "Generating 6 questions\n"
     ]
    },
    {
     "name": "stderr",
     "output_type": "stream",
     "text": [
      "[2024-07-12 01:46:24,600] [16647] [INFO] [download_document] Scrapping document: https://www.boe.es/diario_boe/xml.php?id=BOE-A-2022-14630\n",
      "[2024-07-12 01:46:34,657] [16647] [WARNING] [urllib3.connectionpool] Retrying (Retry(total=4, connect=4, read=5, redirect=None, status=None)) after connection broken by 'ConnectTimeoutError(<urllib3.connection.HTTPSConnection object at 0x7f1d1df55900>, 'Connection to www.boe.es timed out. (connect timeout=10)')': /diario_boe/xml.php?id=BOE-A-2022-14630\n",
      "[2024-07-12 01:46:46,675] [16647] [WARNING] [urllib3.connectionpool] Retrying (Retry(total=3, connect=3, read=5, redirect=None, status=None)) after connection broken by 'ConnectTimeoutError(<urllib3.connection.HTTPSConnection object at 0x7f1d1d4960e0>, 'Connection to www.boe.es timed out. (connect timeout=10)')': /diario_boe/xml.php?id=BOE-A-2022-14630\n",
      "[2024-07-12 01:47:00,695] [16647] [WARNING] [urllib3.connectionpool] Retrying (Retry(total=2, connect=2, read=5, redirect=None, status=None)) after connection broken by 'ConnectTimeoutError(<urllib3.connection.HTTPSConnection object at 0x7f1d1df557b0>, 'Connection to www.boe.es timed out. (connect timeout=10)')': /diario_boe/xml.php?id=BOE-A-2022-14630\n",
      "[2024-07-12 01:47:18,717] [16647] [WARNING] [urllib3.connectionpool] Retrying (Retry(total=1, connect=1, read=5, redirect=None, status=None)) after connection broken by 'ConnectTimeoutError(<urllib3.connection.HTTPSConnection object at 0x7f1d1df556f0>, 'Connection to www.boe.es timed out. (connect timeout=10)')': /diario_boe/xml.php?id=BOE-A-2022-14630\n",
      "[2024-07-12 01:47:44,746] [16647] [WARNING] [urllib3.connectionpool] Retrying (Retry(total=0, connect=0, read=5, redirect=None, status=None)) after connection broken by 'ConnectTimeoutError(<urllib3.connection.HTTPSConnection object at 0x7f1d1df55450>, 'Connection to www.boe.es timed out. (connect timeout=10)')': /diario_boe/xml.php?id=BOE-A-2022-14630\n"
     ]
    },
    {
     "ename": "ConnectTimeout",
     "evalue": "HTTPSConnectionPool(host='www.boe.es', port=443): Max retries exceeded with url: /diario_boe/xml.php?id=BOE-A-2022-14630 (Caused by ConnectTimeoutError(<urllib3.connection.HTTPSConnection object at 0x7f1d1df553c0>, 'Connection to www.boe.es timed out. (connect timeout=10)'))",
     "output_type": "error",
     "traceback": [
      "\u001b[0;31m---------------------------------------------------------------------------\u001b[0m",
      "\u001b[0;31mTimeoutError\u001b[0m                              Traceback (most recent call last)",
      "File \u001b[0;32m~/justicio/env3.10/lib/python3.10/site-packages/urllib3/connection.py:198\u001b[0m, in \u001b[0;36mHTTPConnection._new_conn\u001b[0;34m(self)\u001b[0m\n\u001b[1;32m    197\u001b[0m \u001b[38;5;28;01mtry\u001b[39;00m:\n\u001b[0;32m--> 198\u001b[0m     sock \u001b[38;5;241m=\u001b[39m \u001b[43mconnection\u001b[49m\u001b[38;5;241;43m.\u001b[39;49m\u001b[43mcreate_connection\u001b[49m\u001b[43m(\u001b[49m\n\u001b[1;32m    199\u001b[0m \u001b[43m        \u001b[49m\u001b[43m(\u001b[49m\u001b[38;5;28;43mself\u001b[39;49m\u001b[38;5;241;43m.\u001b[39;49m\u001b[43m_dns_host\u001b[49m\u001b[43m,\u001b[49m\u001b[43m \u001b[49m\u001b[38;5;28;43mself\u001b[39;49m\u001b[38;5;241;43m.\u001b[39;49m\u001b[43mport\u001b[49m\u001b[43m)\u001b[49m\u001b[43m,\u001b[49m\n\u001b[1;32m    200\u001b[0m \u001b[43m        \u001b[49m\u001b[38;5;28;43mself\u001b[39;49m\u001b[38;5;241;43m.\u001b[39;49m\u001b[43mtimeout\u001b[49m\u001b[43m,\u001b[49m\n\u001b[1;32m    201\u001b[0m \u001b[43m        \u001b[49m\u001b[43msource_address\u001b[49m\u001b[38;5;241;43m=\u001b[39;49m\u001b[38;5;28;43mself\u001b[39;49m\u001b[38;5;241;43m.\u001b[39;49m\u001b[43msource_address\u001b[49m\u001b[43m,\u001b[49m\n\u001b[1;32m    202\u001b[0m \u001b[43m        \u001b[49m\u001b[43msocket_options\u001b[49m\u001b[38;5;241;43m=\u001b[39;49m\u001b[38;5;28;43mself\u001b[39;49m\u001b[38;5;241;43m.\u001b[39;49m\u001b[43msocket_options\u001b[49m\u001b[43m,\u001b[49m\n\u001b[1;32m    203\u001b[0m \u001b[43m    \u001b[49m\u001b[43m)\u001b[49m\n\u001b[1;32m    204\u001b[0m \u001b[38;5;28;01mexcept\u001b[39;00m socket\u001b[38;5;241m.\u001b[39mgaierror \u001b[38;5;28;01mas\u001b[39;00m e:\n",
      "File \u001b[0;32m~/justicio/env3.10/lib/python3.10/site-packages/urllib3/util/connection.py:85\u001b[0m, in \u001b[0;36mcreate_connection\u001b[0;34m(address, timeout, source_address, socket_options)\u001b[0m\n\u001b[1;32m     84\u001b[0m \u001b[38;5;28;01mtry\u001b[39;00m:\n\u001b[0;32m---> 85\u001b[0m     \u001b[38;5;28;01mraise\u001b[39;00m err\n\u001b[1;32m     86\u001b[0m \u001b[38;5;28;01mfinally\u001b[39;00m:\n\u001b[1;32m     87\u001b[0m     \u001b[38;5;66;03m# Break explicitly a reference cycle\u001b[39;00m\n",
      "File \u001b[0;32m~/justicio/env3.10/lib/python3.10/site-packages/urllib3/util/connection.py:73\u001b[0m, in \u001b[0;36mcreate_connection\u001b[0;34m(address, timeout, source_address, socket_options)\u001b[0m\n\u001b[1;32m     72\u001b[0m     sock\u001b[38;5;241m.\u001b[39mbind(source_address)\n\u001b[0;32m---> 73\u001b[0m \u001b[43msock\u001b[49m\u001b[38;5;241;43m.\u001b[39;49m\u001b[43mconnect\u001b[49m\u001b[43m(\u001b[49m\u001b[43msa\u001b[49m\u001b[43m)\u001b[49m\n\u001b[1;32m     74\u001b[0m \u001b[38;5;66;03m# Break explicitly a reference cycle\u001b[39;00m\n",
      "\u001b[0;31mTimeoutError\u001b[0m: timed out",
      "\nThe above exception was the direct cause of the following exception:\n",
      "\u001b[0;31mConnectTimeoutError\u001b[0m                       Traceback (most recent call last)",
      "File \u001b[0;32m~/justicio/env3.10/lib/python3.10/site-packages/urllib3/connectionpool.py:793\u001b[0m, in \u001b[0;36mHTTPConnectionPool.urlopen\u001b[0;34m(self, method, url, body, headers, retries, redirect, assert_same_host, timeout, pool_timeout, release_conn, chunked, body_pos, preload_content, decode_content, **response_kw)\u001b[0m\n\u001b[1;32m    792\u001b[0m \u001b[38;5;66;03m# Make the request on the HTTPConnection object\u001b[39;00m\n\u001b[0;32m--> 793\u001b[0m response \u001b[38;5;241m=\u001b[39m \u001b[38;5;28;43mself\u001b[39;49m\u001b[38;5;241;43m.\u001b[39;49m\u001b[43m_make_request\u001b[49m\u001b[43m(\u001b[49m\n\u001b[1;32m    794\u001b[0m \u001b[43m    \u001b[49m\u001b[43mconn\u001b[49m\u001b[43m,\u001b[49m\n\u001b[1;32m    795\u001b[0m \u001b[43m    \u001b[49m\u001b[43mmethod\u001b[49m\u001b[43m,\u001b[49m\n\u001b[1;32m    796\u001b[0m \u001b[43m    \u001b[49m\u001b[43murl\u001b[49m\u001b[43m,\u001b[49m\n\u001b[1;32m    797\u001b[0m \u001b[43m    \u001b[49m\u001b[43mtimeout\u001b[49m\u001b[38;5;241;43m=\u001b[39;49m\u001b[43mtimeout_obj\u001b[49m\u001b[43m,\u001b[49m\n\u001b[1;32m    798\u001b[0m \u001b[43m    \u001b[49m\u001b[43mbody\u001b[49m\u001b[38;5;241;43m=\u001b[39;49m\u001b[43mbody\u001b[49m\u001b[43m,\u001b[49m\n\u001b[1;32m    799\u001b[0m \u001b[43m    \u001b[49m\u001b[43mheaders\u001b[49m\u001b[38;5;241;43m=\u001b[39;49m\u001b[43mheaders\u001b[49m\u001b[43m,\u001b[49m\n\u001b[1;32m    800\u001b[0m \u001b[43m    \u001b[49m\u001b[43mchunked\u001b[49m\u001b[38;5;241;43m=\u001b[39;49m\u001b[43mchunked\u001b[49m\u001b[43m,\u001b[49m\n\u001b[1;32m    801\u001b[0m \u001b[43m    \u001b[49m\u001b[43mretries\u001b[49m\u001b[38;5;241;43m=\u001b[39;49m\u001b[43mretries\u001b[49m\u001b[43m,\u001b[49m\n\u001b[1;32m    802\u001b[0m \u001b[43m    \u001b[49m\u001b[43mresponse_conn\u001b[49m\u001b[38;5;241;43m=\u001b[39;49m\u001b[43mresponse_conn\u001b[49m\u001b[43m,\u001b[49m\n\u001b[1;32m    803\u001b[0m \u001b[43m    \u001b[49m\u001b[43mpreload_content\u001b[49m\u001b[38;5;241;43m=\u001b[39;49m\u001b[43mpreload_content\u001b[49m\u001b[43m,\u001b[49m\n\u001b[1;32m    804\u001b[0m \u001b[43m    \u001b[49m\u001b[43mdecode_content\u001b[49m\u001b[38;5;241;43m=\u001b[39;49m\u001b[43mdecode_content\u001b[49m\u001b[43m,\u001b[49m\n\u001b[1;32m    805\u001b[0m \u001b[43m    \u001b[49m\u001b[38;5;241;43m*\u001b[39;49m\u001b[38;5;241;43m*\u001b[39;49m\u001b[43mresponse_kw\u001b[49m\u001b[43m,\u001b[49m\n\u001b[1;32m    806\u001b[0m \u001b[43m\u001b[49m\u001b[43m)\u001b[49m\n\u001b[1;32m    808\u001b[0m \u001b[38;5;66;03m# Everything went great!\u001b[39;00m\n",
      "File \u001b[0;32m~/justicio/env3.10/lib/python3.10/site-packages/urllib3/connectionpool.py:491\u001b[0m, in \u001b[0;36mHTTPConnectionPool._make_request\u001b[0;34m(self, conn, method, url, body, headers, retries, timeout, chunked, response_conn, preload_content, decode_content, enforce_content_length)\u001b[0m\n\u001b[1;32m    490\u001b[0m         new_e \u001b[38;5;241m=\u001b[39m _wrap_proxy_error(new_e, conn\u001b[38;5;241m.\u001b[39mproxy\u001b[38;5;241m.\u001b[39mscheme)\n\u001b[0;32m--> 491\u001b[0m     \u001b[38;5;28;01mraise\u001b[39;00m new_e\n\u001b[1;32m    493\u001b[0m \u001b[38;5;66;03m# conn.request() calls http.client.*.request, not the method in\u001b[39;00m\n\u001b[1;32m    494\u001b[0m \u001b[38;5;66;03m# urllib3.request. It also calls makefile (recv) on the socket.\u001b[39;00m\n",
      "File \u001b[0;32m~/justicio/env3.10/lib/python3.10/site-packages/urllib3/connectionpool.py:467\u001b[0m, in \u001b[0;36mHTTPConnectionPool._make_request\u001b[0;34m(self, conn, method, url, body, headers, retries, timeout, chunked, response_conn, preload_content, decode_content, enforce_content_length)\u001b[0m\n\u001b[1;32m    466\u001b[0m \u001b[38;5;28;01mtry\u001b[39;00m:\n\u001b[0;32m--> 467\u001b[0m     \u001b[38;5;28;43mself\u001b[39;49m\u001b[38;5;241;43m.\u001b[39;49m\u001b[43m_validate_conn\u001b[49m\u001b[43m(\u001b[49m\u001b[43mconn\u001b[49m\u001b[43m)\u001b[49m\n\u001b[1;32m    468\u001b[0m \u001b[38;5;28;01mexcept\u001b[39;00m (SocketTimeout, BaseSSLError) \u001b[38;5;28;01mas\u001b[39;00m e:\n",
      "File \u001b[0;32m~/justicio/env3.10/lib/python3.10/site-packages/urllib3/connectionpool.py:1099\u001b[0m, in \u001b[0;36mHTTPSConnectionPool._validate_conn\u001b[0;34m(self, conn)\u001b[0m\n\u001b[1;32m   1098\u001b[0m \u001b[38;5;28;01mif\u001b[39;00m conn\u001b[38;5;241m.\u001b[39mis_closed:\n\u001b[0;32m-> 1099\u001b[0m     \u001b[43mconn\u001b[49m\u001b[38;5;241;43m.\u001b[39;49m\u001b[43mconnect\u001b[49m\u001b[43m(\u001b[49m\u001b[43m)\u001b[49m\n\u001b[1;32m   1101\u001b[0m \u001b[38;5;66;03m# TODO revise this, see https://github.com/urllib3/urllib3/issues/2791\u001b[39;00m\n",
      "File \u001b[0;32m~/justicio/env3.10/lib/python3.10/site-packages/urllib3/connection.py:616\u001b[0m, in \u001b[0;36mHTTPSConnection.connect\u001b[0;34m(self)\u001b[0m\n\u001b[1;32m    615\u001b[0m sock: socket\u001b[38;5;241m.\u001b[39msocket \u001b[38;5;241m|\u001b[39m ssl\u001b[38;5;241m.\u001b[39mSSLSocket\n\u001b[0;32m--> 616\u001b[0m \u001b[38;5;28mself\u001b[39m\u001b[38;5;241m.\u001b[39msock \u001b[38;5;241m=\u001b[39m sock \u001b[38;5;241m=\u001b[39m \u001b[38;5;28;43mself\u001b[39;49m\u001b[38;5;241;43m.\u001b[39;49m\u001b[43m_new_conn\u001b[49m\u001b[43m(\u001b[49m\u001b[43m)\u001b[49m\n\u001b[1;32m    617\u001b[0m server_hostname: \u001b[38;5;28mstr\u001b[39m \u001b[38;5;241m=\u001b[39m \u001b[38;5;28mself\u001b[39m\u001b[38;5;241m.\u001b[39mhost\n",
      "File \u001b[0;32m~/justicio/env3.10/lib/python3.10/site-packages/urllib3/connection.py:207\u001b[0m, in \u001b[0;36mHTTPConnection._new_conn\u001b[0;34m(self)\u001b[0m\n\u001b[1;32m    206\u001b[0m \u001b[38;5;28;01mexcept\u001b[39;00m SocketTimeout \u001b[38;5;28;01mas\u001b[39;00m e:\n\u001b[0;32m--> 207\u001b[0m     \u001b[38;5;28;01mraise\u001b[39;00m ConnectTimeoutError(\n\u001b[1;32m    208\u001b[0m         \u001b[38;5;28mself\u001b[39m,\n\u001b[1;32m    209\u001b[0m         \u001b[38;5;124mf\u001b[39m\u001b[38;5;124m\"\u001b[39m\u001b[38;5;124mConnection to \u001b[39m\u001b[38;5;132;01m{\u001b[39;00m\u001b[38;5;28mself\u001b[39m\u001b[38;5;241m.\u001b[39mhost\u001b[38;5;132;01m}\u001b[39;00m\u001b[38;5;124m timed out. (connect timeout=\u001b[39m\u001b[38;5;132;01m{\u001b[39;00m\u001b[38;5;28mself\u001b[39m\u001b[38;5;241m.\u001b[39mtimeout\u001b[38;5;132;01m}\u001b[39;00m\u001b[38;5;124m)\u001b[39m\u001b[38;5;124m\"\u001b[39m,\n\u001b[1;32m    210\u001b[0m     ) \u001b[38;5;28;01mfrom\u001b[39;00m \u001b[38;5;21;01me\u001b[39;00m\n\u001b[1;32m    212\u001b[0m \u001b[38;5;28;01mexcept\u001b[39;00m \u001b[38;5;167;01mOSError\u001b[39;00m \u001b[38;5;28;01mas\u001b[39;00m e:\n",
      "\u001b[0;31mConnectTimeoutError\u001b[0m: (<urllib3.connection.HTTPSConnection object at 0x7f1d1df553c0>, 'Connection to www.boe.es timed out. (connect timeout=10)')",
      "\nThe above exception was the direct cause of the following exception:\n",
      "\u001b[0;31mMaxRetryError\u001b[0m                             Traceback (most recent call last)",
      "File \u001b[0;32m~/justicio/env3.10/lib/python3.10/site-packages/requests/adapters.py:667\u001b[0m, in \u001b[0;36mHTTPAdapter.send\u001b[0;34m(self, request, stream, timeout, verify, cert, proxies)\u001b[0m\n\u001b[1;32m    666\u001b[0m \u001b[38;5;28;01mtry\u001b[39;00m:\n\u001b[0;32m--> 667\u001b[0m     resp \u001b[38;5;241m=\u001b[39m \u001b[43mconn\u001b[49m\u001b[38;5;241;43m.\u001b[39;49m\u001b[43murlopen\u001b[49m\u001b[43m(\u001b[49m\n\u001b[1;32m    668\u001b[0m \u001b[43m        \u001b[49m\u001b[43mmethod\u001b[49m\u001b[38;5;241;43m=\u001b[39;49m\u001b[43mrequest\u001b[49m\u001b[38;5;241;43m.\u001b[39;49m\u001b[43mmethod\u001b[49m\u001b[43m,\u001b[49m\n\u001b[1;32m    669\u001b[0m \u001b[43m        \u001b[49m\u001b[43murl\u001b[49m\u001b[38;5;241;43m=\u001b[39;49m\u001b[43murl\u001b[49m\u001b[43m,\u001b[49m\n\u001b[1;32m    670\u001b[0m \u001b[43m        \u001b[49m\u001b[43mbody\u001b[49m\u001b[38;5;241;43m=\u001b[39;49m\u001b[43mrequest\u001b[49m\u001b[38;5;241;43m.\u001b[39;49m\u001b[43mbody\u001b[49m\u001b[43m,\u001b[49m\n\u001b[1;32m    671\u001b[0m \u001b[43m        \u001b[49m\u001b[43mheaders\u001b[49m\u001b[38;5;241;43m=\u001b[39;49m\u001b[43mrequest\u001b[49m\u001b[38;5;241;43m.\u001b[39;49m\u001b[43mheaders\u001b[49m\u001b[43m,\u001b[49m\n\u001b[1;32m    672\u001b[0m \u001b[43m        \u001b[49m\u001b[43mredirect\u001b[49m\u001b[38;5;241;43m=\u001b[39;49m\u001b[38;5;28;43;01mFalse\u001b[39;49;00m\u001b[43m,\u001b[49m\n\u001b[1;32m    673\u001b[0m \u001b[43m        \u001b[49m\u001b[43massert_same_host\u001b[49m\u001b[38;5;241;43m=\u001b[39;49m\u001b[38;5;28;43;01mFalse\u001b[39;49;00m\u001b[43m,\u001b[49m\n\u001b[1;32m    674\u001b[0m \u001b[43m        \u001b[49m\u001b[43mpreload_content\u001b[49m\u001b[38;5;241;43m=\u001b[39;49m\u001b[38;5;28;43;01mFalse\u001b[39;49;00m\u001b[43m,\u001b[49m\n\u001b[1;32m    675\u001b[0m \u001b[43m        \u001b[49m\u001b[43mdecode_content\u001b[49m\u001b[38;5;241;43m=\u001b[39;49m\u001b[38;5;28;43;01mFalse\u001b[39;49;00m\u001b[43m,\u001b[49m\n\u001b[1;32m    676\u001b[0m \u001b[43m        \u001b[49m\u001b[43mretries\u001b[49m\u001b[38;5;241;43m=\u001b[39;49m\u001b[38;5;28;43mself\u001b[39;49m\u001b[38;5;241;43m.\u001b[39;49m\u001b[43mmax_retries\u001b[49m\u001b[43m,\u001b[49m\n\u001b[1;32m    677\u001b[0m \u001b[43m        \u001b[49m\u001b[43mtimeout\u001b[49m\u001b[38;5;241;43m=\u001b[39;49m\u001b[43mtimeout\u001b[49m\u001b[43m,\u001b[49m\n\u001b[1;32m    678\u001b[0m \u001b[43m        \u001b[49m\u001b[43mchunked\u001b[49m\u001b[38;5;241;43m=\u001b[39;49m\u001b[43mchunked\u001b[49m\u001b[43m,\u001b[49m\n\u001b[1;32m    679\u001b[0m \u001b[43m    \u001b[49m\u001b[43m)\u001b[49m\n\u001b[1;32m    681\u001b[0m \u001b[38;5;28;01mexcept\u001b[39;00m (ProtocolError, \u001b[38;5;167;01mOSError\u001b[39;00m) \u001b[38;5;28;01mas\u001b[39;00m err:\n",
      "File \u001b[0;32m~/justicio/env3.10/lib/python3.10/site-packages/urllib3/connectionpool.py:877\u001b[0m, in \u001b[0;36mHTTPConnectionPool.urlopen\u001b[0;34m(self, method, url, body, headers, retries, redirect, assert_same_host, timeout, pool_timeout, release_conn, chunked, body_pos, preload_content, decode_content, **response_kw)\u001b[0m\n\u001b[1;32m    874\u001b[0m     log\u001b[38;5;241m.\u001b[39mwarning(\n\u001b[1;32m    875\u001b[0m         \u001b[38;5;124m\"\u001b[39m\u001b[38;5;124mRetrying (\u001b[39m\u001b[38;5;132;01m%r\u001b[39;00m\u001b[38;5;124m) after connection broken by \u001b[39m\u001b[38;5;124m'\u001b[39m\u001b[38;5;132;01m%r\u001b[39;00m\u001b[38;5;124m'\u001b[39m\u001b[38;5;124m: \u001b[39m\u001b[38;5;132;01m%s\u001b[39;00m\u001b[38;5;124m\"\u001b[39m, retries, err, url\n\u001b[1;32m    876\u001b[0m     )\n\u001b[0;32m--> 877\u001b[0m     \u001b[38;5;28;01mreturn\u001b[39;00m \u001b[38;5;28;43mself\u001b[39;49m\u001b[38;5;241;43m.\u001b[39;49m\u001b[43murlopen\u001b[49m\u001b[43m(\u001b[49m\n\u001b[1;32m    878\u001b[0m \u001b[43m        \u001b[49m\u001b[43mmethod\u001b[49m\u001b[43m,\u001b[49m\n\u001b[1;32m    879\u001b[0m \u001b[43m        \u001b[49m\u001b[43murl\u001b[49m\u001b[43m,\u001b[49m\n\u001b[1;32m    880\u001b[0m \u001b[43m        \u001b[49m\u001b[43mbody\u001b[49m\u001b[43m,\u001b[49m\n\u001b[1;32m    881\u001b[0m \u001b[43m        \u001b[49m\u001b[43mheaders\u001b[49m\u001b[43m,\u001b[49m\n\u001b[1;32m    882\u001b[0m \u001b[43m        \u001b[49m\u001b[43mretries\u001b[49m\u001b[43m,\u001b[49m\n\u001b[1;32m    883\u001b[0m \u001b[43m        \u001b[49m\u001b[43mredirect\u001b[49m\u001b[43m,\u001b[49m\n\u001b[1;32m    884\u001b[0m \u001b[43m        \u001b[49m\u001b[43massert_same_host\u001b[49m\u001b[43m,\u001b[49m\n\u001b[1;32m    885\u001b[0m \u001b[43m        \u001b[49m\u001b[43mtimeout\u001b[49m\u001b[38;5;241;43m=\u001b[39;49m\u001b[43mtimeout\u001b[49m\u001b[43m,\u001b[49m\n\u001b[1;32m    886\u001b[0m \u001b[43m        \u001b[49m\u001b[43mpool_timeout\u001b[49m\u001b[38;5;241;43m=\u001b[39;49m\u001b[43mpool_timeout\u001b[49m\u001b[43m,\u001b[49m\n\u001b[1;32m    887\u001b[0m \u001b[43m        \u001b[49m\u001b[43mrelease_conn\u001b[49m\u001b[38;5;241;43m=\u001b[39;49m\u001b[43mrelease_conn\u001b[49m\u001b[43m,\u001b[49m\n\u001b[1;32m    888\u001b[0m \u001b[43m        \u001b[49m\u001b[43mchunked\u001b[49m\u001b[38;5;241;43m=\u001b[39;49m\u001b[43mchunked\u001b[49m\u001b[43m,\u001b[49m\n\u001b[1;32m    889\u001b[0m \u001b[43m        \u001b[49m\u001b[43mbody_pos\u001b[49m\u001b[38;5;241;43m=\u001b[39;49m\u001b[43mbody_pos\u001b[49m\u001b[43m,\u001b[49m\n\u001b[1;32m    890\u001b[0m \u001b[43m        \u001b[49m\u001b[43mpreload_content\u001b[49m\u001b[38;5;241;43m=\u001b[39;49m\u001b[43mpreload_content\u001b[49m\u001b[43m,\u001b[49m\n\u001b[1;32m    891\u001b[0m \u001b[43m        \u001b[49m\u001b[43mdecode_content\u001b[49m\u001b[38;5;241;43m=\u001b[39;49m\u001b[43mdecode_content\u001b[49m\u001b[43m,\u001b[49m\n\u001b[1;32m    892\u001b[0m \u001b[43m        \u001b[49m\u001b[38;5;241;43m*\u001b[39;49m\u001b[38;5;241;43m*\u001b[39;49m\u001b[43mresponse_kw\u001b[49m\u001b[43m,\u001b[49m\n\u001b[1;32m    893\u001b[0m \u001b[43m    \u001b[49m\u001b[43m)\u001b[49m\n\u001b[1;32m    895\u001b[0m \u001b[38;5;66;03m# Handle redirect?\u001b[39;00m\n",
      "File \u001b[0;32m~/justicio/env3.10/lib/python3.10/site-packages/urllib3/connectionpool.py:877\u001b[0m, in \u001b[0;36mHTTPConnectionPool.urlopen\u001b[0;34m(self, method, url, body, headers, retries, redirect, assert_same_host, timeout, pool_timeout, release_conn, chunked, body_pos, preload_content, decode_content, **response_kw)\u001b[0m\n\u001b[1;32m    874\u001b[0m     log\u001b[38;5;241m.\u001b[39mwarning(\n\u001b[1;32m    875\u001b[0m         \u001b[38;5;124m\"\u001b[39m\u001b[38;5;124mRetrying (\u001b[39m\u001b[38;5;132;01m%r\u001b[39;00m\u001b[38;5;124m) after connection broken by \u001b[39m\u001b[38;5;124m'\u001b[39m\u001b[38;5;132;01m%r\u001b[39;00m\u001b[38;5;124m'\u001b[39m\u001b[38;5;124m: \u001b[39m\u001b[38;5;132;01m%s\u001b[39;00m\u001b[38;5;124m\"\u001b[39m, retries, err, url\n\u001b[1;32m    876\u001b[0m     )\n\u001b[0;32m--> 877\u001b[0m     \u001b[38;5;28;01mreturn\u001b[39;00m \u001b[38;5;28;43mself\u001b[39;49m\u001b[38;5;241;43m.\u001b[39;49m\u001b[43murlopen\u001b[49m\u001b[43m(\u001b[49m\n\u001b[1;32m    878\u001b[0m \u001b[43m        \u001b[49m\u001b[43mmethod\u001b[49m\u001b[43m,\u001b[49m\n\u001b[1;32m    879\u001b[0m \u001b[43m        \u001b[49m\u001b[43murl\u001b[49m\u001b[43m,\u001b[49m\n\u001b[1;32m    880\u001b[0m \u001b[43m        \u001b[49m\u001b[43mbody\u001b[49m\u001b[43m,\u001b[49m\n\u001b[1;32m    881\u001b[0m \u001b[43m        \u001b[49m\u001b[43mheaders\u001b[49m\u001b[43m,\u001b[49m\n\u001b[1;32m    882\u001b[0m \u001b[43m        \u001b[49m\u001b[43mretries\u001b[49m\u001b[43m,\u001b[49m\n\u001b[1;32m    883\u001b[0m \u001b[43m        \u001b[49m\u001b[43mredirect\u001b[49m\u001b[43m,\u001b[49m\n\u001b[1;32m    884\u001b[0m \u001b[43m        \u001b[49m\u001b[43massert_same_host\u001b[49m\u001b[43m,\u001b[49m\n\u001b[1;32m    885\u001b[0m \u001b[43m        \u001b[49m\u001b[43mtimeout\u001b[49m\u001b[38;5;241;43m=\u001b[39;49m\u001b[43mtimeout\u001b[49m\u001b[43m,\u001b[49m\n\u001b[1;32m    886\u001b[0m \u001b[43m        \u001b[49m\u001b[43mpool_timeout\u001b[49m\u001b[38;5;241;43m=\u001b[39;49m\u001b[43mpool_timeout\u001b[49m\u001b[43m,\u001b[49m\n\u001b[1;32m    887\u001b[0m \u001b[43m        \u001b[49m\u001b[43mrelease_conn\u001b[49m\u001b[38;5;241;43m=\u001b[39;49m\u001b[43mrelease_conn\u001b[49m\u001b[43m,\u001b[49m\n\u001b[1;32m    888\u001b[0m \u001b[43m        \u001b[49m\u001b[43mchunked\u001b[49m\u001b[38;5;241;43m=\u001b[39;49m\u001b[43mchunked\u001b[49m\u001b[43m,\u001b[49m\n\u001b[1;32m    889\u001b[0m \u001b[43m        \u001b[49m\u001b[43mbody_pos\u001b[49m\u001b[38;5;241;43m=\u001b[39;49m\u001b[43mbody_pos\u001b[49m\u001b[43m,\u001b[49m\n\u001b[1;32m    890\u001b[0m \u001b[43m        \u001b[49m\u001b[43mpreload_content\u001b[49m\u001b[38;5;241;43m=\u001b[39;49m\u001b[43mpreload_content\u001b[49m\u001b[43m,\u001b[49m\n\u001b[1;32m    891\u001b[0m \u001b[43m        \u001b[49m\u001b[43mdecode_content\u001b[49m\u001b[38;5;241;43m=\u001b[39;49m\u001b[43mdecode_content\u001b[49m\u001b[43m,\u001b[49m\n\u001b[1;32m    892\u001b[0m \u001b[43m        \u001b[49m\u001b[38;5;241;43m*\u001b[39;49m\u001b[38;5;241;43m*\u001b[39;49m\u001b[43mresponse_kw\u001b[49m\u001b[43m,\u001b[49m\n\u001b[1;32m    893\u001b[0m \u001b[43m    \u001b[49m\u001b[43m)\u001b[49m\n\u001b[1;32m    895\u001b[0m \u001b[38;5;66;03m# Handle redirect?\u001b[39;00m\n",
      "    \u001b[0;31m[... skipping similar frames: HTTPConnectionPool.urlopen at line 877 (2 times)]\u001b[0m\n",
      "File \u001b[0;32m~/justicio/env3.10/lib/python3.10/site-packages/urllib3/connectionpool.py:877\u001b[0m, in \u001b[0;36mHTTPConnectionPool.urlopen\u001b[0;34m(self, method, url, body, headers, retries, redirect, assert_same_host, timeout, pool_timeout, release_conn, chunked, body_pos, preload_content, decode_content, **response_kw)\u001b[0m\n\u001b[1;32m    874\u001b[0m     log\u001b[38;5;241m.\u001b[39mwarning(\n\u001b[1;32m    875\u001b[0m         \u001b[38;5;124m\"\u001b[39m\u001b[38;5;124mRetrying (\u001b[39m\u001b[38;5;132;01m%r\u001b[39;00m\u001b[38;5;124m) after connection broken by \u001b[39m\u001b[38;5;124m'\u001b[39m\u001b[38;5;132;01m%r\u001b[39;00m\u001b[38;5;124m'\u001b[39m\u001b[38;5;124m: \u001b[39m\u001b[38;5;132;01m%s\u001b[39;00m\u001b[38;5;124m\"\u001b[39m, retries, err, url\n\u001b[1;32m    876\u001b[0m     )\n\u001b[0;32m--> 877\u001b[0m     \u001b[38;5;28;01mreturn\u001b[39;00m \u001b[38;5;28;43mself\u001b[39;49m\u001b[38;5;241;43m.\u001b[39;49m\u001b[43murlopen\u001b[49m\u001b[43m(\u001b[49m\n\u001b[1;32m    878\u001b[0m \u001b[43m        \u001b[49m\u001b[43mmethod\u001b[49m\u001b[43m,\u001b[49m\n\u001b[1;32m    879\u001b[0m \u001b[43m        \u001b[49m\u001b[43murl\u001b[49m\u001b[43m,\u001b[49m\n\u001b[1;32m    880\u001b[0m \u001b[43m        \u001b[49m\u001b[43mbody\u001b[49m\u001b[43m,\u001b[49m\n\u001b[1;32m    881\u001b[0m \u001b[43m        \u001b[49m\u001b[43mheaders\u001b[49m\u001b[43m,\u001b[49m\n\u001b[1;32m    882\u001b[0m \u001b[43m        \u001b[49m\u001b[43mretries\u001b[49m\u001b[43m,\u001b[49m\n\u001b[1;32m    883\u001b[0m \u001b[43m        \u001b[49m\u001b[43mredirect\u001b[49m\u001b[43m,\u001b[49m\n\u001b[1;32m    884\u001b[0m \u001b[43m        \u001b[49m\u001b[43massert_same_host\u001b[49m\u001b[43m,\u001b[49m\n\u001b[1;32m    885\u001b[0m \u001b[43m        \u001b[49m\u001b[43mtimeout\u001b[49m\u001b[38;5;241;43m=\u001b[39;49m\u001b[43mtimeout\u001b[49m\u001b[43m,\u001b[49m\n\u001b[1;32m    886\u001b[0m \u001b[43m        \u001b[49m\u001b[43mpool_timeout\u001b[49m\u001b[38;5;241;43m=\u001b[39;49m\u001b[43mpool_timeout\u001b[49m\u001b[43m,\u001b[49m\n\u001b[1;32m    887\u001b[0m \u001b[43m        \u001b[49m\u001b[43mrelease_conn\u001b[49m\u001b[38;5;241;43m=\u001b[39;49m\u001b[43mrelease_conn\u001b[49m\u001b[43m,\u001b[49m\n\u001b[1;32m    888\u001b[0m \u001b[43m        \u001b[49m\u001b[43mchunked\u001b[49m\u001b[38;5;241;43m=\u001b[39;49m\u001b[43mchunked\u001b[49m\u001b[43m,\u001b[49m\n\u001b[1;32m    889\u001b[0m \u001b[43m        \u001b[49m\u001b[43mbody_pos\u001b[49m\u001b[38;5;241;43m=\u001b[39;49m\u001b[43mbody_pos\u001b[49m\u001b[43m,\u001b[49m\n\u001b[1;32m    890\u001b[0m \u001b[43m        \u001b[49m\u001b[43mpreload_content\u001b[49m\u001b[38;5;241;43m=\u001b[39;49m\u001b[43mpreload_content\u001b[49m\u001b[43m,\u001b[49m\n\u001b[1;32m    891\u001b[0m \u001b[43m        \u001b[49m\u001b[43mdecode_content\u001b[49m\u001b[38;5;241;43m=\u001b[39;49m\u001b[43mdecode_content\u001b[49m\u001b[43m,\u001b[49m\n\u001b[1;32m    892\u001b[0m \u001b[43m        \u001b[49m\u001b[38;5;241;43m*\u001b[39;49m\u001b[38;5;241;43m*\u001b[39;49m\u001b[43mresponse_kw\u001b[49m\u001b[43m,\u001b[49m\n\u001b[1;32m    893\u001b[0m \u001b[43m    \u001b[49m\u001b[43m)\u001b[49m\n\u001b[1;32m    895\u001b[0m \u001b[38;5;66;03m# Handle redirect?\u001b[39;00m\n",
      "File \u001b[0;32m~/justicio/env3.10/lib/python3.10/site-packages/urllib3/connectionpool.py:847\u001b[0m, in \u001b[0;36mHTTPConnectionPool.urlopen\u001b[0;34m(self, method, url, body, headers, retries, redirect, assert_same_host, timeout, pool_timeout, release_conn, chunked, body_pos, preload_content, decode_content, **response_kw)\u001b[0m\n\u001b[1;32m    845\u001b[0m     new_e \u001b[38;5;241m=\u001b[39m ProtocolError(\u001b[38;5;124m\"\u001b[39m\u001b[38;5;124mConnection aborted.\u001b[39m\u001b[38;5;124m\"\u001b[39m, new_e)\n\u001b[0;32m--> 847\u001b[0m retries \u001b[38;5;241m=\u001b[39m \u001b[43mretries\u001b[49m\u001b[38;5;241;43m.\u001b[39;49m\u001b[43mincrement\u001b[49m\u001b[43m(\u001b[49m\n\u001b[1;32m    848\u001b[0m \u001b[43m    \u001b[49m\u001b[43mmethod\u001b[49m\u001b[43m,\u001b[49m\u001b[43m \u001b[49m\u001b[43murl\u001b[49m\u001b[43m,\u001b[49m\u001b[43m \u001b[49m\u001b[43merror\u001b[49m\u001b[38;5;241;43m=\u001b[39;49m\u001b[43mnew_e\u001b[49m\u001b[43m,\u001b[49m\u001b[43m \u001b[49m\u001b[43m_pool\u001b[49m\u001b[38;5;241;43m=\u001b[39;49m\u001b[38;5;28;43mself\u001b[39;49m\u001b[43m,\u001b[49m\u001b[43m \u001b[49m\u001b[43m_stacktrace\u001b[49m\u001b[38;5;241;43m=\u001b[39;49m\u001b[43msys\u001b[49m\u001b[38;5;241;43m.\u001b[39;49m\u001b[43mexc_info\u001b[49m\u001b[43m(\u001b[49m\u001b[43m)\u001b[49m\u001b[43m[\u001b[49m\u001b[38;5;241;43m2\u001b[39;49m\u001b[43m]\u001b[49m\n\u001b[1;32m    849\u001b[0m \u001b[43m\u001b[49m\u001b[43m)\u001b[49m\n\u001b[1;32m    850\u001b[0m retries\u001b[38;5;241m.\u001b[39msleep()\n",
      "File \u001b[0;32m~/justicio/env3.10/lib/python3.10/site-packages/urllib3/util/retry.py:515\u001b[0m, in \u001b[0;36mRetry.increment\u001b[0;34m(self, method, url, response, error, _pool, _stacktrace)\u001b[0m\n\u001b[1;32m    514\u001b[0m     reason \u001b[38;5;241m=\u001b[39m error \u001b[38;5;129;01mor\u001b[39;00m ResponseError(cause)\n\u001b[0;32m--> 515\u001b[0m     \u001b[38;5;28;01mraise\u001b[39;00m MaxRetryError(_pool, url, reason) \u001b[38;5;28;01mfrom\u001b[39;00m \u001b[38;5;21;01mreason\u001b[39;00m  \u001b[38;5;66;03m# type: ignore[arg-type]\u001b[39;00m\n\u001b[1;32m    517\u001b[0m log\u001b[38;5;241m.\u001b[39mdebug(\u001b[38;5;124m\"\u001b[39m\u001b[38;5;124mIncremented Retry for (url=\u001b[39m\u001b[38;5;124m'\u001b[39m\u001b[38;5;132;01m%s\u001b[39;00m\u001b[38;5;124m'\u001b[39m\u001b[38;5;124m): \u001b[39m\u001b[38;5;132;01m%r\u001b[39;00m\u001b[38;5;124m\"\u001b[39m, url, new_retry)\n",
      "\u001b[0;31mMaxRetryError\u001b[0m: HTTPSConnectionPool(host='www.boe.es', port=443): Max retries exceeded with url: /diario_boe/xml.php?id=BOE-A-2022-14630 (Caused by ConnectTimeoutError(<urllib3.connection.HTTPSConnection object at 0x7f1d1df553c0>, 'Connection to www.boe.es timed out. (connect timeout=10)'))",
      "\nDuring handling of the above exception, another exception occurred:\n",
      "\u001b[0;31mConnectTimeout\u001b[0m                            Traceback (most recent call last)",
      "Cell \u001b[0;32mIn[13], line 7\u001b[0m\n\u001b[1;32m      5\u001b[0m boe_scrapper \u001b[38;5;241m=\u001b[39m BOEScrapper()\n\u001b[1;32m      6\u001b[0m \u001b[38;5;66;03m# text = boe_scrapper.download_eli_document(url)\u001b[39;00m\n\u001b[0;32m----> 7\u001b[0m text \u001b[38;5;241m=\u001b[39m \u001b[43mboe_scrapper\u001b[49m\u001b[38;5;241;43m.\u001b[39;49m\u001b[43mdownload_document\u001b[49m\u001b[43m(\u001b[49m\u001b[43murl\u001b[49m\u001b[43m,\u001b[49m\u001b[43m \u001b[49m\u001b[43moutput_text\u001b[49m\u001b[38;5;241;43m=\u001b[39;49m\u001b[38;5;28;43;01mTrue\u001b[39;49;00m\u001b[43m)\u001b[49m\n\u001b[1;32m      9\u001b[0m \u001b[38;5;66;03m# Split original text because of the Groq API limits: https://console.groq.com/settings/limits\u001b[39;00m\n\u001b[1;32m     10\u001b[0m splitted \u001b[38;5;241m=\u001b[39m split_text_into_parts(text, part_size\u001b[38;5;241m=\u001b[39m\u001b[38;5;241m15_500\u001b[39m)\n",
      "File \u001b[0;32m~/justicio/src/etls/boe/scrapper.py:155\u001b[0m, in \u001b[0;36mBOEScrapper.download_document\u001b[0;34m(self, url, output_text)\u001b[0m\n\u001b[1;32m    153\u001b[0m logger\u001b[38;5;241m.\u001b[39minfo(\u001b[38;5;124m\"\u001b[39m\u001b[38;5;124mScrapping document: \u001b[39m\u001b[38;5;132;01m%s\u001b[39;00m\u001b[38;5;124m\"\u001b[39m, url)\n\u001b[1;32m    154\u001b[0m session \u001b[38;5;241m=\u001b[39m create_retry_session(retries\u001b[38;5;241m=\u001b[39m\u001b[38;5;241m5\u001b[39m)\n\u001b[0;32m--> 155\u001b[0m response \u001b[38;5;241m=\u001b[39m \u001b[43msession\u001b[49m\u001b[38;5;241;43m.\u001b[39;49m\u001b[43mget\u001b[49m\u001b[43m(\u001b[49m\u001b[43murl\u001b[49m\u001b[43m,\u001b[49m\u001b[43m \u001b[49m\u001b[43mtimeout\u001b[49m\u001b[38;5;241;43m=\u001b[39;49m\u001b[38;5;241;43m10\u001b[39;49m\u001b[43m)\u001b[49m\n\u001b[1;32m    156\u001b[0m response\u001b[38;5;241m.\u001b[39mraise_for_status()\n\u001b[1;32m    157\u001b[0m soup \u001b[38;5;241m=\u001b[39m BeautifulSoup(response\u001b[38;5;241m.\u001b[39mtext, \u001b[38;5;124m\"\u001b[39m\u001b[38;5;124mlxml\u001b[39m\u001b[38;5;124m\"\u001b[39m)\n",
      "File \u001b[0;32m~/justicio/env3.10/lib/python3.10/site-packages/requests/sessions.py:602\u001b[0m, in \u001b[0;36mSession.get\u001b[0;34m(self, url, **kwargs)\u001b[0m\n\u001b[1;32m    594\u001b[0m \u001b[38;5;250m\u001b[39m\u001b[38;5;124mr\u001b[39m\u001b[38;5;124;03m\"\"\"Sends a GET request. Returns :class:`Response` object.\u001b[39;00m\n\u001b[1;32m    595\u001b[0m \n\u001b[1;32m    596\u001b[0m \u001b[38;5;124;03m:param url: URL for the new :class:`Request` object.\u001b[39;00m\n\u001b[1;32m    597\u001b[0m \u001b[38;5;124;03m:param \\*\\*kwargs: Optional arguments that ``request`` takes.\u001b[39;00m\n\u001b[1;32m    598\u001b[0m \u001b[38;5;124;03m:rtype: requests.Response\u001b[39;00m\n\u001b[1;32m    599\u001b[0m \u001b[38;5;124;03m\"\"\"\u001b[39;00m\n\u001b[1;32m    601\u001b[0m kwargs\u001b[38;5;241m.\u001b[39msetdefault(\u001b[38;5;124m\"\u001b[39m\u001b[38;5;124mallow_redirects\u001b[39m\u001b[38;5;124m\"\u001b[39m, \u001b[38;5;28;01mTrue\u001b[39;00m)\n\u001b[0;32m--> 602\u001b[0m \u001b[38;5;28;01mreturn\u001b[39;00m \u001b[38;5;28;43mself\u001b[39;49m\u001b[38;5;241;43m.\u001b[39;49m\u001b[43mrequest\u001b[49m\u001b[43m(\u001b[49m\u001b[38;5;124;43m\"\u001b[39;49m\u001b[38;5;124;43mGET\u001b[39;49m\u001b[38;5;124;43m\"\u001b[39;49m\u001b[43m,\u001b[49m\u001b[43m \u001b[49m\u001b[43murl\u001b[49m\u001b[43m,\u001b[49m\u001b[43m \u001b[49m\u001b[38;5;241;43m*\u001b[39;49m\u001b[38;5;241;43m*\u001b[39;49m\u001b[43mkwargs\u001b[49m\u001b[43m)\u001b[49m\n",
      "File \u001b[0;32m~/justicio/env3.10/lib/python3.10/site-packages/requests/sessions.py:589\u001b[0m, in \u001b[0;36mSession.request\u001b[0;34m(self, method, url, params, data, headers, cookies, files, auth, timeout, allow_redirects, proxies, hooks, stream, verify, cert, json)\u001b[0m\n\u001b[1;32m    584\u001b[0m send_kwargs \u001b[38;5;241m=\u001b[39m {\n\u001b[1;32m    585\u001b[0m     \u001b[38;5;124m\"\u001b[39m\u001b[38;5;124mtimeout\u001b[39m\u001b[38;5;124m\"\u001b[39m: timeout,\n\u001b[1;32m    586\u001b[0m     \u001b[38;5;124m\"\u001b[39m\u001b[38;5;124mallow_redirects\u001b[39m\u001b[38;5;124m\"\u001b[39m: allow_redirects,\n\u001b[1;32m    587\u001b[0m }\n\u001b[1;32m    588\u001b[0m send_kwargs\u001b[38;5;241m.\u001b[39mupdate(settings)\n\u001b[0;32m--> 589\u001b[0m resp \u001b[38;5;241m=\u001b[39m \u001b[38;5;28;43mself\u001b[39;49m\u001b[38;5;241;43m.\u001b[39;49m\u001b[43msend\u001b[49m\u001b[43m(\u001b[49m\u001b[43mprep\u001b[49m\u001b[43m,\u001b[49m\u001b[43m \u001b[49m\u001b[38;5;241;43m*\u001b[39;49m\u001b[38;5;241;43m*\u001b[39;49m\u001b[43msend_kwargs\u001b[49m\u001b[43m)\u001b[49m\n\u001b[1;32m    591\u001b[0m \u001b[38;5;28;01mreturn\u001b[39;00m resp\n",
      "File \u001b[0;32m~/justicio/env3.10/lib/python3.10/site-packages/requests/sessions.py:703\u001b[0m, in \u001b[0;36mSession.send\u001b[0;34m(self, request, **kwargs)\u001b[0m\n\u001b[1;32m    700\u001b[0m start \u001b[38;5;241m=\u001b[39m preferred_clock()\n\u001b[1;32m    702\u001b[0m \u001b[38;5;66;03m# Send the request\u001b[39;00m\n\u001b[0;32m--> 703\u001b[0m r \u001b[38;5;241m=\u001b[39m \u001b[43madapter\u001b[49m\u001b[38;5;241;43m.\u001b[39;49m\u001b[43msend\u001b[49m\u001b[43m(\u001b[49m\u001b[43mrequest\u001b[49m\u001b[43m,\u001b[49m\u001b[43m \u001b[49m\u001b[38;5;241;43m*\u001b[39;49m\u001b[38;5;241;43m*\u001b[39;49m\u001b[43mkwargs\u001b[49m\u001b[43m)\u001b[49m\n\u001b[1;32m    705\u001b[0m \u001b[38;5;66;03m# Total elapsed time of the request (approximately)\u001b[39;00m\n\u001b[1;32m    706\u001b[0m elapsed \u001b[38;5;241m=\u001b[39m preferred_clock() \u001b[38;5;241m-\u001b[39m start\n",
      "File \u001b[0;32m~/justicio/env3.10/lib/python3.10/site-packages/requests/adapters.py:688\u001b[0m, in \u001b[0;36mHTTPAdapter.send\u001b[0;34m(self, request, stream, timeout, verify, cert, proxies)\u001b[0m\n\u001b[1;32m    685\u001b[0m \u001b[38;5;28;01mif\u001b[39;00m \u001b[38;5;28misinstance\u001b[39m(e\u001b[38;5;241m.\u001b[39mreason, ConnectTimeoutError):\n\u001b[1;32m    686\u001b[0m     \u001b[38;5;66;03m# TODO: Remove this in 3.0.0: see #2811\u001b[39;00m\n\u001b[1;32m    687\u001b[0m     \u001b[38;5;28;01mif\u001b[39;00m \u001b[38;5;129;01mnot\u001b[39;00m \u001b[38;5;28misinstance\u001b[39m(e\u001b[38;5;241m.\u001b[39mreason, NewConnectionError):\n\u001b[0;32m--> 688\u001b[0m         \u001b[38;5;28;01mraise\u001b[39;00m ConnectTimeout(e, request\u001b[38;5;241m=\u001b[39mrequest)\n\u001b[1;32m    690\u001b[0m \u001b[38;5;28;01mif\u001b[39;00m \u001b[38;5;28misinstance\u001b[39m(e\u001b[38;5;241m.\u001b[39mreason, ResponseError):\n\u001b[1;32m    691\u001b[0m     \u001b[38;5;28;01mraise\u001b[39;00m RetryError(e, request\u001b[38;5;241m=\u001b[39mrequest)\n",
      "\u001b[0;31mConnectTimeout\u001b[0m: HTTPSConnectionPool(host='www.boe.es', port=443): Max retries exceeded with url: /diario_boe/xml.php?id=BOE-A-2022-14630 (Caused by ConnectTimeoutError(<urllib3.connection.HTTPSConnection object at 0x7f1d1df553c0>, 'Connection to www.boe.es timed out. (connect timeout=10)'))"
     ]
    }
   ],
   "source": [
    "data = []\n",
    "errors = []\n",
    "for url in URLS[::-1]:\n",
    "\n",
    "    document_id = url.split(\"?id=\")[1]\n",
    "    \n",
    "    boe_scrapper = BOEScrapper()\n",
    "    # text = boe_scrapper.download_eli_document(url)\n",
    "    text = boe_scrapper.download_document(url, output_text=True)\n",
    "\n",
    "    # Split original text because of the Groq API limits: https://console.groq.com/settings/limits\n",
    "    splitted = split_text_into_parts(text, part_size=15_500)\n",
    "    print(f\"The document {url} was splitted on {len(splitted)} texts\")\n",
    "    for text_splitted in splitted:\n",
    "        time.sleep(66)  # groq limits: https://console.groq.com/settings/limits\n",
    "\n",
    "        questions = QUESTIONS_PER_DOCUMENT // len(splitted)\n",
    "        limit_questions = 16\n",
    "        if questions > limit_questions:  # groq limits generation\n",
    "            questions = limit_questions\n",
    "        elif questions == 0:\n",
    "            questions = 1\n",
    "        print(f\"Generating {questions} questions\")\n",
    "\n",
    "        # Generate questions\n",
    "        query = f\"Genera {questions} tripletas de pregunta/respuesta/contexto para el siguiente bloque de texto: {text_splitted}. Retorna en formato JSON.\"\n",
    "        chat_completion = client.chat.completions.create(\n",
    "            messages=[\n",
    "                {\n",
    "                    \"role\": \"system\",\n",
    "                    \"content\": SYSTEM_PROMPT,\n",
    "                },\n",
    "                {\n",
    "                    \"role\": \"user\",\n",
    "                    \"content\": query,\n",
    "                },\n",
    "            ],\n",
    "            model=\"llama3-70b-8192\",\n",
    "            temperature=0,\n",
    "            stream=False,\n",
    "            # max_tokens=1024\n",
    "        )\n",
    "\n",
    "        try:\n",
    "            content = chat_completion.choices[0].message.content\n",
    "\n",
    "            json_start = content.find('[')\n",
    "            cleaned_content = content[json_start:].replace('\\n', '').replace('\\r', '').replace(',]', ']').replace('```', '')\n",
    "\n",
    "            if cleaned_content.strip():\n",
    "                responses = json.loads(cleaned_content)\n",
    "                for response in responses:\n",
    "                    if len(response['context']) > 120:\n",
    "                        row = {}\n",
    "                        row['document'] = document_id\n",
    "                        row['question'] = response['question']\n",
    "                        row['context'] = response['context']\n",
    "                        row['answer'] = response['answer']\n",
    "                        data.append(response)\n",
    "            \n",
    "        except Exception as e:\n",
    "            print(f\"Se ha producido una excepción: {e}\")\n",
    "            print(f\"Wrong generated on url {url}\")\n",
    "            print(chat_completion.choices[0].message.content)"
   ]
  },
  {
   "cell_type": "code",
   "execution_count": 14,
   "id": "52d4d81f-beb5-404e-8638-c7ed5d99df9a",
   "metadata": {},
   "outputs": [
    {
     "data": {
      "text/plain": [
       "2460"
      ]
     },
     "execution_count": 14,
     "metadata": {},
     "output_type": "execute_result"
    }
   ],
   "source": [
    "len(data)"
   ]
  },
  {
   "cell_type": "code",
   "execution_count": 15,
   "id": "b6944cb9-fcd4-4524-9b7a-729ff1013f2e",
   "metadata": {},
   "outputs": [
    {
     "name": "stdout",
     "output_type": "stream",
     "text": [
      "301.3670731707317\n"
     ]
    }
   ],
   "source": [
    "# Calculating the mean of the contexts length\n",
    "contexts = []\n",
    "for d in data:\n",
    "    contexts.append(len(d['context']))\n",
    "print(sum(contexts) / len(contexts))"
   ]
  },
  {
   "cell_type": "code",
   "execution_count": 16,
   "id": "e2a6eb26-e321-42f5-8582-328f7d85a927",
   "metadata": {},
   "outputs": [
    {
     "name": "stdout",
     "output_type": "stream",
     "text": [
      "Posición: 957, Valor: 1138\n",
      "Posición: 1672, Valor: 1050\n",
      "Posición: 1921, Valor: 1041\n",
      "Posición: 1143, Valor: 973\n",
      "Posición: 211, Valor: 937\n",
      "Posición: 1670, Valor: 910\n",
      "Posición: 953, Valor: 902\n",
      "Posición: 125, Valor: 892\n",
      "Posición: 1798, Valor: 892\n",
      "Posición: 1823, Valor: 881\n"
     ]
    }
   ],
   "source": [
    "# Obtener las posiciones de los 10 mayores elementos\n",
    "posiciones = sorted(range(len(contexts)), key=lambda i: contexts[i], reverse=True)[:10]\n",
    "\n",
    "# Imprimir las posiciones y los valores correspondientes\n",
    "for pos in posiciones:\n",
    "    print(f\"Posición: {pos}, Valor: {contexts[pos]}\")"
   ]
  },
  {
   "cell_type": "code",
   "execution_count": null,
   "id": "1ec6ec74-bc48-4e18-8e4f-a44322c6c621",
   "metadata": {},
   "outputs": [],
   "source": []
  },
  {
   "cell_type": "code",
   "execution_count": null,
   "id": "7740004c-81b6-4b50-8a30-d00402b6d885",
   "metadata": {},
   "outputs": [],
   "source": []
  },
  {
   "cell_type": "code",
   "execution_count": 17,
   "id": "c6963d0a-5f0c-4b78-8c88-c3176b8f0682",
   "metadata": {},
   "outputs": [
    {
     "name": "stdout",
     "output_type": "stream",
     "text": [
      "Posición: 977, Valor: 121\n",
      "Posición: 1181, Valor: 121\n",
      "Posición: 1276, Valor: 121\n",
      "Posición: 1300, Valor: 121\n",
      "Posición: 1597, Valor: 121\n",
      "Posición: 263, Valor: 122\n",
      "Posición: 279, Valor: 122\n",
      "Posición: 757, Valor: 122\n",
      "Posición: 951, Valor: 122\n",
      "Posición: 1211, Valor: 122\n"
     ]
    }
   ],
   "source": [
    "# Obtener las posiciones de los 10 mayores elementos\n",
    "posiciones = sorted(range(len(contexts)), key=lambda i: contexts[i], reverse=False)[:10]\n",
    "\n",
    "# Imprimir las posiciones y los valores correspondientes\n",
    "for pos in posiciones:\n",
    "    print(f\"Posición: {pos}, Valor: {contexts[pos]}\")"
   ]
  },
  {
   "cell_type": "code",
   "execution_count": 18,
   "id": "d98b6ce9-03a3-4d6c-8f36-828ba8d0552a",
   "metadata": {},
   "outputs": [
    {
     "data": {
      "text/plain": [
       "{'question': '¿Qué tipo de Entidades locales pueden crear las Comunidades Autónomas?',\n",
       " 'context': 'Las Comunidades Autónomas, de acuerdo con lo dispuesto en sus respectivos Estatutos, podrán crear en su territorio comarcas u otras Entidades que agrupen varios Municipios, cuyas características determinen intereses comunes precisados de una gestión propia o demanden la prestación de servicios de dicho ámbito.',\n",
       " 'answer': 'Comarcas u otras Entidades que agrupen varios Municipios.'}"
      ]
     },
     "execution_count": 18,
     "metadata": {},
     "output_type": "execute_result"
    }
   ],
   "source": [
    "data[415]"
   ]
  },
  {
   "cell_type": "code",
   "execution_count": null,
   "id": "37b42551-0a7c-496e-8ba9-d9f251be0673",
   "metadata": {},
   "outputs": [],
   "source": []
  },
  {
   "cell_type": "code",
   "execution_count": null,
   "id": "d85361b9-03fa-437b-9680-4cd421b2ac7d",
   "metadata": {},
   "outputs": [],
   "source": []
  },
  {
   "cell_type": "code",
   "execution_count": null,
   "id": "0b418443-9fd5-4465-ba8c-985aa60550a4",
   "metadata": {},
   "outputs": [],
   "source": []
  },
  {
   "cell_type": "code",
   "execution_count": null,
   "id": "2ad4a4a5-43e0-446b-8443-8556bd11711b",
   "metadata": {},
   "outputs": [],
   "source": []
  },
  {
   "cell_type": "code",
   "execution_count": 19,
   "id": "21b3e5e4-bfee-4b32-93b3-4f58eb073b63",
   "metadata": {},
   "outputs": [],
   "source": [
    "# Convertir la lista de diccionarios a un diccionario de listas\n",
    "data_dict = {key: [dic[key] for dic in data] for key in data[0]}"
   ]
  },
  {
   "cell_type": "code",
   "execution_count": 20,
   "id": "f271c40b-e1e1-4a22-8ec1-830b9f018ec1",
   "metadata": {},
   "outputs": [],
   "source": [
    "dataset = Dataset.from_dict(data_dict)"
   ]
  },
  {
   "cell_type": "code",
   "execution_count": 21,
   "id": "1cd600e6-55f2-4b5a-b25b-3e182d6da77e",
   "metadata": {},
   "outputs": [
    {
     "data": {
      "text/plain": [
       "Dataset({\n",
       "    features: ['question', 'context', 'answer'],\n",
       "    num_rows: 2460\n",
       "})"
      ]
     },
     "execution_count": 21,
     "metadata": {},
     "output_type": "execute_result"
    }
   ],
   "source": [
    "dataset"
   ]
  },
  {
   "cell_type": "code",
   "execution_count": 22,
   "id": "42f1a7ff-81a2-4150-ba9b-6c05119838ad",
   "metadata": {},
   "outputs": [
    {
     "name": "stdout",
     "output_type": "stream",
     "text": [
      "The token has not been saved to the git credentials helper. Pass `add_to_git_credential=True` in this function directly or `--add-to-git-credential` if using via `huggingface-cli` if you want to set the git credential as well.\n",
      "Token is valid (permission: write).\n",
      "Your token has been saved to /home/vant/.cache/huggingface/token\n",
      "Login successful\n"
     ]
    }
   ],
   "source": [
    "import huggingface_hub\n",
    "\n",
    "huggingface_hub.login()"
   ]
  },
  {
   "cell_type": "code",
   "execution_count": 23,
   "id": "b9b3d9f0-a311-4986-a873-0bf6968e50c8",
   "metadata": {},
   "outputs": [
    {
     "data": {
      "application/vnd.jupyter.widget-view+json": {
       "model_id": "ebbe24fd2a7d459281ef1952078e57df",
       "version_major": 2,
       "version_minor": 0
      },
      "text/plain": [
       "Uploading the dataset shards:   0%|          | 0/1 [00:00<?, ?it/s]"
      ]
     },
     "metadata": {},
     "output_type": "display_data"
    },
    {
     "data": {
      "application/vnd.jupyter.widget-view+json": {
       "model_id": "f4986be676b44cf2ac9108eef0e53851",
       "version_major": 2,
       "version_minor": 0
      },
      "text/plain": [
       "Creating parquet from Arrow format:   0%|          | 0/3 [00:00<?, ?ba/s]"
      ]
     },
     "metadata": {},
     "output_type": "display_data"
    },
    {
     "data": {
      "text/plain": [
       "CommitInfo(commit_url='https://huggingface.co/datasets/dariolopez/justicio-rag-embedding-qa-tmp/commit/cb68b8bf970cb46f335c393d52c06c62c9a215de', commit_message='Upload dataset', commit_description='', oid='cb68b8bf970cb46f335c393d52c06c62c9a215de', pr_url=None, pr_revision=None, pr_num=None)"
      ]
     },
     "execution_count": 23,
     "metadata": {},
     "output_type": "execute_result"
    }
   ],
   "source": [
    "dataset.push_to_hub(OUTPUT_NAME_DATASET + '-tmp-2')"
   ]
  },
  {
   "cell_type": "code",
   "execution_count": null,
   "id": "ce998236-e4dd-4df2-a88d-72275c90ea5e",
   "metadata": {},
   "outputs": [],
   "source": []
  },
  {
   "cell_type": "code",
   "execution_count": null,
   "id": "03d6d90d-118c-4904-baa8-766860f73a09",
   "metadata": {},
   "outputs": [],
   "source": []
  },
  {
   "cell_type": "code",
   "execution_count": null,
   "id": "89d29ae2-b25d-40fb-97b9-d1ea3be1d331",
   "metadata": {},
   "outputs": [],
   "source": []
  },
  {
   "cell_type": "code",
   "execution_count": null,
   "id": "b8c14150-006a-474e-8108-1d5d3f364345",
   "metadata": {},
   "outputs": [],
   "source": []
  }
 ],
 "metadata": {
  "kernelspec": {
   "display_name": "Python 3 (ipykernel)",
   "language": "python",
   "name": "python3"
  },
  "language_info": {
   "codemirror_mode": {
    "name": "ipython",
    "version": 3
   },
   "file_extension": ".py",
   "mimetype": "text/x-python",
   "name": "python",
   "nbconvert_exporter": "python",
   "pygments_lexer": "ipython3",
   "version": "3.10.14"
  }
 },
 "nbformat": 4,
 "nbformat_minor": 5
}
