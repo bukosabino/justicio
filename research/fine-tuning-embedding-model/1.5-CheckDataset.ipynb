{
 "cells": [
  {
   "cell_type": "code",
   "execution_count": 45,
   "id": "a1120c32-78d2-41c8-9f27-da9648c8e6c3",
   "metadata": {},
   "outputs": [],
   "source": [
    "from datasets import load_dataset"
   ]
  },
  {
   "cell_type": "code",
   "execution_count": 46,
   "id": "9c7ba22e-3bb2-4c36-9a8f-5fcbffa80e4c",
   "metadata": {},
   "outputs": [],
   "source": [
    "INPUT_DATASET = \"dariolopez/justicio-rag-embedding-qa-tmp-2\""
   ]
  },
  {
   "cell_type": "code",
   "execution_count": 47,
   "id": "34583617-bab8-4405-9478-cc88fef92bf1",
   "metadata": {},
   "outputs": [
    {
     "data": {
      "application/vnd.jupyter.widget-view+json": {
       "model_id": "48b3ef4d69a84a10bb19a1a1e144a113",
       "version_major": 2,
       "version_minor": 0
      },
      "text/plain": [
       "Downloading readme:   0%|          | 0.00/348 [00:00<?, ?B/s]"
      ]
     },
     "metadata": {},
     "output_type": "display_data"
    },
    {
     "data": {
      "application/vnd.jupyter.widget-view+json": {
       "model_id": "b2aaa2e1607549f0b13259a668d75732",
       "version_major": 2,
       "version_minor": 0
      },
      "text/plain": [
       "Downloading data:   0%|          | 0.00/813k [00:00<?, ?B/s]"
      ]
     },
     "metadata": {},
     "output_type": "display_data"
    },
    {
     "data": {
      "application/vnd.jupyter.widget-view+json": {
       "model_id": "8cf305f1a7a24d648e1508dae1f89cd7",
       "version_major": 2,
       "version_minor": 0
      },
      "text/plain": [
       "Generating train split:   0%|          | 0/3275 [00:00<?, ? examples/s]"
      ]
     },
     "metadata": {},
     "output_type": "display_data"
    }
   ],
   "source": [
    "dataset = load_dataset(INPUT_DATASET)"
   ]
  },
  {
   "cell_type": "code",
   "execution_count": 48,
   "id": "56bef3ca-fc75-459d-9d86-7f2a0ca872ab",
   "metadata": {},
   "outputs": [
    {
     "data": {
      "text/plain": [
       "DatasetDict({\n",
       "    train: Dataset({\n",
       "        features: ['question', 'context', 'answer'],\n",
       "        num_rows: 3275\n",
       "    })\n",
       "})"
      ]
     },
     "execution_count": 48,
     "metadata": {},
     "output_type": "execute_result"
    }
   ],
   "source": [
    "dataset"
   ]
  },
  {
   "cell_type": "code",
   "execution_count": 49,
   "id": "ad9efc20-1046-4e01-93e7-16dbefdd04be",
   "metadata": {},
   "outputs": [
    {
     "data": {
      "text/plain": [
       "Dataset({\n",
       "    features: ['question', 'context', 'answer'],\n",
       "    num_rows: 3275\n",
       "})"
      ]
     },
     "execution_count": 49,
     "metadata": {},
     "output_type": "execute_result"
    }
   ],
   "source": [
    "dataset['train']"
   ]
  },
  {
   "cell_type": "code",
   "execution_count": 50,
   "id": "2eea0ed2-56dc-40b6-b80f-1c74047747fb",
   "metadata": {},
   "outputs": [
    {
     "data": {
      "text/plain": [
       "{'question': '¿Cuál es el derecho constitucional que se reconoce en el artículo 47 de la Constitución Española?',\n",
       " 'context': 'La Constitución española (CE) reconoce, en su artículo 47, el derecho al disfrute de una vivienda digna y adecuada e impone seguidamente a los poderes públicos el deber de promover las condiciones necesarias que garanticen la igualdad en el ejercicio de los derechos y el cumplimiento de los deberes constitucionales.',\n",
       " 'answer': 'El derecho al disfrute de una vivienda digna y adecuada.'}"
      ]
     },
     "execution_count": 50,
     "metadata": {},
     "output_type": "execute_result"
    }
   ],
   "source": [
    "dataset['train'][0]"
   ]
  },
  {
   "cell_type": "markdown",
   "id": "925b5dd8-4f8f-470f-83fb-43718bebe3bd",
   "metadata": {},
   "source": [
    "# Comprobar questions/contexts/answers vacíos o pequeños"
   ]
  },
  {
   "cell_type": "code",
   "execution_count": 51,
   "id": "4b07a9c6-b9bc-4159-bdc3-31b96d657558",
   "metadata": {},
   "outputs": [],
   "source": [
    "def check_len_column(data, name_column):\n",
    "    # Calculating the mean of the contexts length\n",
    "    contexts = []\n",
    "    for d in data:\n",
    "        contexts.append(len(d[name_column]))\n",
    "    print(f\"Mean: {sum(contexts) / len(contexts)}\")\n",
    "\n",
    "    print(\"\\nElementos mayores:\")\n",
    "    # Obtener las posiciones de los 10 mayores elementos\n",
    "    posiciones = sorted(range(len(contexts)), key=lambda i: contexts[i], reverse=True)[:10]\n",
    "    \n",
    "    # Imprimir las posiciones y los valores correspondientes\n",
    "    for pos in posiciones:\n",
    "        print(f\"Posición: {pos}, Valor: {contexts[pos]}\")\n",
    "\n",
    "    print(\"\\nElementos menores:\")\n",
    "    # Obtener las posiciones de los 10 menores elementos\n",
    "    posiciones = sorted(range(len(contexts)), key=lambda i: contexts[i], reverse=False)[:10]\n",
    "    \n",
    "    # Imprimir las posiciones y los valores correspondientes\n",
    "    for pos in posiciones:\n",
    "        print(f\"Posición: {pos}, Valor: {contexts[pos]}\")"
   ]
  },
  {
   "cell_type": "code",
   "execution_count": 52,
   "id": "0668fa6f-30fd-43ec-8417-569db7f32ff2",
   "metadata": {},
   "outputs": [
    {
     "name": "stdout",
     "output_type": "stream",
     "text": [
      "Mean: 302.0741984732824\n",
      "\n",
      "Elementos mayores:\n",
      "Posición: 553, Valor: 1338\n",
      "Posición: 644, Valor: 1195\n",
      "Posición: 1772, Valor: 1138\n",
      "Posición: 308, Valor: 1135\n",
      "Posición: 2487, Valor: 1050\n",
      "Posición: 2736, Valor: 1041\n",
      "Posición: 434, Valor: 979\n",
      "Posición: 1958, Valor: 973\n",
      "Posición: 1026, Valor: 937\n",
      "Posición: 2485, Valor: 910\n",
      "\n",
      "Elementos menores:\n",
      "Posición: 306, Valor: 121\n",
      "Posición: 1792, Valor: 121\n",
      "Posición: 1996, Valor: 121\n",
      "Posición: 2091, Valor: 121\n",
      "Posición: 2115, Valor: 121\n",
      "Posición: 2412, Valor: 121\n",
      "Posición: 415, Valor: 122\n",
      "Posición: 607, Valor: 122\n",
      "Posición: 651, Valor: 122\n",
      "Posición: 706, Valor: 122\n"
     ]
    }
   ],
   "source": [
    "check_len_column(data=dataset['train'], name_column='context')"
   ]
  },
  {
   "cell_type": "code",
   "execution_count": 53,
   "id": "a455f678-5920-4d2d-9fce-0bd2768eaf89",
   "metadata": {},
   "outputs": [
    {
     "name": "stdout",
     "output_type": "stream",
     "text": [
      "Mean: 84.49404580152672\n",
      "\n",
      "Elementos mayores:\n",
      "Posición: 997, Valor: 265\n",
      "Posición: 468, Valor: 246\n",
      "Posición: 2631, Valor: 245\n",
      "Posición: 1571, Valor: 234\n",
      "Posición: 2518, Valor: 228\n",
      "Posición: 1328, Valor: 227\n",
      "Posición: 465, Valor: 225\n",
      "Posición: 1958, Valor: 225\n",
      "Posición: 2230, Valor: 223\n",
      "Posición: 1355, Valor: 220\n",
      "\n",
      "Elementos menores:\n",
      "Posición: 277, Valor: 19\n",
      "Posición: 652, Valor: 19\n",
      "Posición: 1618, Valor: 19\n",
      "Posición: 1786, Valor: 19\n",
      "Posición: 2786, Valor: 19\n",
      "Posición: 312, Valor: 20\n",
      "Posición: 1577, Valor: 23\n",
      "Posición: 147, Valor: 24\n",
      "Posición: 1121, Valor: 24\n",
      "Posición: 2846, Valor: 24\n"
     ]
    }
   ],
   "source": [
    "check_len_column(data=dataset['train'], name_column='question')"
   ]
  },
  {
   "cell_type": "code",
   "execution_count": 54,
   "id": "c1deb95c-4956-468d-b8a0-d6e6483545e4",
   "metadata": {},
   "outputs": [
    {
     "name": "stdout",
     "output_type": "stream",
     "text": [
      "Mean: 115.42076335877863\n",
      "\n",
      "Elementos mayores:\n",
      "Posición: 2897, Valor: 1015\n",
      "Posición: 644, Valor: 689\n",
      "Posición: 1648, Valor: 681\n",
      "Posición: 1390, Valor: 617\n",
      "Posición: 1406, Valor: 600\n",
      "Posición: 282, Valor: 538\n",
      "Posición: 2345, Valor: 498\n",
      "Posición: 243, Valor: 490\n",
      "Posición: 2923, Valor: 483\n",
      "Posición: 2865, Valor: 476\n",
      "\n",
      "Elementos menores:\n",
      "Posición: 1507, Valor: 1\n",
      "Posición: 228, Valor: 3\n",
      "Posición: 1036, Valor: 3\n",
      "Posición: 1957, Valor: 3\n",
      "Posición: 2839, Valor: 5\n",
      "Posición: 1275, Valor: 6\n",
      "Posición: 2930, Valor: 6\n",
      "Posición: 3148, Valor: 6\n",
      "Posición: 226, Valor: 7\n",
      "Posición: 388, Valor: 7\n"
     ]
    }
   ],
   "source": [
    "check_len_column(data=dataset['train'], name_column='answer')"
   ]
  },
  {
   "cell_type": "code",
   "execution_count": 55,
   "id": "20c12093-36a6-4e47-ac26-b623a9fd0ca6",
   "metadata": {},
   "outputs": [
    {
     "data": {
      "text/plain": [
       "{'question': '¿Cuántos representantes tendrá una Junta de Personal si hay entre 50 y 100 funcionarios?',\n",
       " 'context': 'Cada Junta de Personal se compone de un número de representantes, en función del número de funcionarios de la Unidad electoral correspondiente, de acuerdo con la siguiente escala, en coherencia con lo establecido en el Estatuto de los Trabajadores: De 50 a 100 funcionarios: 5.',\n",
       " 'answer': '5'}"
      ]
     },
     "execution_count": 55,
     "metadata": {},
     "output_type": "execute_result"
    }
   ],
   "source": [
    "dataset['train'][1507]"
   ]
  },
  {
   "cell_type": "code",
   "execution_count": null,
   "id": "3e45c728-972d-44e1-a9ec-183777032c7f",
   "metadata": {},
   "outputs": [],
   "source": []
  }
 ],
 "metadata": {
  "kernelspec": {
   "display_name": "Python 3 (ipykernel)",
   "language": "python",
   "name": "python3"
  },
  "language_info": {
   "codemirror_mode": {
    "name": "ipython",
    "version": 3
   },
   "file_extension": ".py",
   "mimetype": "text/x-python",
   "name": "python",
   "nbconvert_exporter": "python",
   "pygments_lexer": "ipython3",
   "version": "3.10.14"
  }
 },
 "nbformat": 4,
 "nbformat_minor": 5
}
